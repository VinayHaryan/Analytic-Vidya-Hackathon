{
 "cells": [
  {
   "cell_type": "code",
   "execution_count": 39,
   "metadata": {},
   "outputs": [],
   "source": [
    "import numpy as np\n",
    "import pandas as pd\n",
    "import warnings\n",
    "warnings.filterwarnings('ignore')\n",
    "from sklearn.preprocessing import StandardScaler\n",
    "from xgboost.sklearn import XGBClassifier\n",
    "from sklearn.model_selection import KFold, train_test_split\n",
    "from sklearn.neighbors import KNeighborsClassifier\n",
    "from sklearn.ensemble import RandomForestClassifier\n",
    "from sklearn.linear_model import LogisticRegression\n",
    "from sklearn.metrics import roc_auc_score"
   ]
  },
  {
   "cell_type": "code",
   "execution_count": 2,
   "metadata": {},
   "outputs": [
    {
     "data": {
      "text/html": [
       "<div>\n",
       "<style scoped>\n",
       "    .dataframe tbody tr th:only-of-type {\n",
       "        vertical-align: middle;\n",
       "    }\n",
       "\n",
       "    .dataframe tbody tr th {\n",
       "        vertical-align: top;\n",
       "    }\n",
       "\n",
       "    .dataframe thead th {\n",
       "        text-align: right;\n",
       "    }\n",
       "</style>\n",
       "<table border=\"1\" class=\"dataframe\">\n",
       "  <thead>\n",
       "    <tr style=\"text-align: right;\">\n",
       "      <th></th>\n",
       "      <th>ID</th>\n",
       "      <th>SELF-INDICATOR</th>\n",
       "      <th>MATCH-TYPE</th>\n",
       "      <th>ACCT-TYPE</th>\n",
       "      <th>CONTRIBUTOR-TYPE</th>\n",
       "      <th>DATE-REPORTED</th>\n",
       "      <th>OWNERSHIP-IND</th>\n",
       "      <th>ACCOUNT-STATUS</th>\n",
       "      <th>DISBURSED-DT</th>\n",
       "      <th>CLOSE-DT</th>\n",
       "      <th>...</th>\n",
       "      <th>INSTALLMENT-FREQUENCY</th>\n",
       "      <th>OVERDUE-AMT</th>\n",
       "      <th>WRITE-OFF-AMT</th>\n",
       "      <th>ASSET_CLASS</th>\n",
       "      <th>REPORTED DATE - HIST</th>\n",
       "      <th>DPD - HIST</th>\n",
       "      <th>CUR BAL - HIST</th>\n",
       "      <th>AMT OVERDUE - HIST</th>\n",
       "      <th>AMT PAID - HIST</th>\n",
       "      <th>TENURE</th>\n",
       "    </tr>\n",
       "  </thead>\n",
       "  <tbody>\n",
       "    <tr>\n",
       "      <td>0</td>\n",
       "      <td>1</td>\n",
       "      <td>False</td>\n",
       "      <td>PRIMARY</td>\n",
       "      <td>Overdraft</td>\n",
       "      <td>NAB</td>\n",
       "      <td>2018-04-30</td>\n",
       "      <td>Individual</td>\n",
       "      <td>Delinquent</td>\n",
       "      <td>2015-10-05</td>\n",
       "      <td>NaN</td>\n",
       "      <td>...</td>\n",
       "      <td>NaN</td>\n",
       "      <td>37,873</td>\n",
       "      <td>0.0</td>\n",
       "      <td>Standard</td>\n",
       "      <td>20180430,20180331,</td>\n",
       "      <td>030000</td>\n",
       "      <td>37873,12820,</td>\n",
       "      <td>37873,,</td>\n",
       "      <td>,,</td>\n",
       "      <td>NaN</td>\n",
       "    </tr>\n",
       "    <tr>\n",
       "      <td>1</td>\n",
       "      <td>1</td>\n",
       "      <td>False</td>\n",
       "      <td>PRIMARY</td>\n",
       "      <td>Auto Loan (Personal)</td>\n",
       "      <td>NAB</td>\n",
       "      <td>2019-12-31</td>\n",
       "      <td>Individual</td>\n",
       "      <td>Active</td>\n",
       "      <td>2018-03-19</td>\n",
       "      <td>NaN</td>\n",
       "      <td>...</td>\n",
       "      <td>F03</td>\n",
       "      <td>NaN</td>\n",
       "      <td>0.0</td>\n",
       "      <td>Standard</td>\n",
       "      <td>20191231,20191130,20191031,20190930,20190831,2...</td>\n",
       "      <td>0000000000000000000000000000000000000000000000...</td>\n",
       "      <td>20797,21988,23174,24341,25504,26648,27780,2891...</td>\n",
       "      <td>,,,,,,,,,,,,,,,,,,,,1452,,</td>\n",
       "      <td>,,,,,,,,,,,,,,,,,,,,,,</td>\n",
       "      <td>36.0</td>\n",
       "    </tr>\n",
       "    <tr>\n",
       "      <td>2</td>\n",
       "      <td>1</td>\n",
       "      <td>True</td>\n",
       "      <td>PRIMARY</td>\n",
       "      <td>Tractor Loan</td>\n",
       "      <td>NBF</td>\n",
       "      <td>2020-01-31</td>\n",
       "      <td>Individual</td>\n",
       "      <td>Active</td>\n",
       "      <td>2019-08-30</td>\n",
       "      <td>NaN</td>\n",
       "      <td>...</td>\n",
       "      <td>NaN</td>\n",
       "      <td>0</td>\n",
       "      <td>0.0</td>\n",
       "      <td>NaN</td>\n",
       "      <td>20200131,20191231,20191130,20191031,20190930,2...</td>\n",
       "      <td>000000000000000000</td>\n",
       "      <td>116087,116087,145000,145000,145000,145000,</td>\n",
       "      <td>0,0,0,0,0,0,</td>\n",
       "      <td>,,,,,,</td>\n",
       "      <td>NaN</td>\n",
       "    </tr>\n",
       "    <tr>\n",
       "      <td>3</td>\n",
       "      <td>1</td>\n",
       "      <td>True</td>\n",
       "      <td>PRIMARY</td>\n",
       "      <td>Auto Loan (Personal)</td>\n",
       "      <td>NBF</td>\n",
       "      <td>2017-09-30</td>\n",
       "      <td>Individual</td>\n",
       "      <td>Closed</td>\n",
       "      <td>2013-09-27</td>\n",
       "      <td>2017-09-21 00:00:00</td>\n",
       "      <td>...</td>\n",
       "      <td>NaN</td>\n",
       "      <td>0</td>\n",
       "      <td>0.0</td>\n",
       "      <td>NaN</td>\n",
       "      <td>20170930,20170801,20170731,20170630,20170531,2...</td>\n",
       "      <td>000DDD0270260270260270240270270000320000000000...</td>\n",
       "      <td>0,,15925,23754,31494,39147,46713,54194,61590,6...</td>\n",
       "      <td>0,,1014,1014,1014,1014,1014,1014,1014,983,0,92...</td>\n",
       "      <td>,,,,,,,,,,,,,,,,,,,,,,,,,,,,,,,,,,,,,</td>\n",
       "      <td>NaN</td>\n",
       "    </tr>\n",
       "    <tr>\n",
       "      <td>4</td>\n",
       "      <td>1</td>\n",
       "      <td>True</td>\n",
       "      <td>PRIMARY</td>\n",
       "      <td>Tractor Loan</td>\n",
       "      <td>NBF</td>\n",
       "      <td>2016-02-29</td>\n",
       "      <td>Individual</td>\n",
       "      <td>Closed</td>\n",
       "      <td>2012-02-10</td>\n",
       "      <td>2016-02-01 00:00:00</td>\n",
       "      <td>...</td>\n",
       "      <td>NaN</td>\n",
       "      <td>0</td>\n",
       "      <td>0.0</td>\n",
       "      <td>NaN</td>\n",
       "      <td>20160229,20160131,20151231,20151130,20151031,2...</td>\n",
       "      <td>0000000000000000000000000000000000000000000000...</td>\n",
       "      <td>0,0,23658,23321,22989,46321,45662,45012,68030,...</td>\n",
       "      <td>0,0,0,0,0,0,0,0,0,0,0,0,0,0,0,0,0,0,0,0,0,0,0,...</td>\n",
       "      <td>,,,,,,,,,,,,,,,,,,,,,,,,,,,,,,,,,,,,,</td>\n",
       "      <td>NaN</td>\n",
       "    </tr>\n",
       "  </tbody>\n",
       "</table>\n",
       "<p>5 rows × 25 columns</p>\n",
       "</div>"
      ],
      "text/plain": [
       "   ID  SELF-INDICATOR MATCH-TYPE             ACCT-TYPE CONTRIBUTOR-TYPE  \\\n",
       "0   1           False    PRIMARY             Overdraft              NAB   \n",
       "1   1           False    PRIMARY  Auto Loan (Personal)              NAB   \n",
       "2   1            True    PRIMARY          Tractor Loan              NBF   \n",
       "3   1            True    PRIMARY  Auto Loan (Personal)              NBF   \n",
       "4   1            True    PRIMARY          Tractor Loan              NBF   \n",
       "\n",
       "  DATE-REPORTED OWNERSHIP-IND ACCOUNT-STATUS DISBURSED-DT  \\\n",
       "0    2018-04-30    Individual     Delinquent   2015-10-05   \n",
       "1    2019-12-31    Individual         Active   2018-03-19   \n",
       "2    2020-01-31    Individual         Active   2019-08-30   \n",
       "3    2017-09-30    Individual         Closed   2013-09-27   \n",
       "4    2016-02-29    Individual         Closed   2012-02-10   \n",
       "\n",
       "              CLOSE-DT  ... INSTALLMENT-FREQUENCY OVERDUE-AMT WRITE-OFF-AMT  \\\n",
       "0                  NaN  ...                   NaN      37,873           0.0   \n",
       "1                  NaN  ...                   F03         NaN           0.0   \n",
       "2                  NaN  ...                   NaN           0           0.0   \n",
       "3  2017-09-21 00:00:00  ...                   NaN           0           0.0   \n",
       "4  2016-02-01 00:00:00  ...                   NaN           0           0.0   \n",
       "\n",
       "  ASSET_CLASS                               REPORTED DATE - HIST  \\\n",
       "0    Standard                                 20180430,20180331,   \n",
       "1    Standard  20191231,20191130,20191031,20190930,20190831,2...   \n",
       "2         NaN  20200131,20191231,20191130,20191031,20190930,2...   \n",
       "3         NaN  20170930,20170801,20170731,20170630,20170531,2...   \n",
       "4         NaN  20160229,20160131,20151231,20151130,20151031,2...   \n",
       "\n",
       "                                          DPD - HIST  \\\n",
       "0                                             030000   \n",
       "1  0000000000000000000000000000000000000000000000...   \n",
       "2                                 000000000000000000   \n",
       "3  000DDD0270260270260270240270270000320000000000...   \n",
       "4  0000000000000000000000000000000000000000000000...   \n",
       "\n",
       "                                      CUR BAL - HIST  \\\n",
       "0                                       37873,12820,   \n",
       "1  20797,21988,23174,24341,25504,26648,27780,2891...   \n",
       "2         116087,116087,145000,145000,145000,145000,   \n",
       "3  0,,15925,23754,31494,39147,46713,54194,61590,6...   \n",
       "4  0,0,23658,23321,22989,46321,45662,45012,68030,...   \n",
       "\n",
       "                                  AMT OVERDUE - HIST  \\\n",
       "0                                            37873,,   \n",
       "1                         ,,,,,,,,,,,,,,,,,,,,1452,,   \n",
       "2                                       0,0,0,0,0,0,   \n",
       "3  0,,1014,1014,1014,1014,1014,1014,1014,983,0,92...   \n",
       "4  0,0,0,0,0,0,0,0,0,0,0,0,0,0,0,0,0,0,0,0,0,0,0,...   \n",
       "\n",
       "                         AMT PAID - HIST TENURE  \n",
       "0                                     ,,    NaN  \n",
       "1                 ,,,,,,,,,,,,,,,,,,,,,,   36.0  \n",
       "2                                 ,,,,,,    NaN  \n",
       "3  ,,,,,,,,,,,,,,,,,,,,,,,,,,,,,,,,,,,,,    NaN  \n",
       "4  ,,,,,,,,,,,,,,,,,,,,,,,,,,,,,,,,,,,,,    NaN  \n",
       "\n",
       "[5 rows x 25 columns]"
      ]
     },
     "execution_count": 2,
     "metadata": {},
     "output_type": "execute_result"
    }
   ],
   "source": [
    "train_bureau = pd.read_excel('C:/Users/user/Downloads/Analytic Vidya Hackthon/Train/Train/train_bureau.xlsx')\n",
    "train_bureau.head()"
   ]
  },
  {
   "cell_type": "code",
   "execution_count": 3,
   "metadata": {},
   "outputs": [
    {
     "data": {
      "text/html": [
       "<div>\n",
       "<style scoped>\n",
       "    .dataframe tbody tr th:only-of-type {\n",
       "        vertical-align: middle;\n",
       "    }\n",
       "\n",
       "    .dataframe tbody tr th {\n",
       "        vertical-align: top;\n",
       "    }\n",
       "\n",
       "    .dataframe thead th {\n",
       "        text-align: right;\n",
       "    }\n",
       "</style>\n",
       "<table border=\"1\" class=\"dataframe\">\n",
       "  <thead>\n",
       "    <tr style=\"text-align: right;\">\n",
       "      <th></th>\n",
       "      <th>ID</th>\n",
       "      <th>Frequency</th>\n",
       "      <th>InstlmentMode</th>\n",
       "      <th>LoanStatus</th>\n",
       "      <th>PaymentMode</th>\n",
       "      <th>BranchID</th>\n",
       "      <th>Area</th>\n",
       "      <th>Tenure</th>\n",
       "      <th>AssetCost</th>\n",
       "      <th>AmountFinance</th>\n",
       "      <th>...</th>\n",
       "      <th>ManufacturerID</th>\n",
       "      <th>SupplierID</th>\n",
       "      <th>LTV</th>\n",
       "      <th>SEX</th>\n",
       "      <th>AGE</th>\n",
       "      <th>MonthlyIncome</th>\n",
       "      <th>City</th>\n",
       "      <th>State</th>\n",
       "      <th>ZiPCODE</th>\n",
       "      <th>Top-up Month</th>\n",
       "    </tr>\n",
       "  </thead>\n",
       "  <tbody>\n",
       "    <tr>\n",
       "      <td>0</td>\n",
       "      <td>1</td>\n",
       "      <td>Monthly</td>\n",
       "      <td>Arrear</td>\n",
       "      <td>Closed</td>\n",
       "      <td>PDC_E</td>\n",
       "      <td>1</td>\n",
       "      <td>NaN</td>\n",
       "      <td>48</td>\n",
       "      <td>450000</td>\n",
       "      <td>275000.0</td>\n",
       "      <td>...</td>\n",
       "      <td>1568</td>\n",
       "      <td>21946</td>\n",
       "      <td>61.11</td>\n",
       "      <td>M</td>\n",
       "      <td>49.0</td>\n",
       "      <td>35833.33</td>\n",
       "      <td>RAISEN</td>\n",
       "      <td>MADHYA PRADESH</td>\n",
       "      <td>464993.0</td>\n",
       "      <td>&gt; 48 Months</td>\n",
       "    </tr>\n",
       "    <tr>\n",
       "      <td>1</td>\n",
       "      <td>2</td>\n",
       "      <td>Monthly</td>\n",
       "      <td>Advance</td>\n",
       "      <td>Closed</td>\n",
       "      <td>PDC</td>\n",
       "      <td>333</td>\n",
       "      <td>BHOPAL</td>\n",
       "      <td>47</td>\n",
       "      <td>485000</td>\n",
       "      <td>350000.0</td>\n",
       "      <td>...</td>\n",
       "      <td>1062</td>\n",
       "      <td>34802</td>\n",
       "      <td>70.00</td>\n",
       "      <td>M</td>\n",
       "      <td>23.0</td>\n",
       "      <td>666.67</td>\n",
       "      <td>SEHORE</td>\n",
       "      <td>MADHYA PRADESH</td>\n",
       "      <td>466001.0</td>\n",
       "      <td>No Top-up Service</td>\n",
       "    </tr>\n",
       "    <tr>\n",
       "      <td>2</td>\n",
       "      <td>3</td>\n",
       "      <td>Quatrly</td>\n",
       "      <td>Arrear</td>\n",
       "      <td>Active</td>\n",
       "      <td>Direct Debit</td>\n",
       "      <td>1</td>\n",
       "      <td>NaN</td>\n",
       "      <td>68</td>\n",
       "      <td>690000</td>\n",
       "      <td>519728.0</td>\n",
       "      <td>...</td>\n",
       "      <td>1060</td>\n",
       "      <td>127335</td>\n",
       "      <td>69.77</td>\n",
       "      <td>M</td>\n",
       "      <td>39.0</td>\n",
       "      <td>45257.00</td>\n",
       "      <td>BHOPAL</td>\n",
       "      <td>MADHYA PRADESH</td>\n",
       "      <td>462030.0</td>\n",
       "      <td>12-18 Months</td>\n",
       "    </tr>\n",
       "    <tr>\n",
       "      <td>3</td>\n",
       "      <td>7</td>\n",
       "      <td>Monthly</td>\n",
       "      <td>Advance</td>\n",
       "      <td>Closed</td>\n",
       "      <td>Billed</td>\n",
       "      <td>125</td>\n",
       "      <td>GUNA</td>\n",
       "      <td>48</td>\n",
       "      <td>480000</td>\n",
       "      <td>400000.0</td>\n",
       "      <td>...</td>\n",
       "      <td>1060</td>\n",
       "      <td>25094</td>\n",
       "      <td>80.92</td>\n",
       "      <td>M</td>\n",
       "      <td>24.0</td>\n",
       "      <td>20833.33</td>\n",
       "      <td>ASHOK NAGAR</td>\n",
       "      <td>MADHYA PRADESH</td>\n",
       "      <td>473335.0</td>\n",
       "      <td>&gt; 48 Months</td>\n",
       "    </tr>\n",
       "    <tr>\n",
       "      <td>4</td>\n",
       "      <td>8</td>\n",
       "      <td>Monthly</td>\n",
       "      <td>Arrear</td>\n",
       "      <td>Closed</td>\n",
       "      <td>Billed</td>\n",
       "      <td>152</td>\n",
       "      <td>BILASPUR</td>\n",
       "      <td>44</td>\n",
       "      <td>619265</td>\n",
       "      <td>440000.0</td>\n",
       "      <td>...</td>\n",
       "      <td>1046</td>\n",
       "      <td>21853</td>\n",
       "      <td>71.05</td>\n",
       "      <td>M</td>\n",
       "      <td>56.0</td>\n",
       "      <td>27313.67</td>\n",
       "      <td>BILASPUR</td>\n",
       "      <td>CHATTISGARH</td>\n",
       "      <td>495442.0</td>\n",
       "      <td>36-48 Months</td>\n",
       "    </tr>\n",
       "  </tbody>\n",
       "</table>\n",
       "<p>5 rows × 26 columns</p>\n",
       "</div>"
      ],
      "text/plain": [
       "   ID Frequency InstlmentMode LoanStatus   PaymentMode  BranchID      Area  \\\n",
       "0   1   Monthly        Arrear     Closed         PDC_E         1       NaN   \n",
       "1   2   Monthly       Advance     Closed           PDC       333    BHOPAL   \n",
       "2   3   Quatrly        Arrear     Active  Direct Debit         1       NaN   \n",
       "3   7   Monthly       Advance     Closed        Billed       125      GUNA   \n",
       "4   8   Monthly        Arrear     Closed        Billed       152  BILASPUR   \n",
       "\n",
       "   Tenure  AssetCost  AmountFinance  ...  ManufacturerID  SupplierID    LTV  \\\n",
       "0      48     450000       275000.0  ...            1568       21946  61.11   \n",
       "1      47     485000       350000.0  ...            1062       34802  70.00   \n",
       "2      68     690000       519728.0  ...            1060      127335  69.77   \n",
       "3      48     480000       400000.0  ...            1060       25094  80.92   \n",
       "4      44     619265       440000.0  ...            1046       21853  71.05   \n",
       "\n",
       "  SEX   AGE  MonthlyIncome         City           State   ZiPCODE  \\\n",
       "0   M  49.0       35833.33       RAISEN  MADHYA PRADESH  464993.0   \n",
       "1   M  23.0         666.67       SEHORE  MADHYA PRADESH  466001.0   \n",
       "2   M  39.0       45257.00       BHOPAL  MADHYA PRADESH  462030.0   \n",
       "3   M  24.0       20833.33  ASHOK NAGAR  MADHYA PRADESH  473335.0   \n",
       "4   M  56.0       27313.67     BILASPUR     CHATTISGARH  495442.0   \n",
       "\n",
       "        Top-up Month  \n",
       "0        > 48 Months  \n",
       "1  No Top-up Service  \n",
       "2       12-18 Months  \n",
       "3        > 48 Months  \n",
       "4       36-48 Months  \n",
       "\n",
       "[5 rows x 26 columns]"
      ]
     },
     "execution_count": 3,
     "metadata": {},
     "output_type": "execute_result"
    }
   ],
   "source": [
    "train_data = pd.read_excel('C:/Users/user/Downloads/Analytic Vidya Hackthon/Train/Train/train_Data.xlsx')\n",
    "train_data.head()"
   ]
  },
  {
   "cell_type": "code",
   "execution_count": 4,
   "metadata": {},
   "outputs": [
    {
     "data": {
      "text/html": [
       "<div>\n",
       "<style scoped>\n",
       "    .dataframe tbody tr th:only-of-type {\n",
       "        vertical-align: middle;\n",
       "    }\n",
       "\n",
       "    .dataframe tbody tr th {\n",
       "        vertical-align: top;\n",
       "    }\n",
       "\n",
       "    .dataframe thead th {\n",
       "        text-align: right;\n",
       "    }\n",
       "</style>\n",
       "<table border=\"1\" class=\"dataframe\">\n",
       "  <thead>\n",
       "    <tr style=\"text-align: right;\">\n",
       "      <th></th>\n",
       "      <th>ID</th>\n",
       "      <th>SELF-INDICATOR</th>\n",
       "      <th>MATCH-TYPE</th>\n",
       "      <th>ACCT-TYPE</th>\n",
       "      <th>CONTRIBUTOR-TYPE</th>\n",
       "      <th>DATE-REPORTED</th>\n",
       "      <th>OWNERSHIP-IND</th>\n",
       "      <th>ACCOUNT-STATUS</th>\n",
       "      <th>DISBURSED-DT</th>\n",
       "      <th>CLOSE-DT</th>\n",
       "      <th>...</th>\n",
       "      <th>INSTALLMENT-FREQUENCY</th>\n",
       "      <th>OVERDUE-AMT</th>\n",
       "      <th>WRITE-OFF-AMT</th>\n",
       "      <th>ASSET_CLASS</th>\n",
       "      <th>REPORTED DATE - HIST</th>\n",
       "      <th>DPD - HIST</th>\n",
       "      <th>CUR BAL - HIST</th>\n",
       "      <th>AMT OVERDUE - HIST</th>\n",
       "      <th>AMT PAID - HIST</th>\n",
       "      <th>TENURE</th>\n",
       "    </tr>\n",
       "  </thead>\n",
       "  <tbody>\n",
       "    <tr>\n",
       "      <td>0</td>\n",
       "      <td>4</td>\n",
       "      <td>False</td>\n",
       "      <td>PRIMARY</td>\n",
       "      <td>Credit Card</td>\n",
       "      <td>CCC</td>\n",
       "      <td>2019-11-17</td>\n",
       "      <td>Individual</td>\n",
       "      <td>Active</td>\n",
       "      <td>2019-09-26</td>\n",
       "      <td>NaN</td>\n",
       "      <td>...</td>\n",
       "      <td>NaN</td>\n",
       "      <td>0</td>\n",
       "      <td>0.0</td>\n",
       "      <td>NaN</td>\n",
       "      <td>20191117,</td>\n",
       "      <td>000</td>\n",
       "      <td>589,</td>\n",
       "      <td>0,</td>\n",
       "      <td>0,</td>\n",
       "      <td>NaN</td>\n",
       "    </tr>\n",
       "    <tr>\n",
       "      <td>1</td>\n",
       "      <td>4</td>\n",
       "      <td>False</td>\n",
       "      <td>PRIMARY</td>\n",
       "      <td>Housing Loan</td>\n",
       "      <td>HFC</td>\n",
       "      <td>2019-10-31</td>\n",
       "      <td>Joint</td>\n",
       "      <td>Active</td>\n",
       "      <td>2017-06-21</td>\n",
       "      <td>NaN</td>\n",
       "      <td>...</td>\n",
       "      <td>F03</td>\n",
       "      <td>0</td>\n",
       "      <td>0.0</td>\n",
       "      <td>NaN</td>\n",
       "      <td>20191031,20190930,20190831,20190731,20190630,2...</td>\n",
       "      <td>0000000000000000000000000000000000000000000000...</td>\n",
       "      <td>2107227,2122196,2136877,2151448,2165910,218026...</td>\n",
       "      <td>0,0,0,0,0,0,0,0,0,0,0,0,0,0,0,0,0,0,0,0,0,0,0,...</td>\n",
       "      <td>,,,,,,,,,,,,,,,,,,,,,,,,,,,,,</td>\n",
       "      <td>120.0</td>\n",
       "    </tr>\n",
       "    <tr>\n",
       "      <td>2</td>\n",
       "      <td>4</td>\n",
       "      <td>False</td>\n",
       "      <td>PRIMARY</td>\n",
       "      <td>Property Loan</td>\n",
       "      <td>HFC</td>\n",
       "      <td>2019-10-31</td>\n",
       "      <td>Joint</td>\n",
       "      <td>Active</td>\n",
       "      <td>2017-06-27</td>\n",
       "      <td>NaN</td>\n",
       "      <td>...</td>\n",
       "      <td>F03</td>\n",
       "      <td>0</td>\n",
       "      <td>0.0</td>\n",
       "      <td>NaN</td>\n",
       "      <td>20191031,20190930,20190831,20190731,20190630,2...</td>\n",
       "      <td>0000000000000000000000000000000000000000000000...</td>\n",
       "      <td>83458,84051,84632,85209,85781,86349,86913,8747...</td>\n",
       "      <td>0,0,0,0,0,0,0,0,0,0,0,0,0,0,0,0,0,0,0,0,0,0,0,...</td>\n",
       "      <td>,,,,,,,,,,,,,,,,,,,,,,,,,,,,,</td>\n",
       "      <td>120.0</td>\n",
       "    </tr>\n",
       "    <tr>\n",
       "      <td>3</td>\n",
       "      <td>4</td>\n",
       "      <td>True</td>\n",
       "      <td>PRIMARY</td>\n",
       "      <td>Tractor Loan</td>\n",
       "      <td>NBF</td>\n",
       "      <td>2015-10-31</td>\n",
       "      <td>Individual</td>\n",
       "      <td>Closed</td>\n",
       "      <td>2011-12-29</td>\n",
       "      <td>2015-10-13 00:00:00</td>\n",
       "      <td>...</td>\n",
       "      <td>NaN</td>\n",
       "      <td>0</td>\n",
       "      <td>0.0</td>\n",
       "      <td>NaN</td>\n",
       "      <td>20151031,20150901,20150831,20150731,20150630,2...</td>\n",
       "      <td>000DDD0270000000000000000000000000000000000000...</td>\n",
       "      <td>0,,21548,32097,42500,52758,62874,72850,82688,9...</td>\n",
       "      <td>0,,11000,0,0,0,0,0,0,0,0,0,0,0,0,0,0,0,0,0,0,0...</td>\n",
       "      <td>,,,,,,,,,,,,,,,,,,,,,,,,,,,,,,,,,,,,,</td>\n",
       "      <td>NaN</td>\n",
       "    </tr>\n",
       "    <tr>\n",
       "      <td>4</td>\n",
       "      <td>5</td>\n",
       "      <td>False</td>\n",
       "      <td>PRIMARY</td>\n",
       "      <td>Gold Loan</td>\n",
       "      <td>PRB</td>\n",
       "      <td>2017-08-31</td>\n",
       "      <td>Individual</td>\n",
       "      <td>Closed</td>\n",
       "      <td>2016-05-04</td>\n",
       "      <td>2017-06-15 00:00:00</td>\n",
       "      <td>...</td>\n",
       "      <td>NaN</td>\n",
       "      <td>0</td>\n",
       "      <td>0.0</td>\n",
       "      <td>NaN</td>\n",
       "      <td>20170630,20170501,20170401,20170331,20170201,2...</td>\n",
       "      <td>000DDDDDD000DDDDDD000DDDDDD000DDDDDD000</td>\n",
       "      <td>0,,,25846,,,25846,,,25846,,,25846,</td>\n",
       "      <td>0,,,0,,,0,,,0,,,0</td>\n",
       "      <td>,,,,,,,,,,,,,,</td>\n",
       "      <td>NaN</td>\n",
       "    </tr>\n",
       "  </tbody>\n",
       "</table>\n",
       "<p>5 rows × 25 columns</p>\n",
       "</div>"
      ],
      "text/plain": [
       "   ID  SELF-INDICATOR MATCH-TYPE      ACCT-TYPE CONTRIBUTOR-TYPE  \\\n",
       "0   4           False    PRIMARY    Credit Card              CCC   \n",
       "1   4           False    PRIMARY   Housing Loan              HFC   \n",
       "2   4           False    PRIMARY  Property Loan              HFC   \n",
       "3   4            True    PRIMARY   Tractor Loan              NBF   \n",
       "4   5           False    PRIMARY      Gold Loan              PRB   \n",
       "\n",
       "  DATE-REPORTED OWNERSHIP-IND ACCOUNT-STATUS DISBURSED-DT  \\\n",
       "0    2019-11-17    Individual         Active   2019-09-26   \n",
       "1    2019-10-31         Joint         Active   2017-06-21   \n",
       "2    2019-10-31         Joint         Active   2017-06-27   \n",
       "3    2015-10-31    Individual         Closed   2011-12-29   \n",
       "4    2017-08-31    Individual         Closed   2016-05-04   \n",
       "\n",
       "              CLOSE-DT  ... INSTALLMENT-FREQUENCY OVERDUE-AMT WRITE-OFF-AMT  \\\n",
       "0                  NaN  ...                   NaN           0           0.0   \n",
       "1                  NaN  ...                   F03           0           0.0   \n",
       "2                  NaN  ...                   F03           0           0.0   \n",
       "3  2015-10-13 00:00:00  ...                   NaN           0           0.0   \n",
       "4  2017-06-15 00:00:00  ...                   NaN           0           0.0   \n",
       "\n",
       "  ASSET_CLASS                               REPORTED DATE - HIST  \\\n",
       "0         NaN                                          20191117,   \n",
       "1         NaN  20191031,20190930,20190831,20190731,20190630,2...   \n",
       "2         NaN  20191031,20190930,20190831,20190731,20190630,2...   \n",
       "3         NaN  20151031,20150901,20150831,20150731,20150630,2...   \n",
       "4         NaN  20170630,20170501,20170401,20170331,20170201,2...   \n",
       "\n",
       "                                          DPD - HIST  \\\n",
       "0                                                000   \n",
       "1  0000000000000000000000000000000000000000000000...   \n",
       "2  0000000000000000000000000000000000000000000000...   \n",
       "3  000DDD0270000000000000000000000000000000000000...   \n",
       "4            000DDDDDD000DDDDDD000DDDDDD000DDDDDD000   \n",
       "\n",
       "                                      CUR BAL - HIST  \\\n",
       "0                                               589,   \n",
       "1  2107227,2122196,2136877,2151448,2165910,218026...   \n",
       "2  83458,84051,84632,85209,85781,86349,86913,8747...   \n",
       "3  0,,21548,32097,42500,52758,62874,72850,82688,9...   \n",
       "4                 0,,,25846,,,25846,,,25846,,,25846,   \n",
       "\n",
       "                                  AMT OVERDUE - HIST  \\\n",
       "0                                                 0,   \n",
       "1  0,0,0,0,0,0,0,0,0,0,0,0,0,0,0,0,0,0,0,0,0,0,0,...   \n",
       "2  0,0,0,0,0,0,0,0,0,0,0,0,0,0,0,0,0,0,0,0,0,0,0,...   \n",
       "3  0,,11000,0,0,0,0,0,0,0,0,0,0,0,0,0,0,0,0,0,0,0...   \n",
       "4                                  0,,,0,,,0,,,0,,,0   \n",
       "\n",
       "                         AMT PAID - HIST TENURE  \n",
       "0                                     0,    NaN  \n",
       "1          ,,,,,,,,,,,,,,,,,,,,,,,,,,,,,  120.0  \n",
       "2          ,,,,,,,,,,,,,,,,,,,,,,,,,,,,,  120.0  \n",
       "3  ,,,,,,,,,,,,,,,,,,,,,,,,,,,,,,,,,,,,,    NaN  \n",
       "4                         ,,,,,,,,,,,,,,    NaN  \n",
       "\n",
       "[5 rows x 25 columns]"
      ]
     },
     "execution_count": 4,
     "metadata": {},
     "output_type": "execute_result"
    }
   ],
   "source": [
    "test_bureau = pd.read_excel('C:/Users/user/Downloads/Analytic Vidya Hackthon/Test/test_bureau.xlsx')\n",
    "test_bureau.head()"
   ]
  },
  {
   "cell_type": "code",
   "execution_count": 5,
   "metadata": {},
   "outputs": [
    {
     "data": {
      "text/html": [
       "<div>\n",
       "<style scoped>\n",
       "    .dataframe tbody tr th:only-of-type {\n",
       "        vertical-align: middle;\n",
       "    }\n",
       "\n",
       "    .dataframe tbody tr th {\n",
       "        vertical-align: top;\n",
       "    }\n",
       "\n",
       "    .dataframe thead th {\n",
       "        text-align: right;\n",
       "    }\n",
       "</style>\n",
       "<table border=\"1\" class=\"dataframe\">\n",
       "  <thead>\n",
       "    <tr style=\"text-align: right;\">\n",
       "      <th></th>\n",
       "      <th>ID</th>\n",
       "      <th>Frequency</th>\n",
       "      <th>InstlmentMode</th>\n",
       "      <th>LoanStatus</th>\n",
       "      <th>PaymentMode</th>\n",
       "      <th>BranchID</th>\n",
       "      <th>Area</th>\n",
       "      <th>Tenure</th>\n",
       "      <th>AssetCost</th>\n",
       "      <th>AmountFinance</th>\n",
       "      <th>...</th>\n",
       "      <th>AssetID</th>\n",
       "      <th>ManufacturerID</th>\n",
       "      <th>SupplierID</th>\n",
       "      <th>LTV</th>\n",
       "      <th>SEX</th>\n",
       "      <th>AGE</th>\n",
       "      <th>MonthlyIncome</th>\n",
       "      <th>City</th>\n",
       "      <th>State</th>\n",
       "      <th>ZiPCODE</th>\n",
       "    </tr>\n",
       "  </thead>\n",
       "  <tbody>\n",
       "    <tr>\n",
       "      <td>0</td>\n",
       "      <td>4</td>\n",
       "      <td>Monthly</td>\n",
       "      <td>Advance</td>\n",
       "      <td>Closed</td>\n",
       "      <td>PDC_E</td>\n",
       "      <td>2</td>\n",
       "      <td>GUNA</td>\n",
       "      <td>46</td>\n",
       "      <td>480000</td>\n",
       "      <td>365000.0</td>\n",
       "      <td>...</td>\n",
       "      <td>3524747</td>\n",
       "      <td>1046.0</td>\n",
       "      <td>22354</td>\n",
       "      <td>75.83</td>\n",
       "      <td>M</td>\n",
       "      <td>50.0</td>\n",
       "      <td>32069.00</td>\n",
       "      <td>GUNA</td>\n",
       "      <td>MADHYA PRADESH</td>\n",
       "      <td>473001.0</td>\n",
       "    </tr>\n",
       "    <tr>\n",
       "      <td>1</td>\n",
       "      <td>5</td>\n",
       "      <td>Monthly</td>\n",
       "      <td>Advance</td>\n",
       "      <td>Closed</td>\n",
       "      <td>PDC</td>\n",
       "      <td>2</td>\n",
       "      <td>GUNA</td>\n",
       "      <td>45</td>\n",
       "      <td>480000</td>\n",
       "      <td>285000.0</td>\n",
       "      <td>...</td>\n",
       "      <td>4985862</td>\n",
       "      <td>1046.0</td>\n",
       "      <td>22354</td>\n",
       "      <td>57.44</td>\n",
       "      <td>M</td>\n",
       "      <td>35.0</td>\n",
       "      <td>25000.00</td>\n",
       "      <td>GUNA</td>\n",
       "      <td>MADHYA PRADESH</td>\n",
       "      <td>473001.0</td>\n",
       "    </tr>\n",
       "    <tr>\n",
       "      <td>2</td>\n",
       "      <td>6</td>\n",
       "      <td>Quatrly</td>\n",
       "      <td>Arrear</td>\n",
       "      <td>Closed</td>\n",
       "      <td>PDC</td>\n",
       "      <td>2</td>\n",
       "      <td>GUNA</td>\n",
       "      <td>48</td>\n",
       "      <td>580000</td>\n",
       "      <td>400000.0</td>\n",
       "      <td>...</td>\n",
       "      <td>12881783</td>\n",
       "      <td>1060.0</td>\n",
       "      <td>65929</td>\n",
       "      <td>68.97</td>\n",
       "      <td>M</td>\n",
       "      <td>37.0</td>\n",
       "      <td>23333.33</td>\n",
       "      <td>GUNA</td>\n",
       "      <td>MADHYA PRADESH</td>\n",
       "      <td>473001.0</td>\n",
       "    </tr>\n",
       "    <tr>\n",
       "      <td>3</td>\n",
       "      <td>25</td>\n",
       "      <td>Half Yearly</td>\n",
       "      <td>Arrear</td>\n",
       "      <td>Closed</td>\n",
       "      <td>Billed</td>\n",
       "      <td>154</td>\n",
       "      <td>NaN</td>\n",
       "      <td>36</td>\n",
       "      <td>725000</td>\n",
       "      <td>500000.0</td>\n",
       "      <td>...</td>\n",
       "      <td>10613776</td>\n",
       "      <td>1049.0</td>\n",
       "      <td>68597</td>\n",
       "      <td>61.79</td>\n",
       "      <td>M</td>\n",
       "      <td>55.0</td>\n",
       "      <td>91666.67</td>\n",
       "      <td>MAHASAMUND</td>\n",
       "      <td>CHATTISGARH</td>\n",
       "      <td>493558.0</td>\n",
       "    </tr>\n",
       "    <tr>\n",
       "      <td>4</td>\n",
       "      <td>119</td>\n",
       "      <td>Quatrly</td>\n",
       "      <td>Arrear</td>\n",
       "      <td>Closed</td>\n",
       "      <td>PDC</td>\n",
       "      <td>194</td>\n",
       "      <td>CUTTACK</td>\n",
       "      <td>48</td>\n",
       "      <td>617000</td>\n",
       "      <td>400000.0</td>\n",
       "      <td>...</td>\n",
       "      <td>7911110</td>\n",
       "      <td>1049.0</td>\n",
       "      <td>38493</td>\n",
       "      <td>59.09</td>\n",
       "      <td>M</td>\n",
       "      <td>48.0</td>\n",
       "      <td>12500.00</td>\n",
       "      <td>JAGATSINGHAPUR</td>\n",
       "      <td>ORISSA</td>\n",
       "      <td>754137.0</td>\n",
       "    </tr>\n",
       "  </tbody>\n",
       "</table>\n",
       "<p>5 rows × 25 columns</p>\n",
       "</div>"
      ],
      "text/plain": [
       "    ID    Frequency InstlmentMode LoanStatus PaymentMode  BranchID     Area  \\\n",
       "0    4      Monthly       Advance     Closed       PDC_E         2     GUNA   \n",
       "1    5      Monthly       Advance     Closed         PDC         2     GUNA   \n",
       "2    6      Quatrly        Arrear     Closed         PDC         2     GUNA   \n",
       "3   25  Half Yearly        Arrear     Closed      Billed       154      NaN   \n",
       "4  119      Quatrly        Arrear     Closed         PDC       194  CUTTACK   \n",
       "\n",
       "   Tenure  AssetCost  AmountFinance  ...   AssetID  ManufacturerID SupplierID  \\\n",
       "0      46     480000       365000.0  ...   3524747          1046.0      22354   \n",
       "1      45     480000       285000.0  ...   4985862          1046.0      22354   \n",
       "2      48     580000       400000.0  ...  12881783          1060.0      65929   \n",
       "3      36     725000       500000.0  ...  10613776          1049.0      68597   \n",
       "4      48     617000       400000.0  ...   7911110          1049.0      38493   \n",
       "\n",
       "     LTV SEX   AGE  MonthlyIncome            City           State   ZiPCODE  \n",
       "0  75.83   M  50.0       32069.00            GUNA  MADHYA PRADESH  473001.0  \n",
       "1  57.44   M  35.0       25000.00            GUNA  MADHYA PRADESH  473001.0  \n",
       "2  68.97   M  37.0       23333.33            GUNA  MADHYA PRADESH  473001.0  \n",
       "3  61.79   M  55.0       91666.67      MAHASAMUND     CHATTISGARH  493558.0  \n",
       "4  59.09   M  48.0       12500.00  JAGATSINGHAPUR          ORISSA  754137.0  \n",
       "\n",
       "[5 rows x 25 columns]"
      ]
     },
     "execution_count": 5,
     "metadata": {},
     "output_type": "execute_result"
    }
   ],
   "source": [
    "test_data = pd.read_excel('C:/Users/user/Downloads/Analytic Vidya Hackthon/Test/test_data.xlsx')\n",
    "test_data.head()"
   ]
  },
  {
   "cell_type": "code",
   "execution_count": 6,
   "metadata": {},
   "outputs": [
    {
     "data": {
      "text/html": [
       "<div>\n",
       "<style scoped>\n",
       "    .dataframe tbody tr th:only-of-type {\n",
       "        vertical-align: middle;\n",
       "    }\n",
       "\n",
       "    .dataframe tbody tr th {\n",
       "        vertical-align: top;\n",
       "    }\n",
       "\n",
       "    .dataframe thead th {\n",
       "        text-align: right;\n",
       "    }\n",
       "</style>\n",
       "<table border=\"1\" class=\"dataframe\">\n",
       "  <thead>\n",
       "    <tr style=\"text-align: right;\">\n",
       "      <th></th>\n",
       "      <th>ID</th>\n",
       "      <th>Top-up Month</th>\n",
       "    </tr>\n",
       "  </thead>\n",
       "  <tbody>\n",
       "    <tr>\n",
       "      <td>0</td>\n",
       "      <td>4</td>\n",
       "      <td>36-48 Months</td>\n",
       "    </tr>\n",
       "    <tr>\n",
       "      <td>1</td>\n",
       "      <td>5</td>\n",
       "      <td>18-24 Months</td>\n",
       "    </tr>\n",
       "    <tr>\n",
       "      <td>2</td>\n",
       "      <td>6</td>\n",
       "      <td>30-36 Months</td>\n",
       "    </tr>\n",
       "    <tr>\n",
       "      <td>3</td>\n",
       "      <td>25</td>\n",
       "      <td>30-36 Months</td>\n",
       "    </tr>\n",
       "    <tr>\n",
       "      <td>4</td>\n",
       "      <td>119</td>\n",
       "      <td>30-36 Months</td>\n",
       "    </tr>\n",
       "    <tr>\n",
       "      <td>5</td>\n",
       "      <td>126</td>\n",
       "      <td>24-30 Months</td>\n",
       "    </tr>\n",
       "    <tr>\n",
       "      <td>6</td>\n",
       "      <td>127</td>\n",
       "      <td>&gt; 48 Months</td>\n",
       "    </tr>\n",
       "    <tr>\n",
       "      <td>7</td>\n",
       "      <td>345</td>\n",
       "      <td>No Top-up Service</td>\n",
       "    </tr>\n",
       "    <tr>\n",
       "      <td>8</td>\n",
       "      <td>361</td>\n",
       "      <td>36-48 Months</td>\n",
       "    </tr>\n",
       "    <tr>\n",
       "      <td>9</td>\n",
       "      <td>393</td>\n",
       "      <td>30-36 Months</td>\n",
       "    </tr>\n",
       "  </tbody>\n",
       "</table>\n",
       "</div>"
      ],
      "text/plain": [
       "    ID       Top-up Month\n",
       "0    4       36-48 Months\n",
       "1    5       18-24 Months\n",
       "2    6       30-36 Months\n",
       "3   25       30-36 Months\n",
       "4  119       30-36 Months\n",
       "5  126       24-30 Months\n",
       "6  127        > 48 Months\n",
       "7  345  No Top-up Service\n",
       "8  361       36-48 Months\n",
       "9  393       30-36 Months"
      ]
     },
     "execution_count": 6,
     "metadata": {},
     "output_type": "execute_result"
    }
   ],
   "source": [
    "sample_sumbission = pd.read_csv(\"C:/Users/user/Downloads/Analytic Vidya Hackthon/sample_submission_ejm25Dc.csv\")\n",
    "sample_sumbission.head(10)"
   ]
  },
  {
   "cell_type": "code",
   "execution_count": 7,
   "metadata": {},
   "outputs": [
    {
     "data": {
      "text/plain": [
       "((560844, 25), (128655, 26))"
      ]
     },
     "execution_count": 7,
     "metadata": {},
     "output_type": "execute_result"
    }
   ],
   "source": [
    "train_bureau.shape, train_data.shape"
   ]
  },
  {
   "cell_type": "code",
   "execution_count": 8,
   "metadata": {},
   "outputs": [
    {
     "data": {
      "text/plain": [
       "((64019, 25), (14745, 25))"
      ]
     },
     "execution_count": 8,
     "metadata": {},
     "output_type": "execute_result"
    }
   ],
   "source": [
    "test_bureau.shape, test_data.shape"
   ]
  },
  {
   "cell_type": "code",
   "execution_count": 9,
   "metadata": {},
   "outputs": [
    {
     "data": {
      "text/plain": [
       "Index(['ID', 'Frequency', 'InstlmentMode', 'LoanStatus', 'PaymentMode',\n",
       "       'BranchID', 'Area', 'Tenure', 'AssetCost', 'AmountFinance',\n",
       "       'DisbursalAmount', 'EMI', 'DisbursalDate', 'MaturityDAte', 'AuthDate',\n",
       "       'AssetID', 'ManufacturerID', 'SupplierID', 'LTV', 'SEX', 'AGE',\n",
       "       'MonthlyIncome', 'City', 'State', 'ZiPCODE', 'Top-up Month'],\n",
       "      dtype='object')"
      ]
     },
     "execution_count": 9,
     "metadata": {},
     "output_type": "execute_result"
    }
   ],
   "source": [
    "train_data.columns"
   ]
  },
  {
   "cell_type": "code",
   "execution_count": 10,
   "metadata": {},
   "outputs": [
    {
     "data": {
      "text/plain": [
       "Index(['ID', 'SELF-INDICATOR', 'MATCH-TYPE', 'ACCT-TYPE', 'CONTRIBUTOR-TYPE',\n",
       "       'DATE-REPORTED', 'OWNERSHIP-IND', 'ACCOUNT-STATUS', 'DISBURSED-DT',\n",
       "       'CLOSE-DT', 'LAST-PAYMENT-DATE', 'CREDIT-LIMIT/SANC AMT',\n",
       "       'DISBURSED-AMT/HIGH CREDIT', 'INSTALLMENT-AMT', 'CURRENT-BAL',\n",
       "       'INSTALLMENT-FREQUENCY', 'OVERDUE-AMT', 'WRITE-OFF-AMT', 'ASSET_CLASS',\n",
       "       'REPORTED DATE - HIST', 'DPD - HIST', 'CUR BAL - HIST',\n",
       "       'AMT OVERDUE - HIST', 'AMT PAID - HIST', 'TENURE'],\n",
       "      dtype='object')"
      ]
     },
     "execution_count": 10,
     "metadata": {},
     "output_type": "execute_result"
    }
   ],
   "source": [
    "train_bureau.columns"
   ]
  },
  {
   "cell_type": "code",
   "execution_count": 11,
   "metadata": {},
   "outputs": [],
   "source": [
    "train_data['ID1'] = train_bureau['ID']\n",
    "train_data['SELF-INDICATOR'] = train_bureau['SELF-INDICATOR']\n",
    "train_data['MATCH-TYPE'] = train_bureau['MATCH-TYPE']\n",
    "train_data['ACCT-TYPE'] = train_bureau['ACCT-TYPE']\n",
    "train_data['CONTRIBUTOR-TYPE'] = train_bureau['CONTRIBUTOR-TYPE']\n",
    "train_data['DATE-REPORTED'] = train_bureau['DATE-REPORTED']\n",
    "train_data['OWNERSHIP-IND'] = train_bureau['OWNERSHIP-IND']\n",
    "train_data['ACCOUNT-STATUS'] = train_bureau['ACCOUNT-STATUS']\n",
    "train_data['DISBURSED-DT'] = train_bureau['DISBURSED-DT']\n",
    "train_data['CLOSE-DT'] = train_bureau['CLOSE-DT']\n",
    "train_data['LAST-PAYMENT-DATE'] = train_bureau['LAST-PAYMENT-DATE']\n",
    "train_data['CREDIT-LIMIT/SANC AMT'] = train_bureau['CREDIT-LIMIT/SANC AMT']\n",
    "train_data['DISBURSED-AMT/HIGH CREDIT'] = train_bureau['DISBURSED-AMT/HIGH CREDIT']\n",
    "train_data['INSTALLMENT-AMT'] = train_bureau['INSTALLMENT-AMT']\n",
    "train_data['CURRENT-BAL'] = train_bureau['CURRENT-BAL']\n",
    "train_data['INSTALLMENT-FREQUENCY'] = train_bureau['INSTALLMENT-FREQUENCY']\n",
    "train_data['OVERDUE-AMT'] = train_bureau['OVERDUE-AMT']\n",
    "train_data['WRITE-OFF-AMT'] = train_bureau['WRITE-OFF-AMT']\n",
    "train_data['ASSET_CLASS'] = train_bureau['ASSET_CLASS']\n",
    "train_data['REPORTED DATE - HIST'] = train_bureau['REPORTED DATE - HIST']\n",
    "train_data['DPD - HIST'] = train_bureau['DPD - HIST']\n",
    "train_data['CUR BAL - HIST'] = train_bureau['CUR BAL - HIST']\n",
    "train_data['AMT OVERDUE - HIST'] = train_bureau['AMT OVERDUE - HIST']\n",
    "train_data['AMT PAID - HIST'] = train_bureau['AMT PAID - HIST']\n",
    "train_data['TENURE'] = train_bureau['TENURE']\n"
   ]
  },
  {
   "cell_type": "code",
   "execution_count": 12,
   "metadata": {},
   "outputs": [
    {
     "data": {
      "text/plain": [
       "(128655, 51)"
      ]
     },
     "execution_count": 12,
     "metadata": {},
     "output_type": "execute_result"
    }
   ],
   "source": [
    "train_data.shape"
   ]
  },
  {
   "cell_type": "code",
   "execution_count": 13,
   "metadata": {},
   "outputs": [
    {
     "data": {
      "text/plain": [
       "Index(['ID', 'Frequency', 'InstlmentMode', 'LoanStatus', 'PaymentMode',\n",
       "       'BranchID', 'Area', 'Tenure', 'AssetCost', 'AmountFinance',\n",
       "       'DisbursalAmount', 'EMI', 'DisbursalDate', 'MaturityDAte', 'AuthDate',\n",
       "       'AssetID', 'ManufacturerID', 'SupplierID', 'LTV', 'SEX', 'AGE',\n",
       "       'MonthlyIncome', 'City', 'State', 'ZiPCODE'],\n",
       "      dtype='object')"
      ]
     },
     "execution_count": 13,
     "metadata": {},
     "output_type": "execute_result"
    }
   ],
   "source": [
    "test_data.columns"
   ]
  },
  {
   "cell_type": "code",
   "execution_count": 14,
   "metadata": {},
   "outputs": [
    {
     "data": {
      "text/plain": [
       "Index(['ID', 'SELF-INDICATOR', 'MATCH-TYPE', 'ACCT-TYPE', 'CONTRIBUTOR-TYPE',\n",
       "       'DATE-REPORTED', 'OWNERSHIP-IND', 'ACCOUNT-STATUS', 'DISBURSED-DT',\n",
       "       'CLOSE-DT', 'LAST-PAYMENT-DATE', 'CREDIT-LIMIT/SANC AMT',\n",
       "       'DISBURSED-AMT/HIGH CREDIT', 'INSTALLMENT-AMT', 'CURRENT-BAL',\n",
       "       'INSTALLMENT-FREQUENCY', 'OVERDUE-AMT', 'WRITE-OFF-AMT', 'ASSET_CLASS',\n",
       "       'REPORTED DATE - HIST', 'DPD - HIST', 'CUR BAL - HIST',\n",
       "       'AMT OVERDUE - HIST', 'AMT PAID - HIST', 'TENURE'],\n",
       "      dtype='object')"
      ]
     },
     "execution_count": 14,
     "metadata": {},
     "output_type": "execute_result"
    }
   ],
   "source": [
    "test_bureau.columns"
   ]
  },
  {
   "cell_type": "code",
   "execution_count": 15,
   "metadata": {},
   "outputs": [],
   "source": [
    "test_data['ID1'] = test_bureau['ID']\n",
    "test_data['SELF-INDICATOR'] = test_bureau['SELF-INDICATOR']\n",
    "test_data['MATCH-TYPE'] = test_bureau['MATCH-TYPE']\n",
    "test_data['ACCT-TYPE'] = test_bureau['ACCT-TYPE']\n",
    "test_data['CONTRIBUTOR-TYPE'] = test_bureau['CONTRIBUTOR-TYPE']\n",
    "test_data['DATE-REPORTED'] = test_bureau['DATE-REPORTED']\n",
    "test_data['OWNERSHIP-IND'] = test_bureau['OWNERSHIP-IND']\n",
    "test_data['ACCOUNT-STATUS'] = test_bureau['ACCOUNT-STATUS']\n",
    "test_data['DISBURSED-DT'] = test_bureau['DISBURSED-DT']\n",
    "test_data['CLOSE-DT'] = test_bureau['CLOSE-DT']\n",
    "test_data['LAST-PAYMENT-DATE'] = test_bureau['LAST-PAYMENT-DATE']\n",
    "test_data['CREDIT-LIMIT/SANC AMT'] = test_bureau['CREDIT-LIMIT/SANC AMT']\n",
    "test_data['DISBURSED-AMT/HIGH CREDIT'] = test_bureau['DISBURSED-AMT/HIGH CREDIT']\n",
    "test_data['INSTALLMENT-AMT'] = test_bureau['INSTALLMENT-AMT']\n",
    "test_data['CURRENT-BAL'] = test_bureau['CURRENT-BAL']\n",
    "test_data['INSTALLMENT-FREQUENCY'] = test_bureau['INSTALLMENT-FREQUENCY']\n",
    "test_data['OVERDUE-AMT'] = test_bureau['OVERDUE-AMT']\n",
    "test_data['WRITE-OFF-AMT'] = test_bureau['WRITE-OFF-AMT']\n",
    "test_data['ASSET_CLASS'] = test_bureau['ASSET_CLASS']\n",
    "test_data['REPORTED DATE - HIST'] = test_bureau['REPORTED DATE - HIST']\n",
    "test_data['DPD - HIST'] = test_bureau['DPD - HIST']\n",
    "test_data['CUR BAL - HIST'] = test_bureau['CUR BAL - HIST']\n",
    "test_data['AMT OVERDUE - HIST'] = test_bureau['AMT OVERDUE - HIST']\n",
    "test_data['AMT PAID - HIST'] = test_bureau['AMT PAID - HIST']\n",
    "test_data['TENURE'] = test_bureau['TENURE']\n"
   ]
  },
  {
   "cell_type": "code",
   "execution_count": 16,
   "metadata": {},
   "outputs": [
    {
     "data": {
      "text/plain": [
       "((14745, 50), (128655, 51))"
      ]
     },
     "execution_count": 16,
     "metadata": {},
     "output_type": "execute_result"
    }
   ],
   "source": [
    "test_data.shape, train_data.shape"
   ]
  },
  {
   "cell_type": "code",
   "execution_count": 17,
   "metadata": {},
   "outputs": [],
   "source": [
    "test_data['Top-up Month']=np.nan\n",
    "train_data['data']='train'\n",
    "test_data['data']='test'\n",
    "test_data=test_data[train_data.columns]\n",
    "l_all=pd.concat([train_data,test_data],axis=0)"
   ]
  },
  {
   "cell_type": "code",
   "execution_count": 18,
   "metadata": {},
   "outputs": [
    {
     "data": {
      "text/plain": [
       "(143400, 52)"
      ]
     },
     "execution_count": 18,
     "metadata": {},
     "output_type": "execute_result"
    }
   ],
   "source": [
    "l_all.shape"
   ]
  },
  {
   "cell_type": "code",
   "execution_count": 19,
   "metadata": {},
   "outputs": [
    {
     "data": {
      "text/plain": [
       "5"
      ]
     },
     "execution_count": 19,
     "metadata": {},
     "output_type": "execute_result"
    }
   ],
   "source": [
    "l_all['OWNERSHIP-IND'].nunique()"
   ]
  },
  {
   "cell_type": "code",
   "execution_count": 20,
   "metadata": {},
   "outputs": [],
   "source": [
    "l_all.drop(['City','ID','BranchID','Area','AssetID','City','State','ZiPCODE','ID1'],axis=1,inplace=True)"
   ]
  },
  {
   "cell_type": "code",
   "execution_count": 21,
   "metadata": {},
   "outputs": [
    {
     "data": {
      "text/plain": [
       "Frequency                            object\n",
       "InstlmentMode                        object\n",
       "LoanStatus                           object\n",
       "PaymentMode                          object\n",
       "Tenure                                int64\n",
       "AssetCost                             int64\n",
       "AmountFinance                       float64\n",
       "DisbursalAmount                     float64\n",
       "EMI                                 float64\n",
       "DisbursalDate                datetime64[ns]\n",
       "MaturityDAte                 datetime64[ns]\n",
       "AuthDate                     datetime64[ns]\n",
       "ManufacturerID                      float64\n",
       "SupplierID                            int64\n",
       "LTV                                 float64\n",
       "SEX                                  object\n",
       "AGE                                 float64\n",
       "MonthlyIncome                       float64\n",
       "Top-up Month                         object\n",
       "SELF-INDICATOR                         bool\n",
       "MATCH-TYPE                           object\n",
       "ACCT-TYPE                            object\n",
       "CONTRIBUTOR-TYPE                     object\n",
       "DATE-REPORTED                datetime64[ns]\n",
       "OWNERSHIP-IND                        object\n",
       "ACCOUNT-STATUS                       object\n",
       "DISBURSED-DT                 datetime64[ns]\n",
       "CLOSE-DT                             object\n",
       "LAST-PAYMENT-DATE            datetime64[ns]\n",
       "CREDIT-LIMIT/SANC AMT                object\n",
       "DISBURSED-AMT/HIGH CREDIT            object\n",
       "INSTALLMENT-AMT                      object\n",
       "CURRENT-BAL                          object\n",
       "INSTALLMENT-FREQUENCY                object\n",
       "OVERDUE-AMT                          object\n",
       "WRITE-OFF-AMT                       float64\n",
       "ASSET_CLASS                          object\n",
       "REPORTED DATE - HIST                 object\n",
       "DPD - HIST                           object\n",
       "CUR BAL - HIST                       object\n",
       "AMT OVERDUE - HIST                   object\n",
       "AMT PAID - HIST                      object\n",
       "TENURE                              float64\n",
       "data                                 object\n",
       "dtype: object"
      ]
     },
     "execution_count": 21,
     "metadata": {},
     "output_type": "execute_result"
    }
   ],
   "source": [
    "l_all.dtypes"
   ]
  },
  {
   "cell_type": "code",
   "execution_count": 22,
   "metadata": {},
   "outputs": [
    {
     "data": {
      "text/plain": [
       "Frequency          0\n",
       "InstlmentMode      0\n",
       "LoanStatus         0\n",
       "PaymentMode        0\n",
       "Tenure             0\n",
       "AssetCost          0\n",
       "AmountFinance      0\n",
       "DisbursalAmount    0\n",
       "EMI                0\n",
       "DisbursalDate      0\n",
       "dtype: int64"
      ]
     },
     "execution_count": 22,
     "metadata": {},
     "output_type": "execute_result"
    }
   ],
   "source": [
    "l_all.isna().sum()[0:10]"
   ]
  },
  {
   "cell_type": "code",
   "execution_count": 23,
   "metadata": {},
   "outputs": [
    {
     "data": {
      "text/plain": [
       "DisbursalDate         0\n",
       "MaturityDAte          1\n",
       "AuthDate              0\n",
       "ManufacturerID        2\n",
       "SupplierID            0\n",
       "LTV                   0\n",
       "SEX                  64\n",
       "AGE                  66\n",
       "MonthlyIncome       248\n",
       "Top-up Month      14745\n",
       "SELF-INDICATOR        0\n",
       "dtype: int64"
      ]
     },
     "execution_count": 23,
     "metadata": {},
     "output_type": "execute_result"
    }
   ],
   "source": [
    "l_all.isna().sum()[9:20]"
   ]
  },
  {
   "cell_type": "code",
   "execution_count": 24,
   "metadata": {},
   "outputs": [
    {
     "data": {
      "text/plain": [
       "SELF-INDICATOR                0\n",
       "MATCH-TYPE                    0\n",
       "ACCT-TYPE                     0\n",
       "CONTRIBUTOR-TYPE              0\n",
       "DATE-REPORTED               763\n",
       "OWNERSHIP-IND                 0\n",
       "ACCOUNT-STATUS                0\n",
       "DISBURSED-DT               5658\n",
       "CLOSE-DT                  57732\n",
       "LAST-PAYMENT-DATE         76822\n",
       "CREDIT-LIMIT/SANC AMT    139673\n",
       "dtype: int64"
      ]
     },
     "execution_count": 24,
     "metadata": {},
     "output_type": "execute_result"
    }
   ],
   "source": [
    "l_all['DisbursalDate']=pd.to_numeric(l_all['DisbursalDate'],errors='coerce')\n",
    "l_all['MaturityDAte'] = l_all['MaturityDAte'].fillna(l_all['MaturityDAte'].mode()[0])\n",
    "l_all['MaturityDAte']=pd.to_numeric(l_all['MaturityDAte'],errors='coerce')\n",
    "l_all['AuthDate']=pd.to_numeric(l_all['AuthDate'],errors='coerce')\n",
    "l_all['ManufacturerID'] = l_all['ManufacturerID'].fillna(l_all['ManufacturerID'].mean())\n",
    "l_all['SEX'] = l_all['SEX'].fillna(l_all['SEX'].mode()[0])\n",
    "l_all['AGE'] = l_all['AGE'].fillna(l_all['AGE'].mean())\n",
    "l_all['MonthlyIncome'] = l_all['MonthlyIncome'].fillna(l_all['MonthlyIncome'].mean())\n",
    "l_all['SELF-INDICATOR']=np.where(l_all['SELF-INDICATOR']=='False',0,l_all['SELF-INDICATOR'])\n",
    "l_all['SELF-INDICATOR']=np.where(l_all['SELF-INDICATOR']=='True',1,l_all['SELF-INDICATOR'])\n",
    "l_all.isna().sum()[19:30]"
   ]
  },
  {
   "cell_type": "code",
   "execution_count": 25,
   "metadata": {},
   "outputs": [
    {
     "data": {
      "text/plain": [
       "CREDIT-LIMIT/SANC AMT             0\n",
       "DISBURSED-AMT/HIGH CREDIT         0\n",
       "INSTALLMENT-AMT              105806\n",
       "CURRENT-BAL                      92\n",
       "INSTALLMENT-FREQUENCY        106865\n",
       "OVERDUE-AMT                   31921\n",
       "WRITE-OFF-AMT                  4768\n",
       "ASSET_CLASS                   75946\n",
       "REPORTED DATE - HIST           4768\n",
       "DPD - HIST                     4768\n",
       "CUR BAL - HIST                 4768\n",
       "dtype: int64"
      ]
     },
     "execution_count": 25,
     "metadata": {},
     "output_type": "execute_result"
    }
   ],
   "source": [
    "l_all['MATCH-TYPE']=np.where(l_all['MATCH-TYPE']=='PRIMARY',0,l_all['MATCH-TYPE'])\n",
    "l_all['MATCH-TYPE']=np.where(l_all['MATCH-TYPE']=='SECONDARY',1,l_all['MATCH-TYPE'])\n",
    "l_all['MATCH-TYPE']=pd.to_numeric(l_all['MATCH-TYPE'],errors='coerce')\n",
    "l_all['DATE-REPORTED'] = l_all['DATE-REPORTED'].fillna(l_all['DATE-REPORTED'].mode()[0])\n",
    "l_all['DATE-REPORTED']=pd.to_numeric(l_all['DATE-REPORTED'],errors='coerce')\n",
    "l_all['DISBURSED-DT'] = l_all['DISBURSED-DT'].fillna(l_all['DISBURSED-DT'].mode()[0])\n",
    "l_all['DISBURSED-DT']=pd.to_numeric(l_all['DISBURSED-DT'],errors='coerce')\n",
    "l_all['LAST-PAYMENT-DATE'] = l_all['LAST-PAYMENT-DATE'].fillna(l_all['LAST-PAYMENT-DATE'].mode()[0])\n",
    "l_all['LAST-PAYMENT-DATE']=pd.to_numeric(l_all['LAST-PAYMENT-DATE'],errors='coerce')\n",
    "l_all['CREDIT-LIMIT/SANC AMT']=pd.to_numeric(l_all['CREDIT-LIMIT/SANC AMT'],errors='coerce')\n",
    "l_all['CREDIT-LIMIT/SANC AMT'] = l_all['CREDIT-LIMIT/SANC AMT'].fillna(l_all['CREDIT-LIMIT/SANC AMT'].mean())\n",
    "l_all['DISBURSED-AMT/HIGH CREDIT']=pd.to_numeric(l_all['DISBURSED-AMT/HIGH CREDIT'],errors='coerce')\n",
    "l_all['DISBURSED-AMT/HIGH CREDIT'] = l_all['DISBURSED-AMT/HIGH CREDIT'].fillna(l_all['DISBURSED-AMT/HIGH CREDIT'].mean())\n",
    "l_all.isna().sum()[29:40]\n"
   ]
  },
  {
   "cell_type": "code",
   "execution_count": 26,
   "metadata": {},
   "outputs": [
    {
     "data": {
      "text/plain": [
       "TENURE             0\n",
       "data               0\n",
       "INSTALLMENT_AMT    0\n",
       "dtype: int64"
      ]
     },
     "execution_count": 26,
     "metadata": {},
     "output_type": "execute_result"
    }
   ],
   "source": [
    "k=l_all['INSTALLMENT-AMT'].str.split(\"/\",expand=True)\n",
    "l_all['INSTALLMENT_AMT']=k[0]\n",
    "del l_all['INSTALLMENT-AMT']\n",
    "l_all['INSTALLMENT_AMT'] = l_all['INSTALLMENT_AMT'].fillna(l_all['INSTALLMENT_AMT'].mode()[0])\n",
    "l_all['INSTALLMENT_AMT']=pd.to_numeric(l_all['INSTALLMENT_AMT'],errors='coerce')\n",
    "l_all['INSTALLMENT_AMT'] = l_all['INSTALLMENT_AMT'].fillna(l_all['INSTALLMENT_AMT'].mean())\n",
    "l_all['CURRENT-BAL']=pd.to_numeric(l_all['CURRENT-BAL'],errors='coerce')\n",
    "l_all['CURRENT-BAL'] = l_all['CURRENT-BAL'].fillna(l_all['CURRENT-BAL'].mean())\n",
    "l_all['INSTALLMENT-FREQUENCY'] = l_all['INSTALLMENT-FREQUENCY'].fillna(l_all['INSTALLMENT-FREQUENCY'].mode()[0])\n",
    "l_all['OVERDUE-AMT']=pd.to_numeric(l_all['OVERDUE-AMT'],errors='coerce')\n",
    "l_all['OVERDUE-AMT'] = l_all['OVERDUE-AMT'].fillna(l_all['OVERDUE-AMT'].mean())\n",
    "l_all['WRITE-OFF-AMT'] = l_all['WRITE-OFF-AMT'].fillna(l_all['WRITE-OFF-AMT'].mean())\n",
    "l_all['ASSET_CLASS'] = l_all['ASSET_CLASS'].fillna(l_all['ASSET_CLASS'].mode()[0])\n",
    "l_all['REPORTED DATE - HIST'] = l_all['REPORTED DATE - HIST'].fillna(l_all['REPORTED DATE - HIST'].mode()[0])\n",
    "l_all['REPORTED DATE - HIST']=l_all['REPORTED DATE - HIST'].str.replace(\",\",\"\")\n",
    "l_all['REPORTED DATE - HIST']=pd.to_numeric(l_all['REPORTED DATE - HIST'],errors='coerce')\n",
    "l_all.drop(['DPD - HIST'],axis=1,inplace=True)\n",
    "l_all['CUR BAL - HIST'] = l_all['CUR BAL - HIST'].fillna(l_all['CUR BAL - HIST'].mode()[0])\n",
    "l_all['CUR BAL - HIST']=l_all['CUR BAL - HIST'].str.replace(\",\",\"\")\n",
    "l_all['CUR BAL - HIST']=pd.to_numeric(l_all['CUR BAL - HIST'],errors='coerce')\n",
    "l_all['CUR BAL - HIST'] = l_all['CUR BAL - HIST'].fillna(l_all['CUR BAL - HIST'].mean())\n",
    "l_all['AMT OVERDUE - HIST'] = l_all['AMT OVERDUE - HIST'].fillna(l_all['AMT OVERDUE - HIST'].mode()[0])\n",
    "l_all['AMT OVERDUE - HIST']=l_all['AMT OVERDUE - HIST'].str.replace(\",\",\"\")\n",
    "l_all['AMT OVERDUE - HIST']=pd.to_numeric(l_all['AMT OVERDUE - HIST'],errors='coerce')\n",
    "l_all['AMT OVERDUE - HIST'] = l_all['AMT OVERDUE - HIST'].fillna(l_all['AMT OVERDUE - HIST'].mean())\n",
    "l_all['CLOSE-DT'].isnull().sum()\n",
    "l_all.drop(['AMT PAID - HIST'],axis=1,inplace=True)\n",
    "l_all['TENURE'] = l_all['TENURE'].fillna(l_all['TENURE'].mean())\n",
    "l_all.isna().sum()[39:50]\n",
    "\n",
    "\n"
   ]
  },
  {
   "cell_type": "code",
   "execution_count": 27,
   "metadata": {},
   "outputs": [
    {
     "data": {
      "text/plain": [
       "(Frequency                        0\n",
       " InstlmentMode                    0\n",
       " LoanStatus                       0\n",
       " PaymentMode                      0\n",
       " Tenure                           0\n",
       " AssetCost                        0\n",
       " AmountFinance                    0\n",
       " DisbursalAmount                  0\n",
       " EMI                              0\n",
       " DisbursalDate                    0\n",
       " MaturityDAte                     0\n",
       " AuthDate                         0\n",
       " ManufacturerID                   0\n",
       " SupplierID                       0\n",
       " LTV                              0\n",
       " SEX                              0\n",
       " AGE                              0\n",
       " MonthlyIncome                    0\n",
       " Top-up Month                 14745\n",
       " SELF-INDICATOR                   0\n",
       " MATCH-TYPE                       0\n",
       " ACCT-TYPE                        0\n",
       " CONTRIBUTOR-TYPE                 0\n",
       " DATE-REPORTED                    0\n",
       " OWNERSHIP-IND                    0\n",
       " ACCOUNT-STATUS                   0\n",
       " DISBURSED-DT                     0\n",
       " LAST-PAYMENT-DATE                0\n",
       " CREDIT-LIMIT/SANC AMT            0\n",
       " DISBURSED-AMT/HIGH CREDIT        0\n",
       " CURRENT-BAL                      0\n",
       " INSTALLMENT-FREQUENCY            0\n",
       " OVERDUE-AMT                      0\n",
       " WRITE-OFF-AMT                    0\n",
       " ASSET_CLASS                      0\n",
       " REPORTED DATE - HIST             0\n",
       " CUR BAL - HIST                   0\n",
       " AMT OVERDUE - HIST               0\n",
       " TENURE                           0\n",
       " data                             0\n",
       " INSTALLMENT_AMT                  0\n",
       " dtype: int64, (143400, 41))"
      ]
     },
     "execution_count": 27,
     "metadata": {},
     "output_type": "execute_result"
    }
   ],
   "source": [
    "l_all.drop(['CLOSE-DT'],axis=1,inplace=True)\n",
    "l_all.isnull().sum(), l_all.shape"
   ]
  },
  {
   "cell_type": "code",
   "execution_count": 28,
   "metadata": {},
   "outputs": [],
   "source": [
    "cat_cols=l_all.select_dtypes(['object']).columns"
   ]
  },
  {
   "cell_type": "code",
   "execution_count": 29,
   "metadata": {},
   "outputs": [
    {
     "data": {
      "text/plain": [
       "Index(['Frequency', 'InstlmentMode', 'LoanStatus', 'PaymentMode', 'SEX',\n",
       "       'Top-up Month', 'ACCT-TYPE', 'CONTRIBUTOR-TYPE', 'OWNERSHIP-IND',\n",
       "       'ACCOUNT-STATUS', 'INSTALLMENT-FREQUENCY', 'ASSET_CLASS', 'data'],\n",
       "      dtype='object')"
      ]
     },
     "execution_count": 29,
     "metadata": {},
     "output_type": "execute_result"
    }
   ],
   "source": [
    "cat_cols"
   ]
  },
  {
   "cell_type": "code",
   "execution_count": 30,
   "metadata": {},
   "outputs": [],
   "source": [
    "cat_cols = ['Frequency', 'InstlmentMode', 'LoanStatus', 'PaymentMode', 'SEX',\n",
    "        'ACCT-TYPE', 'CONTRIBUTOR-TYPE', 'OWNERSHIP-IND',\n",
    "       'ACCOUNT-STATUS', 'INSTALLMENT-FREQUENCY', 'ASSET_CLASS']"
   ]
  },
  {
   "cell_type": "code",
   "execution_count": 31,
   "metadata": {},
   "outputs": [
    {
     "name": "stdout",
     "output_type": "stream",
     "text": [
      "Frequency\n",
      "InstlmentMode\n",
      "LoanStatus\n",
      "PaymentMode\n",
      "SEX\n",
      "ACCT-TYPE\n",
      "CONTRIBUTOR-TYPE\n",
      "OWNERSHIP-IND\n",
      "ACCOUNT-STATUS\n",
      "INSTALLMENT-FREQUENCY\n",
      "ASSET_CLASS\n"
     ]
    }
   ],
   "source": [
    "#ignoring categories with low frequencies however will result in fewer columns without \n",
    "# affecting model performance too much .\n",
    "\n",
    "for col in cat_cols:\n",
    "    freqs=l_all[col].value_counts()\n",
    "    k=freqs.index[freqs>20][:-1]\n",
    "    for cat in k:\n",
    "        name=col+'_'+cat\n",
    "        l_all[name]=(l_all[col]==cat).astype(int)\n",
    "    del l_all[col]\n",
    "    print(col)\n",
    "    \n",
    "    "
   ]
  },
  {
   "cell_type": "code",
   "execution_count": 32,
   "metadata": {},
   "outputs": [
    {
     "data": {
      "text/plain": [
       "(143400, 106)"
      ]
     },
     "execution_count": 32,
     "metadata": {},
     "output_type": "execute_result"
    }
   ],
   "source": [
    "l_all.shape"
   ]
  },
  {
   "cell_type": "code",
   "execution_count": 33,
   "metadata": {},
   "outputs": [
    {
     "data": {
      "text/plain": [
       "array([' > 48 Months', 'No Top-up Service', '12-18 Months',\n",
       "       '36-48 Months', '18-24 Months', '24-30 Months', '30-36 Months',\n",
       "       nan], dtype=object)"
      ]
     },
     "execution_count": 33,
     "metadata": {},
     "output_type": "execute_result"
    }
   ],
   "source": [
    "l_all['Top-up Month'].unique()"
   ]
  },
  {
   "cell_type": "code",
   "execution_count": 34,
   "metadata": {},
   "outputs": [],
   "source": [
    "l_all['Top-up Month'] = np.where(l_all['Top-up Month']==' > 48 Months',0,l_all['Top-up Month'])\n",
    "l_all['Top-up Month'] = np.where(l_all['Top-up Month']=='No Top-up Service',1,l_all['Top-up Month'])\n",
    "l_all['Top-up Month'] = np.where(l_all['Top-up Month']=='12-18 Months',2,l_all['Top-up Month'])\n",
    "l_all['Top-up Month'] = np.where(l_all['Top-up Month']=='36-48 Months',3,l_all['Top-up Month'])\n",
    "l_all['Top-up Month'] = np.where(l_all['Top-up Month']=='18-24 Months',4,l_all['Top-up Month'])\n",
    "l_all['Top-up Month'] = np.where(l_all['Top-up Month']=='24-30 Months',5,l_all['Top-up Month'])\n",
    "l_all['Top-up Month'] = np.where(l_all['Top-up Month']=='30-36 Months',6,l_all['Top-up Month'])"
   ]
  },
  {
   "cell_type": "code",
   "execution_count": 35,
   "metadata": {},
   "outputs": [
    {
     "data": {
      "text/plain": [
       "dtype('float64')"
      ]
     },
     "execution_count": 35,
     "metadata": {},
     "output_type": "execute_result"
    }
   ],
   "source": [
    "l_all['Top-up Month']=pd.to_numeric(l_all['Top-up Month'],errors='coerce')\n",
    "l_all['Top-up Month'].dtypes"
   ]
  },
  {
   "cell_type": "code",
   "execution_count": 36,
   "metadata": {},
   "outputs": [],
   "source": [
    "ld_train=l_all[l_all['data']=='train']\n",
    "del ld_train['data']\n",
    "ld_test=l_all[l_all['data']=='test']\n",
    "ld_test.drop(['Top-up Month','data'],axis=1,inplace=True)"
   ]
  },
  {
   "cell_type": "code",
   "execution_count": 37,
   "metadata": {},
   "outputs": [],
   "source": [
    "from sklearn.model_selection import train_test_split\n",
    "ld_train1,ld_train2=train_test_split(ld_train,test_size=0.2,random_state=28)"
   ]
  },
  {
   "cell_type": "code",
   "execution_count": 60,
   "metadata": {},
   "outputs": [
    {
     "data": {
      "text/plain": [
       "(143400, 106)"
      ]
     },
     "execution_count": 60,
     "metadata": {},
     "output_type": "execute_result"
    }
   ],
   "source": [
    "l_all.shape"
   ]
  },
  {
   "cell_type": "code",
   "execution_count": 38,
   "metadata": {},
   "outputs": [],
   "source": [
    "# Notice that only train data is used for imputing missing values in both train and test \n",
    "\n",
    "x_train1=ld_train1.drop('Top-up Month',axis=1)\n",
    "y_train1=ld_train1['Top-up Month']\n",
    "\n"
   ]
  },
  {
   "cell_type": "code",
   "execution_count": 42,
   "metadata": {},
   "outputs": [],
   "source": [
    "x_train=ld_train.drop('Top-up Month',axis=1)\n",
    "y_train=ld_train['Top-up Month']"
   ]
  },
  {
   "cell_type": "code",
   "execution_count": 49,
   "metadata": {},
   "outputs": [],
   "source": [
    "clf1=KNeighborsClassifier(n_neighbors=50)\n",
    "clf2=RandomForestClassifier(n_estimators=200)\n",
    "clf3=RandomForestClassifier(n_estimators=100)\n",
    "clf4=XGBClassifier(n_estimators=150,learning_rate=.01)\n",
    "clf5=XGBClassifier(n_estimators=150,learning_rate=.1)\n",
    "\n",
    "Algos=[clf1,clf2,clf3,clf4,clf5]"
   ]
  },
  {
   "cell_type": "code",
   "execution_count": 50,
   "metadata": {},
   "outputs": [],
   "source": [
    "rows=x_train.shape[0]"
   ]
  },
  {
   "cell_type": "code",
   "execution_count": 51,
   "metadata": {},
   "outputs": [],
   "source": [
    "layer1=pd.DataFrame({'clf1':np.zeros(rows),'clf2':np.zeros(rows),'clf3':np.zeros(rows),\n",
    "                    'clf4':np.zeros(rows),'clf5':np.zeros(rows)})"
   ]
  },
  {
   "cell_type": "code",
   "execution_count": 52,
   "metadata": {},
   "outputs": [
    {
     "data": {
      "text/html": [
       "<div>\n",
       "<style scoped>\n",
       "    .dataframe tbody tr th:only-of-type {\n",
       "        vertical-align: middle;\n",
       "    }\n",
       "\n",
       "    .dataframe tbody tr th {\n",
       "        vertical-align: top;\n",
       "    }\n",
       "\n",
       "    .dataframe thead th {\n",
       "        text-align: right;\n",
       "    }\n",
       "</style>\n",
       "<table border=\"1\" class=\"dataframe\">\n",
       "  <thead>\n",
       "    <tr style=\"text-align: right;\">\n",
       "      <th></th>\n",
       "      <th>clf1</th>\n",
       "      <th>clf2</th>\n",
       "      <th>clf3</th>\n",
       "      <th>clf4</th>\n",
       "      <th>clf5</th>\n",
       "    </tr>\n",
       "  </thead>\n",
       "  <tbody>\n",
       "    <tr>\n",
       "      <td>0</td>\n",
       "      <td>0.0</td>\n",
       "      <td>0.0</td>\n",
       "      <td>0.0</td>\n",
       "      <td>0.0</td>\n",
       "      <td>0.0</td>\n",
       "    </tr>\n",
       "    <tr>\n",
       "      <td>1</td>\n",
       "      <td>0.0</td>\n",
       "      <td>0.0</td>\n",
       "      <td>0.0</td>\n",
       "      <td>0.0</td>\n",
       "      <td>0.0</td>\n",
       "    </tr>\n",
       "    <tr>\n",
       "      <td>2</td>\n",
       "      <td>0.0</td>\n",
       "      <td>0.0</td>\n",
       "      <td>0.0</td>\n",
       "      <td>0.0</td>\n",
       "      <td>0.0</td>\n",
       "    </tr>\n",
       "    <tr>\n",
       "      <td>3</td>\n",
       "      <td>0.0</td>\n",
       "      <td>0.0</td>\n",
       "      <td>0.0</td>\n",
       "      <td>0.0</td>\n",
       "      <td>0.0</td>\n",
       "    </tr>\n",
       "    <tr>\n",
       "      <td>4</td>\n",
       "      <td>0.0</td>\n",
       "      <td>0.0</td>\n",
       "      <td>0.0</td>\n",
       "      <td>0.0</td>\n",
       "      <td>0.0</td>\n",
       "    </tr>\n",
       "    <tr>\n",
       "      <td>...</td>\n",
       "      <td>...</td>\n",
       "      <td>...</td>\n",
       "      <td>...</td>\n",
       "      <td>...</td>\n",
       "      <td>...</td>\n",
       "    </tr>\n",
       "    <tr>\n",
       "      <td>128650</td>\n",
       "      <td>0.0</td>\n",
       "      <td>0.0</td>\n",
       "      <td>0.0</td>\n",
       "      <td>0.0</td>\n",
       "      <td>0.0</td>\n",
       "    </tr>\n",
       "    <tr>\n",
       "      <td>128651</td>\n",
       "      <td>0.0</td>\n",
       "      <td>0.0</td>\n",
       "      <td>0.0</td>\n",
       "      <td>0.0</td>\n",
       "      <td>0.0</td>\n",
       "    </tr>\n",
       "    <tr>\n",
       "      <td>128652</td>\n",
       "      <td>0.0</td>\n",
       "      <td>0.0</td>\n",
       "      <td>0.0</td>\n",
       "      <td>0.0</td>\n",
       "      <td>0.0</td>\n",
       "    </tr>\n",
       "    <tr>\n",
       "      <td>128653</td>\n",
       "      <td>0.0</td>\n",
       "      <td>0.0</td>\n",
       "      <td>0.0</td>\n",
       "      <td>0.0</td>\n",
       "      <td>0.0</td>\n",
       "    </tr>\n",
       "    <tr>\n",
       "      <td>128654</td>\n",
       "      <td>0.0</td>\n",
       "      <td>0.0</td>\n",
       "      <td>0.0</td>\n",
       "      <td>0.0</td>\n",
       "      <td>0.0</td>\n",
       "    </tr>\n",
       "  </tbody>\n",
       "</table>\n",
       "<p>128655 rows × 5 columns</p>\n",
       "</div>"
      ],
      "text/plain": [
       "        clf1  clf2  clf3  clf4  clf5\n",
       "0        0.0   0.0   0.0   0.0   0.0\n",
       "1        0.0   0.0   0.0   0.0   0.0\n",
       "2        0.0   0.0   0.0   0.0   0.0\n",
       "3        0.0   0.0   0.0   0.0   0.0\n",
       "4        0.0   0.0   0.0   0.0   0.0\n",
       "...      ...   ...   ...   ...   ...\n",
       "128650   0.0   0.0   0.0   0.0   0.0\n",
       "128651   0.0   0.0   0.0   0.0   0.0\n",
       "128652   0.0   0.0   0.0   0.0   0.0\n",
       "128653   0.0   0.0   0.0   0.0   0.0\n",
       "128654   0.0   0.0   0.0   0.0   0.0\n",
       "\n",
       "[128655 rows x 5 columns]"
      ]
     },
     "execution_count": 52,
     "metadata": {},
     "output_type": "execute_result"
    }
   ],
   "source": [
    "layer1"
   ]
  },
  {
   "cell_type": "code",
   "execution_count": 53,
   "metadata": {},
   "outputs": [],
   "source": [
    "kf=KFold(n_splits=10)"
   ]
  },
  {
   "cell_type": "code",
   "execution_count": 54,
   "metadata": {},
   "outputs": [
    {
     "name": "stdout",
     "output_type": "stream",
     "text": [
      "fold number :  1\n",
      "Algo number : 1\n",
      "Algo number : 2\n"
     ]
    },
    {
     "ename": "ValueError",
     "evalue": "Input contains NaN, infinity or a value too large for dtype('float32').",
     "output_type": "error",
     "traceback": [
      "\u001b[1;31m---------------------------------------------------------------------------\u001b[0m",
      "\u001b[1;31mValueError\u001b[0m                                Traceback (most recent call last)",
      "\u001b[1;32m<ipython-input-54-090e5618acb6>\u001b[0m in \u001b[0;36m<module>\u001b[1;34m\u001b[0m\n\u001b[0;32m     10\u001b[0m         \u001b[0mx_train_left_out_chunk\u001b[0m\u001b[1;33m=\u001b[0m\u001b[0mx_train\u001b[0m\u001b[1;33m.\u001b[0m\u001b[0mloc\u001b[0m\u001b[1;33m[\u001b[0m\u001b[0mleft_out_chunk\u001b[0m\u001b[1;33m]\u001b[0m\u001b[1;33m\u001b[0m\u001b[1;33m\u001b[0m\u001b[0m\n\u001b[0;32m     11\u001b[0m \u001b[1;33m\u001b[0m\u001b[0m\n\u001b[1;32m---> 12\u001b[1;33m         \u001b[0mclf\u001b[0m\u001b[1;33m.\u001b[0m\u001b[0mfit\u001b[0m\u001b[1;33m(\u001b[0m\u001b[0mx_train_train\u001b[0m\u001b[1;33m,\u001b[0m\u001b[0my_train_train\u001b[0m\u001b[1;33m)\u001b[0m\u001b[1;33m\u001b[0m\u001b[1;33m\u001b[0m\u001b[0m\n\u001b[0m\u001b[0;32m     13\u001b[0m         \u001b[0mp\u001b[0m\u001b[1;33m=\u001b[0m\u001b[0mclf\u001b[0m\u001b[1;33m.\u001b[0m\u001b[0mpredict_proba\u001b[0m\u001b[1;33m(\u001b[0m\u001b[0mx_train_left_out_chunk\u001b[0m\u001b[1;33m)\u001b[0m\u001b[1;33m[\u001b[0m\u001b[1;33m:\u001b[0m\u001b[1;33m,\u001b[0m\u001b[1;36m1\u001b[0m\u001b[1;33m]\u001b[0m\u001b[1;33m\u001b[0m\u001b[1;33m\u001b[0m\u001b[0m\n\u001b[0;32m     14\u001b[0m \u001b[1;33m\u001b[0m\u001b[0m\n",
      "\u001b[1;32m~\\Anaconda3\\lib\\site-packages\\sklearn\\ensemble\\_forest.py\u001b[0m in \u001b[0;36mfit\u001b[1;34m(self, X, y, sample_weight)\u001b[0m\n\u001b[0;32m    293\u001b[0m         \"\"\"\n\u001b[0;32m    294\u001b[0m         \u001b[1;31m# Validate or convert input data\u001b[0m\u001b[1;33m\u001b[0m\u001b[1;33m\u001b[0m\u001b[1;33m\u001b[0m\u001b[0m\n\u001b[1;32m--> 295\u001b[1;33m         \u001b[0mX\u001b[0m \u001b[1;33m=\u001b[0m \u001b[0mcheck_array\u001b[0m\u001b[1;33m(\u001b[0m\u001b[0mX\u001b[0m\u001b[1;33m,\u001b[0m \u001b[0maccept_sparse\u001b[0m\u001b[1;33m=\u001b[0m\u001b[1;34m\"csc\"\u001b[0m\u001b[1;33m,\u001b[0m \u001b[0mdtype\u001b[0m\u001b[1;33m=\u001b[0m\u001b[0mDTYPE\u001b[0m\u001b[1;33m)\u001b[0m\u001b[1;33m\u001b[0m\u001b[1;33m\u001b[0m\u001b[0m\n\u001b[0m\u001b[0;32m    296\u001b[0m         \u001b[0my\u001b[0m \u001b[1;33m=\u001b[0m \u001b[0mcheck_array\u001b[0m\u001b[1;33m(\u001b[0m\u001b[0my\u001b[0m\u001b[1;33m,\u001b[0m \u001b[0maccept_sparse\u001b[0m\u001b[1;33m=\u001b[0m\u001b[1;34m'csc'\u001b[0m\u001b[1;33m,\u001b[0m \u001b[0mensure_2d\u001b[0m\u001b[1;33m=\u001b[0m\u001b[1;32mFalse\u001b[0m\u001b[1;33m,\u001b[0m \u001b[0mdtype\u001b[0m\u001b[1;33m=\u001b[0m\u001b[1;32mNone\u001b[0m\u001b[1;33m)\u001b[0m\u001b[1;33m\u001b[0m\u001b[1;33m\u001b[0m\u001b[0m\n\u001b[0;32m    297\u001b[0m         \u001b[1;32mif\u001b[0m \u001b[0msample_weight\u001b[0m \u001b[1;32mis\u001b[0m \u001b[1;32mnot\u001b[0m \u001b[1;32mNone\u001b[0m\u001b[1;33m:\u001b[0m\u001b[1;33m\u001b[0m\u001b[1;33m\u001b[0m\u001b[0m\n",
      "\u001b[1;32m~\\Anaconda3\\lib\\site-packages\\sklearn\\utils\\validation.py\u001b[0m in \u001b[0;36mcheck_array\u001b[1;34m(array, accept_sparse, accept_large_sparse, dtype, order, copy, force_all_finite, ensure_2d, allow_nd, ensure_min_samples, ensure_min_features, warn_on_dtype, estimator)\u001b[0m\n\u001b[0;32m    576\u001b[0m         \u001b[1;32mif\u001b[0m \u001b[0mforce_all_finite\u001b[0m\u001b[1;33m:\u001b[0m\u001b[1;33m\u001b[0m\u001b[1;33m\u001b[0m\u001b[0m\n\u001b[0;32m    577\u001b[0m             _assert_all_finite(array,\n\u001b[1;32m--> 578\u001b[1;33m                                allow_nan=force_all_finite == 'allow-nan')\n\u001b[0m\u001b[0;32m    579\u001b[0m \u001b[1;33m\u001b[0m\u001b[0m\n\u001b[0;32m    580\u001b[0m     \u001b[1;32mif\u001b[0m \u001b[0mensure_min_samples\u001b[0m \u001b[1;33m>\u001b[0m \u001b[1;36m0\u001b[0m\u001b[1;33m:\u001b[0m\u001b[1;33m\u001b[0m\u001b[1;33m\u001b[0m\u001b[0m\n",
      "\u001b[1;32m~\\Anaconda3\\lib\\site-packages\\sklearn\\utils\\validation.py\u001b[0m in \u001b[0;36m_assert_all_finite\u001b[1;34m(X, allow_nan, msg_dtype)\u001b[0m\n\u001b[0;32m     58\u001b[0m                     \u001b[0mmsg_err\u001b[0m\u001b[1;33m.\u001b[0m\u001b[0mformat\u001b[0m\u001b[1;33m\u001b[0m\u001b[1;33m\u001b[0m\u001b[0m\n\u001b[0;32m     59\u001b[0m                     (type_err,\n\u001b[1;32m---> 60\u001b[1;33m                      msg_dtype if msg_dtype is not None else X.dtype)\n\u001b[0m\u001b[0;32m     61\u001b[0m             )\n\u001b[0;32m     62\u001b[0m     \u001b[1;31m# for object dtype data, we only check for NaNs (GH-13254)\u001b[0m\u001b[1;33m\u001b[0m\u001b[1;33m\u001b[0m\u001b[1;33m\u001b[0m\u001b[0m\n",
      "\u001b[1;31mValueError\u001b[0m: Input contains NaN, infinity or a value too large for dtype('float32')."
     ]
    }
   ],
   "source": [
    "fold=1\n",
    "for train,left_out_chunk in kf.split(x_train):\n",
    "    print('fold number : ', fold)\n",
    "    \n",
    "    for i,clf in enumerate(Algos):\n",
    "        print('Algo number :',i+1)\n",
    "        \n",
    "        x_train_train=x_train.loc[train]\n",
    "        y_train_train=y_train[train]\n",
    "        x_train_left_out_chunk=x_train.loc[left_out_chunk]\n",
    "        \n",
    "        clf.fit(x_train_train,y_train_train)\n",
    "        p=clf.predict_proba(x_train_left_out_chunk)[:,1]\n",
    "        \n",
    "        layer1.iloc[left_out_chunk,i]=p\n",
    "        \n",
    "    fold+=1  \n",
    "    "
   ]
  },
  {
   "cell_type": "code",
   "execution_count": null,
   "metadata": {},
   "outputs": [],
   "source": []
  }
 ],
 "metadata": {
  "kernelspec": {
   "display_name": "Python 3",
   "language": "python",
   "name": "python3"
  },
  "language_info": {
   "codemirror_mode": {
    "name": "ipython",
    "version": 3
   },
   "file_extension": ".py",
   "mimetype": "text/x-python",
   "name": "python",
   "nbconvert_exporter": "python",
   "pygments_lexer": "ipython3",
   "version": "3.7.4"
  }
 },
 "nbformat": 4,
 "nbformat_minor": 2
}
