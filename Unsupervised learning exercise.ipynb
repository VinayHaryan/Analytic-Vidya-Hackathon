{
 "cells": [
  {
   "cell_type": "markdown",
   "metadata": {},
   "source": [
    "## Practice Exercise for unsupervised learning\n",
    "\n",
    "<ol>\n",
    "<li> Consider alcohol, sulphates and pH in wine data and find optimal number of clusters using Kmeans. Visualise the cluster memberships in pairwise plots and explain why do you see overlap.\n",
    "<br></br>\n",
    "\n",
    "\n",
    "<li> Figure out why silhoutte score is not a good measure for DBSCAN. See if you can find a good measure for goodness of clusters found through dbscan.\n",
    "<br></br>\n",
    "\n",
    "<li> Use dbscan to find out customers which are very different in terms of purchase patterns in the dataset . Consider only and milk and groceries purchase data from dataset 'Wholesale customers data.csv'.\n",
    "<br></br>\n",
    "\n",
    "<li>For the case study \"cars.csv\" taken in the class:<br></br>\n",
    "    a. Drop the variables for which noice variance is higher than 0.1 when you consider number of factors as 4<br></br>\n",
    "    b. After dropping find latent factors depending upon the variable loadings in the factor, try to label them.\n",
    "<ol>"
   ]
  }
 ],
 "metadata": {
  "anaconda-cloud": {},
  "kernelspec": {
   "display_name": "Python [Root]",
   "language": "python",
   "name": "Python [Root]"
  },
  "language_info": {
   "codemirror_mode": {
    "name": "ipython",
    "version": 3
   },
   "file_extension": ".py",
   "mimetype": "text/x-python",
   "name": "python",
   "nbconvert_exporter": "python",
   "pygments_lexer": "ipython3",
   "version": "3.5.2"
  }
 },
 "nbformat": 4,
 "nbformat_minor": 0
}
