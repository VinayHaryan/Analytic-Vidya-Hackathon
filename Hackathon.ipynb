{
 "cells": [
  {
   "cell_type": "code",
   "execution_count": 1,
   "metadata": {},
   "outputs": [],
   "source": [
    "import numpy as np\n",
    "import pandas as pd\n",
    "import warnings\n",
    "warnings.filterwarnings('ignore')\n",
    "from sklearn.preprocessing import StandardScaler"
   ]
  },
  {
   "cell_type": "code",
   "execution_count": 2,
   "metadata": {},
   "outputs": [
    {
     "data": {
      "text/html": [
       "<div>\n",
       "<style scoped>\n",
       "    .dataframe tbody tr th:only-of-type {\n",
       "        vertical-align: middle;\n",
       "    }\n",
       "\n",
       "    .dataframe tbody tr th {\n",
       "        vertical-align: top;\n",
       "    }\n",
       "\n",
       "    .dataframe thead th {\n",
       "        text-align: right;\n",
       "    }\n",
       "</style>\n",
       "<table border=\"1\" class=\"dataframe\">\n",
       "  <thead>\n",
       "    <tr style=\"text-align: right;\">\n",
       "      <th></th>\n",
       "      <th>ID</th>\n",
       "      <th>SELF-INDICATOR</th>\n",
       "      <th>MATCH-TYPE</th>\n",
       "      <th>ACCT-TYPE</th>\n",
       "      <th>CONTRIBUTOR-TYPE</th>\n",
       "      <th>DATE-REPORTED</th>\n",
       "      <th>OWNERSHIP-IND</th>\n",
       "      <th>ACCOUNT-STATUS</th>\n",
       "      <th>DISBURSED-DT</th>\n",
       "      <th>CLOSE-DT</th>\n",
       "      <th>...</th>\n",
       "      <th>INSTALLMENT-FREQUENCY</th>\n",
       "      <th>OVERDUE-AMT</th>\n",
       "      <th>WRITE-OFF-AMT</th>\n",
       "      <th>ASSET_CLASS</th>\n",
       "      <th>REPORTED DATE - HIST</th>\n",
       "      <th>DPD - HIST</th>\n",
       "      <th>CUR BAL - HIST</th>\n",
       "      <th>AMT OVERDUE - HIST</th>\n",
       "      <th>AMT PAID - HIST</th>\n",
       "      <th>TENURE</th>\n",
       "    </tr>\n",
       "  </thead>\n",
       "  <tbody>\n",
       "    <tr>\n",
       "      <td>0</td>\n",
       "      <td>1</td>\n",
       "      <td>False</td>\n",
       "      <td>PRIMARY</td>\n",
       "      <td>Overdraft</td>\n",
       "      <td>NAB</td>\n",
       "      <td>2018-04-30</td>\n",
       "      <td>Individual</td>\n",
       "      <td>Delinquent</td>\n",
       "      <td>2015-10-05</td>\n",
       "      <td>NaN</td>\n",
       "      <td>...</td>\n",
       "      <td>NaN</td>\n",
       "      <td>37,873</td>\n",
       "      <td>0.0</td>\n",
       "      <td>Standard</td>\n",
       "      <td>20180430,20180331,</td>\n",
       "      <td>030000</td>\n",
       "      <td>37873,12820,</td>\n",
       "      <td>37873,,</td>\n",
       "      <td>,,</td>\n",
       "      <td>NaN</td>\n",
       "    </tr>\n",
       "    <tr>\n",
       "      <td>1</td>\n",
       "      <td>1</td>\n",
       "      <td>False</td>\n",
       "      <td>PRIMARY</td>\n",
       "      <td>Auto Loan (Personal)</td>\n",
       "      <td>NAB</td>\n",
       "      <td>2019-12-31</td>\n",
       "      <td>Individual</td>\n",
       "      <td>Active</td>\n",
       "      <td>2018-03-19</td>\n",
       "      <td>NaN</td>\n",
       "      <td>...</td>\n",
       "      <td>F03</td>\n",
       "      <td>NaN</td>\n",
       "      <td>0.0</td>\n",
       "      <td>Standard</td>\n",
       "      <td>20191231,20191130,20191031,20190930,20190831,2...</td>\n",
       "      <td>0000000000000000000000000000000000000000000000...</td>\n",
       "      <td>20797,21988,23174,24341,25504,26648,27780,2891...</td>\n",
       "      <td>,,,,,,,,,,,,,,,,,,,,1452,,</td>\n",
       "      <td>,,,,,,,,,,,,,,,,,,,,,,</td>\n",
       "      <td>36.0</td>\n",
       "    </tr>\n",
       "    <tr>\n",
       "      <td>2</td>\n",
       "      <td>1</td>\n",
       "      <td>True</td>\n",
       "      <td>PRIMARY</td>\n",
       "      <td>Tractor Loan</td>\n",
       "      <td>NBF</td>\n",
       "      <td>2020-01-31</td>\n",
       "      <td>Individual</td>\n",
       "      <td>Active</td>\n",
       "      <td>2019-08-30</td>\n",
       "      <td>NaN</td>\n",
       "      <td>...</td>\n",
       "      <td>NaN</td>\n",
       "      <td>0</td>\n",
       "      <td>0.0</td>\n",
       "      <td>NaN</td>\n",
       "      <td>20200131,20191231,20191130,20191031,20190930,2...</td>\n",
       "      <td>000000000000000000</td>\n",
       "      <td>116087,116087,145000,145000,145000,145000,</td>\n",
       "      <td>0,0,0,0,0,0,</td>\n",
       "      <td>,,,,,,</td>\n",
       "      <td>NaN</td>\n",
       "    </tr>\n",
       "    <tr>\n",
       "      <td>3</td>\n",
       "      <td>1</td>\n",
       "      <td>True</td>\n",
       "      <td>PRIMARY</td>\n",
       "      <td>Auto Loan (Personal)</td>\n",
       "      <td>NBF</td>\n",
       "      <td>2017-09-30</td>\n",
       "      <td>Individual</td>\n",
       "      <td>Closed</td>\n",
       "      <td>2013-09-27</td>\n",
       "      <td>2017-09-21 00:00:00</td>\n",
       "      <td>...</td>\n",
       "      <td>NaN</td>\n",
       "      <td>0</td>\n",
       "      <td>0.0</td>\n",
       "      <td>NaN</td>\n",
       "      <td>20170930,20170801,20170731,20170630,20170531,2...</td>\n",
       "      <td>000DDD0270260270260270240270270000320000000000...</td>\n",
       "      <td>0,,15925,23754,31494,39147,46713,54194,61590,6...</td>\n",
       "      <td>0,,1014,1014,1014,1014,1014,1014,1014,983,0,92...</td>\n",
       "      <td>,,,,,,,,,,,,,,,,,,,,,,,,,,,,,,,,,,,,,</td>\n",
       "      <td>NaN</td>\n",
       "    </tr>\n",
       "    <tr>\n",
       "      <td>4</td>\n",
       "      <td>1</td>\n",
       "      <td>True</td>\n",
       "      <td>PRIMARY</td>\n",
       "      <td>Tractor Loan</td>\n",
       "      <td>NBF</td>\n",
       "      <td>2016-02-29</td>\n",
       "      <td>Individual</td>\n",
       "      <td>Closed</td>\n",
       "      <td>2012-02-10</td>\n",
       "      <td>2016-02-01 00:00:00</td>\n",
       "      <td>...</td>\n",
       "      <td>NaN</td>\n",
       "      <td>0</td>\n",
       "      <td>0.0</td>\n",
       "      <td>NaN</td>\n",
       "      <td>20160229,20160131,20151231,20151130,20151031,2...</td>\n",
       "      <td>0000000000000000000000000000000000000000000000...</td>\n",
       "      <td>0,0,23658,23321,22989,46321,45662,45012,68030,...</td>\n",
       "      <td>0,0,0,0,0,0,0,0,0,0,0,0,0,0,0,0,0,0,0,0,0,0,0,...</td>\n",
       "      <td>,,,,,,,,,,,,,,,,,,,,,,,,,,,,,,,,,,,,,</td>\n",
       "      <td>NaN</td>\n",
       "    </tr>\n",
       "  </tbody>\n",
       "</table>\n",
       "<p>5 rows × 25 columns</p>\n",
       "</div>"
      ],
      "text/plain": [
       "   ID  SELF-INDICATOR MATCH-TYPE             ACCT-TYPE CONTRIBUTOR-TYPE  \\\n",
       "0   1           False    PRIMARY             Overdraft              NAB   \n",
       "1   1           False    PRIMARY  Auto Loan (Personal)              NAB   \n",
       "2   1            True    PRIMARY          Tractor Loan              NBF   \n",
       "3   1            True    PRIMARY  Auto Loan (Personal)              NBF   \n",
       "4   1            True    PRIMARY          Tractor Loan              NBF   \n",
       "\n",
       "  DATE-REPORTED OWNERSHIP-IND ACCOUNT-STATUS DISBURSED-DT  \\\n",
       "0    2018-04-30    Individual     Delinquent   2015-10-05   \n",
       "1    2019-12-31    Individual         Active   2018-03-19   \n",
       "2    2020-01-31    Individual         Active   2019-08-30   \n",
       "3    2017-09-30    Individual         Closed   2013-09-27   \n",
       "4    2016-02-29    Individual         Closed   2012-02-10   \n",
       "\n",
       "              CLOSE-DT  ... INSTALLMENT-FREQUENCY OVERDUE-AMT WRITE-OFF-AMT  \\\n",
       "0                  NaN  ...                   NaN      37,873           0.0   \n",
       "1                  NaN  ...                   F03         NaN           0.0   \n",
       "2                  NaN  ...                   NaN           0           0.0   \n",
       "3  2017-09-21 00:00:00  ...                   NaN           0           0.0   \n",
       "4  2016-02-01 00:00:00  ...                   NaN           0           0.0   \n",
       "\n",
       "  ASSET_CLASS                               REPORTED DATE - HIST  \\\n",
       "0    Standard                                 20180430,20180331,   \n",
       "1    Standard  20191231,20191130,20191031,20190930,20190831,2...   \n",
       "2         NaN  20200131,20191231,20191130,20191031,20190930,2...   \n",
       "3         NaN  20170930,20170801,20170731,20170630,20170531,2...   \n",
       "4         NaN  20160229,20160131,20151231,20151130,20151031,2...   \n",
       "\n",
       "                                          DPD - HIST  \\\n",
       "0                                             030000   \n",
       "1  0000000000000000000000000000000000000000000000...   \n",
       "2                                 000000000000000000   \n",
       "3  000DDD0270260270260270240270270000320000000000...   \n",
       "4  0000000000000000000000000000000000000000000000...   \n",
       "\n",
       "                                      CUR BAL - HIST  \\\n",
       "0                                       37873,12820,   \n",
       "1  20797,21988,23174,24341,25504,26648,27780,2891...   \n",
       "2         116087,116087,145000,145000,145000,145000,   \n",
       "3  0,,15925,23754,31494,39147,46713,54194,61590,6...   \n",
       "4  0,0,23658,23321,22989,46321,45662,45012,68030,...   \n",
       "\n",
       "                                  AMT OVERDUE - HIST  \\\n",
       "0                                            37873,,   \n",
       "1                         ,,,,,,,,,,,,,,,,,,,,1452,,   \n",
       "2                                       0,0,0,0,0,0,   \n",
       "3  0,,1014,1014,1014,1014,1014,1014,1014,983,0,92...   \n",
       "4  0,0,0,0,0,0,0,0,0,0,0,0,0,0,0,0,0,0,0,0,0,0,0,...   \n",
       "\n",
       "                         AMT PAID - HIST TENURE  \n",
       "0                                     ,,    NaN  \n",
       "1                 ,,,,,,,,,,,,,,,,,,,,,,   36.0  \n",
       "2                                 ,,,,,,    NaN  \n",
       "3  ,,,,,,,,,,,,,,,,,,,,,,,,,,,,,,,,,,,,,    NaN  \n",
       "4  ,,,,,,,,,,,,,,,,,,,,,,,,,,,,,,,,,,,,,    NaN  \n",
       "\n",
       "[5 rows x 25 columns]"
      ]
     },
     "execution_count": 2,
     "metadata": {},
     "output_type": "execute_result"
    }
   ],
   "source": [
    "train_bureau = pd.read_excel('C:/Users/user/Downloads/Analytic Vidya Hackthon/Train/Train/train_bureau.xlsx')\n",
    "train_bureau.head()"
   ]
  },
  {
   "cell_type": "code",
   "execution_count": 3,
   "metadata": {},
   "outputs": [
    {
     "data": {
      "text/html": [
       "<div>\n",
       "<style scoped>\n",
       "    .dataframe tbody tr th:only-of-type {\n",
       "        vertical-align: middle;\n",
       "    }\n",
       "\n",
       "    .dataframe tbody tr th {\n",
       "        vertical-align: top;\n",
       "    }\n",
       "\n",
       "    .dataframe thead th {\n",
       "        text-align: right;\n",
       "    }\n",
       "</style>\n",
       "<table border=\"1\" class=\"dataframe\">\n",
       "  <thead>\n",
       "    <tr style=\"text-align: right;\">\n",
       "      <th></th>\n",
       "      <th>ID</th>\n",
       "      <th>Frequency</th>\n",
       "      <th>InstlmentMode</th>\n",
       "      <th>LoanStatus</th>\n",
       "      <th>PaymentMode</th>\n",
       "      <th>BranchID</th>\n",
       "      <th>Area</th>\n",
       "      <th>Tenure</th>\n",
       "      <th>AssetCost</th>\n",
       "      <th>AmountFinance</th>\n",
       "      <th>...</th>\n",
       "      <th>ManufacturerID</th>\n",
       "      <th>SupplierID</th>\n",
       "      <th>LTV</th>\n",
       "      <th>SEX</th>\n",
       "      <th>AGE</th>\n",
       "      <th>MonthlyIncome</th>\n",
       "      <th>City</th>\n",
       "      <th>State</th>\n",
       "      <th>ZiPCODE</th>\n",
       "      <th>Top-up Month</th>\n",
       "    </tr>\n",
       "  </thead>\n",
       "  <tbody>\n",
       "    <tr>\n",
       "      <td>0</td>\n",
       "      <td>1</td>\n",
       "      <td>Monthly</td>\n",
       "      <td>Arrear</td>\n",
       "      <td>Closed</td>\n",
       "      <td>PDC_E</td>\n",
       "      <td>1</td>\n",
       "      <td>NaN</td>\n",
       "      <td>48</td>\n",
       "      <td>450000</td>\n",
       "      <td>275000.0</td>\n",
       "      <td>...</td>\n",
       "      <td>1568</td>\n",
       "      <td>21946</td>\n",
       "      <td>61.11</td>\n",
       "      <td>M</td>\n",
       "      <td>49.0</td>\n",
       "      <td>35833.33</td>\n",
       "      <td>RAISEN</td>\n",
       "      <td>MADHYA PRADESH</td>\n",
       "      <td>464993.0</td>\n",
       "      <td>&gt; 48 Months</td>\n",
       "    </tr>\n",
       "    <tr>\n",
       "      <td>1</td>\n",
       "      <td>2</td>\n",
       "      <td>Monthly</td>\n",
       "      <td>Advance</td>\n",
       "      <td>Closed</td>\n",
       "      <td>PDC</td>\n",
       "      <td>333</td>\n",
       "      <td>BHOPAL</td>\n",
       "      <td>47</td>\n",
       "      <td>485000</td>\n",
       "      <td>350000.0</td>\n",
       "      <td>...</td>\n",
       "      <td>1062</td>\n",
       "      <td>34802</td>\n",
       "      <td>70.00</td>\n",
       "      <td>M</td>\n",
       "      <td>23.0</td>\n",
       "      <td>666.67</td>\n",
       "      <td>SEHORE</td>\n",
       "      <td>MADHYA PRADESH</td>\n",
       "      <td>466001.0</td>\n",
       "      <td>No Top-up Service</td>\n",
       "    </tr>\n",
       "    <tr>\n",
       "      <td>2</td>\n",
       "      <td>3</td>\n",
       "      <td>Quatrly</td>\n",
       "      <td>Arrear</td>\n",
       "      <td>Active</td>\n",
       "      <td>Direct Debit</td>\n",
       "      <td>1</td>\n",
       "      <td>NaN</td>\n",
       "      <td>68</td>\n",
       "      <td>690000</td>\n",
       "      <td>519728.0</td>\n",
       "      <td>...</td>\n",
       "      <td>1060</td>\n",
       "      <td>127335</td>\n",
       "      <td>69.77</td>\n",
       "      <td>M</td>\n",
       "      <td>39.0</td>\n",
       "      <td>45257.00</td>\n",
       "      <td>BHOPAL</td>\n",
       "      <td>MADHYA PRADESH</td>\n",
       "      <td>462030.0</td>\n",
       "      <td>12-18 Months</td>\n",
       "    </tr>\n",
       "    <tr>\n",
       "      <td>3</td>\n",
       "      <td>7</td>\n",
       "      <td>Monthly</td>\n",
       "      <td>Advance</td>\n",
       "      <td>Closed</td>\n",
       "      <td>Billed</td>\n",
       "      <td>125</td>\n",
       "      <td>GUNA</td>\n",
       "      <td>48</td>\n",
       "      <td>480000</td>\n",
       "      <td>400000.0</td>\n",
       "      <td>...</td>\n",
       "      <td>1060</td>\n",
       "      <td>25094</td>\n",
       "      <td>80.92</td>\n",
       "      <td>M</td>\n",
       "      <td>24.0</td>\n",
       "      <td>20833.33</td>\n",
       "      <td>ASHOK NAGAR</td>\n",
       "      <td>MADHYA PRADESH</td>\n",
       "      <td>473335.0</td>\n",
       "      <td>&gt; 48 Months</td>\n",
       "    </tr>\n",
       "    <tr>\n",
       "      <td>4</td>\n",
       "      <td>8</td>\n",
       "      <td>Monthly</td>\n",
       "      <td>Arrear</td>\n",
       "      <td>Closed</td>\n",
       "      <td>Billed</td>\n",
       "      <td>152</td>\n",
       "      <td>BILASPUR</td>\n",
       "      <td>44</td>\n",
       "      <td>619265</td>\n",
       "      <td>440000.0</td>\n",
       "      <td>...</td>\n",
       "      <td>1046</td>\n",
       "      <td>21853</td>\n",
       "      <td>71.05</td>\n",
       "      <td>M</td>\n",
       "      <td>56.0</td>\n",
       "      <td>27313.67</td>\n",
       "      <td>BILASPUR</td>\n",
       "      <td>CHATTISGARH</td>\n",
       "      <td>495442.0</td>\n",
       "      <td>36-48 Months</td>\n",
       "    </tr>\n",
       "  </tbody>\n",
       "</table>\n",
       "<p>5 rows × 26 columns</p>\n",
       "</div>"
      ],
      "text/plain": [
       "   ID Frequency InstlmentMode LoanStatus   PaymentMode  BranchID      Area  \\\n",
       "0   1   Monthly        Arrear     Closed         PDC_E         1       NaN   \n",
       "1   2   Monthly       Advance     Closed           PDC       333    BHOPAL   \n",
       "2   3   Quatrly        Arrear     Active  Direct Debit         1       NaN   \n",
       "3   7   Monthly       Advance     Closed        Billed       125      GUNA   \n",
       "4   8   Monthly        Arrear     Closed        Billed       152  BILASPUR   \n",
       "\n",
       "   Tenure  AssetCost  AmountFinance  ...  ManufacturerID  SupplierID    LTV  \\\n",
       "0      48     450000       275000.0  ...            1568       21946  61.11   \n",
       "1      47     485000       350000.0  ...            1062       34802  70.00   \n",
       "2      68     690000       519728.0  ...            1060      127335  69.77   \n",
       "3      48     480000       400000.0  ...            1060       25094  80.92   \n",
       "4      44     619265       440000.0  ...            1046       21853  71.05   \n",
       "\n",
       "  SEX   AGE  MonthlyIncome         City           State   ZiPCODE  \\\n",
       "0   M  49.0       35833.33       RAISEN  MADHYA PRADESH  464993.0   \n",
       "1   M  23.0         666.67       SEHORE  MADHYA PRADESH  466001.0   \n",
       "2   M  39.0       45257.00       BHOPAL  MADHYA PRADESH  462030.0   \n",
       "3   M  24.0       20833.33  ASHOK NAGAR  MADHYA PRADESH  473335.0   \n",
       "4   M  56.0       27313.67     BILASPUR     CHATTISGARH  495442.0   \n",
       "\n",
       "        Top-up Month  \n",
       "0        > 48 Months  \n",
       "1  No Top-up Service  \n",
       "2       12-18 Months  \n",
       "3        > 48 Months  \n",
       "4       36-48 Months  \n",
       "\n",
       "[5 rows x 26 columns]"
      ]
     },
     "execution_count": 3,
     "metadata": {},
     "output_type": "execute_result"
    }
   ],
   "source": [
    "train_data = pd.read_excel('C:/Users/user/Downloads/Analytic Vidya Hackthon/Train/Train/train_Data.xlsx')\n",
    "train_data.head()"
   ]
  },
  {
   "cell_type": "code",
   "execution_count": 4,
   "metadata": {},
   "outputs": [
    {
     "data": {
      "text/html": [
       "<div>\n",
       "<style scoped>\n",
       "    .dataframe tbody tr th:only-of-type {\n",
       "        vertical-align: middle;\n",
       "    }\n",
       "\n",
       "    .dataframe tbody tr th {\n",
       "        vertical-align: top;\n",
       "    }\n",
       "\n",
       "    .dataframe thead th {\n",
       "        text-align: right;\n",
       "    }\n",
       "</style>\n",
       "<table border=\"1\" class=\"dataframe\">\n",
       "  <thead>\n",
       "    <tr style=\"text-align: right;\">\n",
       "      <th></th>\n",
       "      <th>ID</th>\n",
       "      <th>SELF-INDICATOR</th>\n",
       "      <th>MATCH-TYPE</th>\n",
       "      <th>ACCT-TYPE</th>\n",
       "      <th>CONTRIBUTOR-TYPE</th>\n",
       "      <th>DATE-REPORTED</th>\n",
       "      <th>OWNERSHIP-IND</th>\n",
       "      <th>ACCOUNT-STATUS</th>\n",
       "      <th>DISBURSED-DT</th>\n",
       "      <th>CLOSE-DT</th>\n",
       "      <th>...</th>\n",
       "      <th>INSTALLMENT-FREQUENCY</th>\n",
       "      <th>OVERDUE-AMT</th>\n",
       "      <th>WRITE-OFF-AMT</th>\n",
       "      <th>ASSET_CLASS</th>\n",
       "      <th>REPORTED DATE - HIST</th>\n",
       "      <th>DPD - HIST</th>\n",
       "      <th>CUR BAL - HIST</th>\n",
       "      <th>AMT OVERDUE - HIST</th>\n",
       "      <th>AMT PAID - HIST</th>\n",
       "      <th>TENURE</th>\n",
       "    </tr>\n",
       "  </thead>\n",
       "  <tbody>\n",
       "    <tr>\n",
       "      <td>0</td>\n",
       "      <td>4</td>\n",
       "      <td>False</td>\n",
       "      <td>PRIMARY</td>\n",
       "      <td>Credit Card</td>\n",
       "      <td>CCC</td>\n",
       "      <td>2019-11-17</td>\n",
       "      <td>Individual</td>\n",
       "      <td>Active</td>\n",
       "      <td>2019-09-26</td>\n",
       "      <td>NaN</td>\n",
       "      <td>...</td>\n",
       "      <td>NaN</td>\n",
       "      <td>0</td>\n",
       "      <td>0.0</td>\n",
       "      <td>NaN</td>\n",
       "      <td>20191117,</td>\n",
       "      <td>000</td>\n",
       "      <td>589,</td>\n",
       "      <td>0,</td>\n",
       "      <td>0,</td>\n",
       "      <td>NaN</td>\n",
       "    </tr>\n",
       "    <tr>\n",
       "      <td>1</td>\n",
       "      <td>4</td>\n",
       "      <td>False</td>\n",
       "      <td>PRIMARY</td>\n",
       "      <td>Housing Loan</td>\n",
       "      <td>HFC</td>\n",
       "      <td>2019-10-31</td>\n",
       "      <td>Joint</td>\n",
       "      <td>Active</td>\n",
       "      <td>2017-06-21</td>\n",
       "      <td>NaN</td>\n",
       "      <td>...</td>\n",
       "      <td>F03</td>\n",
       "      <td>0</td>\n",
       "      <td>0.0</td>\n",
       "      <td>NaN</td>\n",
       "      <td>20191031,20190930,20190831,20190731,20190630,2...</td>\n",
       "      <td>0000000000000000000000000000000000000000000000...</td>\n",
       "      <td>2107227,2122196,2136877,2151448,2165910,218026...</td>\n",
       "      <td>0,0,0,0,0,0,0,0,0,0,0,0,0,0,0,0,0,0,0,0,0,0,0,...</td>\n",
       "      <td>,,,,,,,,,,,,,,,,,,,,,,,,,,,,,</td>\n",
       "      <td>120.0</td>\n",
       "    </tr>\n",
       "    <tr>\n",
       "      <td>2</td>\n",
       "      <td>4</td>\n",
       "      <td>False</td>\n",
       "      <td>PRIMARY</td>\n",
       "      <td>Property Loan</td>\n",
       "      <td>HFC</td>\n",
       "      <td>2019-10-31</td>\n",
       "      <td>Joint</td>\n",
       "      <td>Active</td>\n",
       "      <td>2017-06-27</td>\n",
       "      <td>NaN</td>\n",
       "      <td>...</td>\n",
       "      <td>F03</td>\n",
       "      <td>0</td>\n",
       "      <td>0.0</td>\n",
       "      <td>NaN</td>\n",
       "      <td>20191031,20190930,20190831,20190731,20190630,2...</td>\n",
       "      <td>0000000000000000000000000000000000000000000000...</td>\n",
       "      <td>83458,84051,84632,85209,85781,86349,86913,8747...</td>\n",
       "      <td>0,0,0,0,0,0,0,0,0,0,0,0,0,0,0,0,0,0,0,0,0,0,0,...</td>\n",
       "      <td>,,,,,,,,,,,,,,,,,,,,,,,,,,,,,</td>\n",
       "      <td>120.0</td>\n",
       "    </tr>\n",
       "    <tr>\n",
       "      <td>3</td>\n",
       "      <td>4</td>\n",
       "      <td>True</td>\n",
       "      <td>PRIMARY</td>\n",
       "      <td>Tractor Loan</td>\n",
       "      <td>NBF</td>\n",
       "      <td>2015-10-31</td>\n",
       "      <td>Individual</td>\n",
       "      <td>Closed</td>\n",
       "      <td>2011-12-29</td>\n",
       "      <td>2015-10-13 00:00:00</td>\n",
       "      <td>...</td>\n",
       "      <td>NaN</td>\n",
       "      <td>0</td>\n",
       "      <td>0.0</td>\n",
       "      <td>NaN</td>\n",
       "      <td>20151031,20150901,20150831,20150731,20150630,2...</td>\n",
       "      <td>000DDD0270000000000000000000000000000000000000...</td>\n",
       "      <td>0,,21548,32097,42500,52758,62874,72850,82688,9...</td>\n",
       "      <td>0,,11000,0,0,0,0,0,0,0,0,0,0,0,0,0,0,0,0,0,0,0...</td>\n",
       "      <td>,,,,,,,,,,,,,,,,,,,,,,,,,,,,,,,,,,,,,</td>\n",
       "      <td>NaN</td>\n",
       "    </tr>\n",
       "    <tr>\n",
       "      <td>4</td>\n",
       "      <td>5</td>\n",
       "      <td>False</td>\n",
       "      <td>PRIMARY</td>\n",
       "      <td>Gold Loan</td>\n",
       "      <td>PRB</td>\n",
       "      <td>2017-08-31</td>\n",
       "      <td>Individual</td>\n",
       "      <td>Closed</td>\n",
       "      <td>2016-05-04</td>\n",
       "      <td>2017-06-15 00:00:00</td>\n",
       "      <td>...</td>\n",
       "      <td>NaN</td>\n",
       "      <td>0</td>\n",
       "      <td>0.0</td>\n",
       "      <td>NaN</td>\n",
       "      <td>20170630,20170501,20170401,20170331,20170201,2...</td>\n",
       "      <td>000DDDDDD000DDDDDD000DDDDDD000DDDDDD000</td>\n",
       "      <td>0,,,25846,,,25846,,,25846,,,25846,</td>\n",
       "      <td>0,,,0,,,0,,,0,,,0</td>\n",
       "      <td>,,,,,,,,,,,,,,</td>\n",
       "      <td>NaN</td>\n",
       "    </tr>\n",
       "  </tbody>\n",
       "</table>\n",
       "<p>5 rows × 25 columns</p>\n",
       "</div>"
      ],
      "text/plain": [
       "   ID  SELF-INDICATOR MATCH-TYPE      ACCT-TYPE CONTRIBUTOR-TYPE  \\\n",
       "0   4           False    PRIMARY    Credit Card              CCC   \n",
       "1   4           False    PRIMARY   Housing Loan              HFC   \n",
       "2   4           False    PRIMARY  Property Loan              HFC   \n",
       "3   4            True    PRIMARY   Tractor Loan              NBF   \n",
       "4   5           False    PRIMARY      Gold Loan              PRB   \n",
       "\n",
       "  DATE-REPORTED OWNERSHIP-IND ACCOUNT-STATUS DISBURSED-DT  \\\n",
       "0    2019-11-17    Individual         Active   2019-09-26   \n",
       "1    2019-10-31         Joint         Active   2017-06-21   \n",
       "2    2019-10-31         Joint         Active   2017-06-27   \n",
       "3    2015-10-31    Individual         Closed   2011-12-29   \n",
       "4    2017-08-31    Individual         Closed   2016-05-04   \n",
       "\n",
       "              CLOSE-DT  ... INSTALLMENT-FREQUENCY OVERDUE-AMT WRITE-OFF-AMT  \\\n",
       "0                  NaN  ...                   NaN           0           0.0   \n",
       "1                  NaN  ...                   F03           0           0.0   \n",
       "2                  NaN  ...                   F03           0           0.0   \n",
       "3  2015-10-13 00:00:00  ...                   NaN           0           0.0   \n",
       "4  2017-06-15 00:00:00  ...                   NaN           0           0.0   \n",
       "\n",
       "  ASSET_CLASS                               REPORTED DATE - HIST  \\\n",
       "0         NaN                                          20191117,   \n",
       "1         NaN  20191031,20190930,20190831,20190731,20190630,2...   \n",
       "2         NaN  20191031,20190930,20190831,20190731,20190630,2...   \n",
       "3         NaN  20151031,20150901,20150831,20150731,20150630,2...   \n",
       "4         NaN  20170630,20170501,20170401,20170331,20170201,2...   \n",
       "\n",
       "                                          DPD - HIST  \\\n",
       "0                                                000   \n",
       "1  0000000000000000000000000000000000000000000000...   \n",
       "2  0000000000000000000000000000000000000000000000...   \n",
       "3  000DDD0270000000000000000000000000000000000000...   \n",
       "4            000DDDDDD000DDDDDD000DDDDDD000DDDDDD000   \n",
       "\n",
       "                                      CUR BAL - HIST  \\\n",
       "0                                               589,   \n",
       "1  2107227,2122196,2136877,2151448,2165910,218026...   \n",
       "2  83458,84051,84632,85209,85781,86349,86913,8747...   \n",
       "3  0,,21548,32097,42500,52758,62874,72850,82688,9...   \n",
       "4                 0,,,25846,,,25846,,,25846,,,25846,   \n",
       "\n",
       "                                  AMT OVERDUE - HIST  \\\n",
       "0                                                 0,   \n",
       "1  0,0,0,0,0,0,0,0,0,0,0,0,0,0,0,0,0,0,0,0,0,0,0,...   \n",
       "2  0,0,0,0,0,0,0,0,0,0,0,0,0,0,0,0,0,0,0,0,0,0,0,...   \n",
       "3  0,,11000,0,0,0,0,0,0,0,0,0,0,0,0,0,0,0,0,0,0,0...   \n",
       "4                                  0,,,0,,,0,,,0,,,0   \n",
       "\n",
       "                         AMT PAID - HIST TENURE  \n",
       "0                                     0,    NaN  \n",
       "1          ,,,,,,,,,,,,,,,,,,,,,,,,,,,,,  120.0  \n",
       "2          ,,,,,,,,,,,,,,,,,,,,,,,,,,,,,  120.0  \n",
       "3  ,,,,,,,,,,,,,,,,,,,,,,,,,,,,,,,,,,,,,    NaN  \n",
       "4                         ,,,,,,,,,,,,,,    NaN  \n",
       "\n",
       "[5 rows x 25 columns]"
      ]
     },
     "execution_count": 4,
     "metadata": {},
     "output_type": "execute_result"
    }
   ],
   "source": [
    "test_bureau = pd.read_excel('C:/Users/user/Downloads/Analytic Vidya Hackthon/Test/test_bureau.xlsx')\n",
    "test_bureau.head()"
   ]
  },
  {
   "cell_type": "code",
   "execution_count": 5,
   "metadata": {},
   "outputs": [
    {
     "data": {
      "text/html": [
       "<div>\n",
       "<style scoped>\n",
       "    .dataframe tbody tr th:only-of-type {\n",
       "        vertical-align: middle;\n",
       "    }\n",
       "\n",
       "    .dataframe tbody tr th {\n",
       "        vertical-align: top;\n",
       "    }\n",
       "\n",
       "    .dataframe thead th {\n",
       "        text-align: right;\n",
       "    }\n",
       "</style>\n",
       "<table border=\"1\" class=\"dataframe\">\n",
       "  <thead>\n",
       "    <tr style=\"text-align: right;\">\n",
       "      <th></th>\n",
       "      <th>ID</th>\n",
       "      <th>Frequency</th>\n",
       "      <th>InstlmentMode</th>\n",
       "      <th>LoanStatus</th>\n",
       "      <th>PaymentMode</th>\n",
       "      <th>BranchID</th>\n",
       "      <th>Area</th>\n",
       "      <th>Tenure</th>\n",
       "      <th>AssetCost</th>\n",
       "      <th>AmountFinance</th>\n",
       "      <th>...</th>\n",
       "      <th>AssetID</th>\n",
       "      <th>ManufacturerID</th>\n",
       "      <th>SupplierID</th>\n",
       "      <th>LTV</th>\n",
       "      <th>SEX</th>\n",
       "      <th>AGE</th>\n",
       "      <th>MonthlyIncome</th>\n",
       "      <th>City</th>\n",
       "      <th>State</th>\n",
       "      <th>ZiPCODE</th>\n",
       "    </tr>\n",
       "  </thead>\n",
       "  <tbody>\n",
       "    <tr>\n",
       "      <td>0</td>\n",
       "      <td>4</td>\n",
       "      <td>Monthly</td>\n",
       "      <td>Advance</td>\n",
       "      <td>Closed</td>\n",
       "      <td>PDC_E</td>\n",
       "      <td>2</td>\n",
       "      <td>GUNA</td>\n",
       "      <td>46</td>\n",
       "      <td>480000</td>\n",
       "      <td>365000.0</td>\n",
       "      <td>...</td>\n",
       "      <td>3524747</td>\n",
       "      <td>1046.0</td>\n",
       "      <td>22354</td>\n",
       "      <td>75.83</td>\n",
       "      <td>M</td>\n",
       "      <td>50.0</td>\n",
       "      <td>32069.00</td>\n",
       "      <td>GUNA</td>\n",
       "      <td>MADHYA PRADESH</td>\n",
       "      <td>473001.0</td>\n",
       "    </tr>\n",
       "    <tr>\n",
       "      <td>1</td>\n",
       "      <td>5</td>\n",
       "      <td>Monthly</td>\n",
       "      <td>Advance</td>\n",
       "      <td>Closed</td>\n",
       "      <td>PDC</td>\n",
       "      <td>2</td>\n",
       "      <td>GUNA</td>\n",
       "      <td>45</td>\n",
       "      <td>480000</td>\n",
       "      <td>285000.0</td>\n",
       "      <td>...</td>\n",
       "      <td>4985862</td>\n",
       "      <td>1046.0</td>\n",
       "      <td>22354</td>\n",
       "      <td>57.44</td>\n",
       "      <td>M</td>\n",
       "      <td>35.0</td>\n",
       "      <td>25000.00</td>\n",
       "      <td>GUNA</td>\n",
       "      <td>MADHYA PRADESH</td>\n",
       "      <td>473001.0</td>\n",
       "    </tr>\n",
       "    <tr>\n",
       "      <td>2</td>\n",
       "      <td>6</td>\n",
       "      <td>Quatrly</td>\n",
       "      <td>Arrear</td>\n",
       "      <td>Closed</td>\n",
       "      <td>PDC</td>\n",
       "      <td>2</td>\n",
       "      <td>GUNA</td>\n",
       "      <td>48</td>\n",
       "      <td>580000</td>\n",
       "      <td>400000.0</td>\n",
       "      <td>...</td>\n",
       "      <td>12881783</td>\n",
       "      <td>1060.0</td>\n",
       "      <td>65929</td>\n",
       "      <td>68.97</td>\n",
       "      <td>M</td>\n",
       "      <td>37.0</td>\n",
       "      <td>23333.33</td>\n",
       "      <td>GUNA</td>\n",
       "      <td>MADHYA PRADESH</td>\n",
       "      <td>473001.0</td>\n",
       "    </tr>\n",
       "    <tr>\n",
       "      <td>3</td>\n",
       "      <td>25</td>\n",
       "      <td>Half Yearly</td>\n",
       "      <td>Arrear</td>\n",
       "      <td>Closed</td>\n",
       "      <td>Billed</td>\n",
       "      <td>154</td>\n",
       "      <td>NaN</td>\n",
       "      <td>36</td>\n",
       "      <td>725000</td>\n",
       "      <td>500000.0</td>\n",
       "      <td>...</td>\n",
       "      <td>10613776</td>\n",
       "      <td>1049.0</td>\n",
       "      <td>68597</td>\n",
       "      <td>61.79</td>\n",
       "      <td>M</td>\n",
       "      <td>55.0</td>\n",
       "      <td>91666.67</td>\n",
       "      <td>MAHASAMUND</td>\n",
       "      <td>CHATTISGARH</td>\n",
       "      <td>493558.0</td>\n",
       "    </tr>\n",
       "    <tr>\n",
       "      <td>4</td>\n",
       "      <td>119</td>\n",
       "      <td>Quatrly</td>\n",
       "      <td>Arrear</td>\n",
       "      <td>Closed</td>\n",
       "      <td>PDC</td>\n",
       "      <td>194</td>\n",
       "      <td>CUTTACK</td>\n",
       "      <td>48</td>\n",
       "      <td>617000</td>\n",
       "      <td>400000.0</td>\n",
       "      <td>...</td>\n",
       "      <td>7911110</td>\n",
       "      <td>1049.0</td>\n",
       "      <td>38493</td>\n",
       "      <td>59.09</td>\n",
       "      <td>M</td>\n",
       "      <td>48.0</td>\n",
       "      <td>12500.00</td>\n",
       "      <td>JAGATSINGHAPUR</td>\n",
       "      <td>ORISSA</td>\n",
       "      <td>754137.0</td>\n",
       "    </tr>\n",
       "  </tbody>\n",
       "</table>\n",
       "<p>5 rows × 25 columns</p>\n",
       "</div>"
      ],
      "text/plain": [
       "    ID    Frequency InstlmentMode LoanStatus PaymentMode  BranchID     Area  \\\n",
       "0    4      Monthly       Advance     Closed       PDC_E         2     GUNA   \n",
       "1    5      Monthly       Advance     Closed         PDC         2     GUNA   \n",
       "2    6      Quatrly        Arrear     Closed         PDC         2     GUNA   \n",
       "3   25  Half Yearly        Arrear     Closed      Billed       154      NaN   \n",
       "4  119      Quatrly        Arrear     Closed         PDC       194  CUTTACK   \n",
       "\n",
       "   Tenure  AssetCost  AmountFinance  ...   AssetID  ManufacturerID SupplierID  \\\n",
       "0      46     480000       365000.0  ...   3524747          1046.0      22354   \n",
       "1      45     480000       285000.0  ...   4985862          1046.0      22354   \n",
       "2      48     580000       400000.0  ...  12881783          1060.0      65929   \n",
       "3      36     725000       500000.0  ...  10613776          1049.0      68597   \n",
       "4      48     617000       400000.0  ...   7911110          1049.0      38493   \n",
       "\n",
       "     LTV SEX   AGE  MonthlyIncome            City           State   ZiPCODE  \n",
       "0  75.83   M  50.0       32069.00            GUNA  MADHYA PRADESH  473001.0  \n",
       "1  57.44   M  35.0       25000.00            GUNA  MADHYA PRADESH  473001.0  \n",
       "2  68.97   M  37.0       23333.33            GUNA  MADHYA PRADESH  473001.0  \n",
       "3  61.79   M  55.0       91666.67      MAHASAMUND     CHATTISGARH  493558.0  \n",
       "4  59.09   M  48.0       12500.00  JAGATSINGHAPUR          ORISSA  754137.0  \n",
       "\n",
       "[5 rows x 25 columns]"
      ]
     },
     "execution_count": 5,
     "metadata": {},
     "output_type": "execute_result"
    }
   ],
   "source": [
    "test_data = pd.read_excel('C:/Users/user/Downloads/Analytic Vidya Hackthon/Test/test_data.xlsx')\n",
    "test_data.head()"
   ]
  },
  {
   "cell_type": "code",
   "execution_count": 6,
   "metadata": {},
   "outputs": [
    {
     "data": {
      "text/html": [
       "<div>\n",
       "<style scoped>\n",
       "    .dataframe tbody tr th:only-of-type {\n",
       "        vertical-align: middle;\n",
       "    }\n",
       "\n",
       "    .dataframe tbody tr th {\n",
       "        vertical-align: top;\n",
       "    }\n",
       "\n",
       "    .dataframe thead th {\n",
       "        text-align: right;\n",
       "    }\n",
       "</style>\n",
       "<table border=\"1\" class=\"dataframe\">\n",
       "  <thead>\n",
       "    <tr style=\"text-align: right;\">\n",
       "      <th></th>\n",
       "      <th>ID</th>\n",
       "      <th>Top-up Month</th>\n",
       "    </tr>\n",
       "  </thead>\n",
       "  <tbody>\n",
       "    <tr>\n",
       "      <td>0</td>\n",
       "      <td>4</td>\n",
       "      <td>36-48 Months</td>\n",
       "    </tr>\n",
       "    <tr>\n",
       "      <td>1</td>\n",
       "      <td>5</td>\n",
       "      <td>18-24 Months</td>\n",
       "    </tr>\n",
       "    <tr>\n",
       "      <td>2</td>\n",
       "      <td>6</td>\n",
       "      <td>30-36 Months</td>\n",
       "    </tr>\n",
       "    <tr>\n",
       "      <td>3</td>\n",
       "      <td>25</td>\n",
       "      <td>30-36 Months</td>\n",
       "    </tr>\n",
       "    <tr>\n",
       "      <td>4</td>\n",
       "      <td>119</td>\n",
       "      <td>30-36 Months</td>\n",
       "    </tr>\n",
       "    <tr>\n",
       "      <td>5</td>\n",
       "      <td>126</td>\n",
       "      <td>24-30 Months</td>\n",
       "    </tr>\n",
       "    <tr>\n",
       "      <td>6</td>\n",
       "      <td>127</td>\n",
       "      <td>&gt; 48 Months</td>\n",
       "    </tr>\n",
       "    <tr>\n",
       "      <td>7</td>\n",
       "      <td>345</td>\n",
       "      <td>No Top-up Service</td>\n",
       "    </tr>\n",
       "    <tr>\n",
       "      <td>8</td>\n",
       "      <td>361</td>\n",
       "      <td>36-48 Months</td>\n",
       "    </tr>\n",
       "    <tr>\n",
       "      <td>9</td>\n",
       "      <td>393</td>\n",
       "      <td>30-36 Months</td>\n",
       "    </tr>\n",
       "  </tbody>\n",
       "</table>\n",
       "</div>"
      ],
      "text/plain": [
       "    ID       Top-up Month\n",
       "0    4       36-48 Months\n",
       "1    5       18-24 Months\n",
       "2    6       30-36 Months\n",
       "3   25       30-36 Months\n",
       "4  119       30-36 Months\n",
       "5  126       24-30 Months\n",
       "6  127        > 48 Months\n",
       "7  345  No Top-up Service\n",
       "8  361       36-48 Months\n",
       "9  393       30-36 Months"
      ]
     },
     "execution_count": 6,
     "metadata": {},
     "output_type": "execute_result"
    }
   ],
   "source": [
    "sample_sumbission = pd.read_csv(\"C:/Users/user/Downloads/Analytic Vidya Hackthon/sample_submission_ejm25Dc.csv\")\n",
    "sample_sumbission.head(10)"
   ]
  },
  {
   "cell_type": "code",
   "execution_count": 7,
   "metadata": {},
   "outputs": [
    {
     "data": {
      "text/plain": [
       "((560844, 25), (128655, 26))"
      ]
     },
     "execution_count": 7,
     "metadata": {},
     "output_type": "execute_result"
    }
   ],
   "source": [
    "train_bureau.shape, train_data.shape"
   ]
  },
  {
   "cell_type": "code",
   "execution_count": 8,
   "metadata": {},
   "outputs": [
    {
     "data": {
      "text/plain": [
       "((64019, 25), (14745, 25))"
      ]
     },
     "execution_count": 8,
     "metadata": {},
     "output_type": "execute_result"
    }
   ],
   "source": [
    "test_bureau.shape, test_data.shape"
   ]
  },
  {
   "cell_type": "code",
   "execution_count": 9,
   "metadata": {},
   "outputs": [
    {
     "data": {
      "text/plain": [
       "Index(['ID', 'Frequency', 'InstlmentMode', 'LoanStatus', 'PaymentMode',\n",
       "       'BranchID', 'Area', 'Tenure', 'AssetCost', 'AmountFinance',\n",
       "       'DisbursalAmount', 'EMI', 'DisbursalDate', 'MaturityDAte', 'AuthDate',\n",
       "       'AssetID', 'ManufacturerID', 'SupplierID', 'LTV', 'SEX', 'AGE',\n",
       "       'MonthlyIncome', 'City', 'State', 'ZiPCODE', 'Top-up Month'],\n",
       "      dtype='object')"
      ]
     },
     "execution_count": 9,
     "metadata": {},
     "output_type": "execute_result"
    }
   ],
   "source": [
    "train_data.columns"
   ]
  },
  {
   "cell_type": "code",
   "execution_count": 10,
   "metadata": {},
   "outputs": [
    {
     "data": {
      "text/plain": [
       "Index(['ID', 'SELF-INDICATOR', 'MATCH-TYPE', 'ACCT-TYPE', 'CONTRIBUTOR-TYPE',\n",
       "       'DATE-REPORTED', 'OWNERSHIP-IND', 'ACCOUNT-STATUS', 'DISBURSED-DT',\n",
       "       'CLOSE-DT', 'LAST-PAYMENT-DATE', 'CREDIT-LIMIT/SANC AMT',\n",
       "       'DISBURSED-AMT/HIGH CREDIT', 'INSTALLMENT-AMT', 'CURRENT-BAL',\n",
       "       'INSTALLMENT-FREQUENCY', 'OVERDUE-AMT', 'WRITE-OFF-AMT', 'ASSET_CLASS',\n",
       "       'REPORTED DATE - HIST', 'DPD - HIST', 'CUR BAL - HIST',\n",
       "       'AMT OVERDUE - HIST', 'AMT PAID - HIST', 'TENURE'],\n",
       "      dtype='object')"
      ]
     },
     "execution_count": 10,
     "metadata": {},
     "output_type": "execute_result"
    }
   ],
   "source": [
    "train_bureau.columns"
   ]
  },
  {
   "cell_type": "code",
   "execution_count": 11,
   "metadata": {},
   "outputs": [],
   "source": [
    "train_data['ID1'] = train_bureau['ID']\n",
    "train_data['SELF-INDICATOR'] = train_bureau['SELF-INDICATOR']\n",
    "train_data['MATCH-TYPE'] = train_bureau['MATCH-TYPE']\n",
    "train_data['ACCT-TYPE'] = train_bureau['ACCT-TYPE']\n",
    "train_data['CONTRIBUTOR-TYPE'] = train_bureau['CONTRIBUTOR-TYPE']\n",
    "train_data['DATE-REPORTED'] = train_bureau['DATE-REPORTED']\n",
    "train_data['OWNERSHIP-IND'] = train_bureau['OWNERSHIP-IND']\n",
    "train_data['ACCOUNT-STATUS'] = train_bureau['ACCOUNT-STATUS']\n",
    "train_data['DISBURSED-DT'] = train_bureau['DISBURSED-DT']\n",
    "train_data['CLOSE-DT'] = train_bureau['CLOSE-DT']\n",
    "train_data['LAST-PAYMENT-DATE'] = train_bureau['LAST-PAYMENT-DATE']\n",
    "train_data['CREDIT-LIMIT/SANC AMT'] = train_bureau['CREDIT-LIMIT/SANC AMT']\n",
    "train_data['DISBURSED-AMT/HIGH CREDIT'] = train_bureau['DISBURSED-AMT/HIGH CREDIT']\n",
    "train_data['INSTALLMENT-AMT'] = train_bureau['INSTALLMENT-AMT']\n",
    "train_data['CURRENT-BAL'] = train_bureau['CURRENT-BAL']\n",
    "train_data['INSTALLMENT-FREQUENCY'] = train_bureau['INSTALLMENT-FREQUENCY']\n",
    "train_data['OVERDUE-AMT'] = train_bureau['OVERDUE-AMT']\n",
    "train_data['WRITE-OFF-AMT'] = train_bureau['WRITE-OFF-AMT']\n",
    "train_data['ASSET_CLASS'] = train_bureau['ASSET_CLASS']\n",
    "train_data['REPORTED DATE - HIST'] = train_bureau['REPORTED DATE - HIST']\n",
    "train_data['DPD - HIST'] = train_bureau['DPD - HIST']\n",
    "train_data['CUR BAL - HIST'] = train_bureau['CUR BAL - HIST']\n",
    "train_data['AMT OVERDUE - HIST'] = train_bureau['AMT OVERDUE - HIST']\n",
    "train_data['AMT PAID - HIST'] = train_bureau['AMT PAID - HIST']\n",
    "train_data['TENURE'] = train_bureau['TENURE']\n"
   ]
  },
  {
   "cell_type": "code",
   "execution_count": 12,
   "metadata": {},
   "outputs": [
    {
     "data": {
      "text/plain": [
       "(128655, 51)"
      ]
     },
     "execution_count": 12,
     "metadata": {},
     "output_type": "execute_result"
    }
   ],
   "source": [
    "train_data.shape"
   ]
  },
  {
   "cell_type": "code",
   "execution_count": 13,
   "metadata": {},
   "outputs": [
    {
     "data": {
      "text/plain": [
       "Index(['ID', 'Frequency', 'InstlmentMode', 'LoanStatus', 'PaymentMode',\n",
       "       'BranchID', 'Area', 'Tenure', 'AssetCost', 'AmountFinance',\n",
       "       'DisbursalAmount', 'EMI', 'DisbursalDate', 'MaturityDAte', 'AuthDate',\n",
       "       'AssetID', 'ManufacturerID', 'SupplierID', 'LTV', 'SEX', 'AGE',\n",
       "       'MonthlyIncome', 'City', 'State', 'ZiPCODE'],\n",
       "      dtype='object')"
      ]
     },
     "execution_count": 13,
     "metadata": {},
     "output_type": "execute_result"
    }
   ],
   "source": [
    "test_data.columns"
   ]
  },
  {
   "cell_type": "code",
   "execution_count": 14,
   "metadata": {},
   "outputs": [
    {
     "data": {
      "text/plain": [
       "Index(['ID', 'SELF-INDICATOR', 'MATCH-TYPE', 'ACCT-TYPE', 'CONTRIBUTOR-TYPE',\n",
       "       'DATE-REPORTED', 'OWNERSHIP-IND', 'ACCOUNT-STATUS', 'DISBURSED-DT',\n",
       "       'CLOSE-DT', 'LAST-PAYMENT-DATE', 'CREDIT-LIMIT/SANC AMT',\n",
       "       'DISBURSED-AMT/HIGH CREDIT', 'INSTALLMENT-AMT', 'CURRENT-BAL',\n",
       "       'INSTALLMENT-FREQUENCY', 'OVERDUE-AMT', 'WRITE-OFF-AMT', 'ASSET_CLASS',\n",
       "       'REPORTED DATE - HIST', 'DPD - HIST', 'CUR BAL - HIST',\n",
       "       'AMT OVERDUE - HIST', 'AMT PAID - HIST', 'TENURE'],\n",
       "      dtype='object')"
      ]
     },
     "execution_count": 14,
     "metadata": {},
     "output_type": "execute_result"
    }
   ],
   "source": [
    "test_bureau.columns"
   ]
  },
  {
   "cell_type": "code",
   "execution_count": 15,
   "metadata": {},
   "outputs": [],
   "source": [
    "test_data['ID1'] = test_bureau['ID']\n",
    "test_data['SELF-INDICATOR'] = test_bureau['SELF-INDICATOR']\n",
    "test_data['MATCH-TYPE'] = test_bureau['MATCH-TYPE']\n",
    "test_data['ACCT-TYPE'] = test_bureau['ACCT-TYPE']\n",
    "test_data['CONTRIBUTOR-TYPE'] = test_bureau['CONTRIBUTOR-TYPE']\n",
    "test_data['DATE-REPORTED'] = test_bureau['DATE-REPORTED']\n",
    "test_data['OWNERSHIP-IND'] = test_bureau['OWNERSHIP-IND']\n",
    "test_data['ACCOUNT-STATUS'] = test_bureau['ACCOUNT-STATUS']\n",
    "test_data['DISBURSED-DT'] = test_bureau['DISBURSED-DT']\n",
    "test_data['CLOSE-DT'] = test_bureau['CLOSE-DT']\n",
    "test_data['LAST-PAYMENT-DATE'] = test_bureau['LAST-PAYMENT-DATE']\n",
    "test_data['CREDIT-LIMIT/SANC AMT'] = test_bureau['CREDIT-LIMIT/SANC AMT']\n",
    "test_data['DISBURSED-AMT/HIGH CREDIT'] = test_bureau['DISBURSED-AMT/HIGH CREDIT']\n",
    "test_data['INSTALLMENT-AMT'] = test_bureau['INSTALLMENT-AMT']\n",
    "test_data['CURRENT-BAL'] = test_bureau['CURRENT-BAL']\n",
    "test_data['INSTALLMENT-FREQUENCY'] = test_bureau['INSTALLMENT-FREQUENCY']\n",
    "test_data['OVERDUE-AMT'] = test_bureau['OVERDUE-AMT']\n",
    "test_data['WRITE-OFF-AMT'] = test_bureau['WRITE-OFF-AMT']\n",
    "test_data['ASSET_CLASS'] = test_bureau['ASSET_CLASS']\n",
    "test_data['REPORTED DATE - HIST'] = test_bureau['REPORTED DATE - HIST']\n",
    "test_data['DPD - HIST'] = test_bureau['DPD - HIST']\n",
    "test_data['CUR BAL - HIST'] = test_bureau['CUR BAL - HIST']\n",
    "test_data['AMT OVERDUE - HIST'] = test_bureau['AMT OVERDUE - HIST']\n",
    "test_data['AMT PAID - HIST'] = test_bureau['AMT PAID - HIST']\n",
    "test_data['TENURE'] = test_bureau['TENURE']\n"
   ]
  },
  {
   "cell_type": "code",
   "execution_count": 16,
   "metadata": {},
   "outputs": [
    {
     "data": {
      "text/plain": [
       "((14745, 50), (128655, 51))"
      ]
     },
     "execution_count": 16,
     "metadata": {},
     "output_type": "execute_result"
    }
   ],
   "source": [
    "test_data.shape, train_data.shape"
   ]
  },
  {
   "cell_type": "code",
   "execution_count": 17,
   "metadata": {},
   "outputs": [],
   "source": [
    "test_data['Top-up Month']=np.nan\n",
    "train_data['data']='train'\n",
    "test_data['data']='test'\n",
    "test_data=test_data[train_data.columns]\n",
    "l_all=pd.concat([train_data,test_data],axis=0)"
   ]
  },
  {
   "cell_type": "code",
   "execution_count": 18,
   "metadata": {},
   "outputs": [
    {
     "data": {
      "text/plain": [
       "(143400, 52)"
      ]
     },
     "execution_count": 18,
     "metadata": {},
     "output_type": "execute_result"
    }
   ],
   "source": [
    "l_all.shape"
   ]
  },
  {
   "cell_type": "code",
   "execution_count": null,
   "metadata": {},
   "outputs": [],
   "source": [
    "l_all.drop(['City','ID','CLOSE-DT'],axis=1,inplace=True)"
   ]
  },
  {
   "cell_type": "code",
   "execution_count": 19,
   "metadata": {},
   "outputs": [
    {
     "data": {
      "text/html": [
       "<div>\n",
       "<style scoped>\n",
       "    .dataframe tbody tr th:only-of-type {\n",
       "        vertical-align: middle;\n",
       "    }\n",
       "\n",
       "    .dataframe tbody tr th {\n",
       "        vertical-align: top;\n",
       "    }\n",
       "\n",
       "    .dataframe thead th {\n",
       "        text-align: right;\n",
       "    }\n",
       "</style>\n",
       "<table border=\"1\" class=\"dataframe\">\n",
       "  <thead>\n",
       "    <tr style=\"text-align: right;\">\n",
       "      <th></th>\n",
       "      <th>ID</th>\n",
       "      <th>Frequency</th>\n",
       "      <th>InstlmentMode</th>\n",
       "      <th>LoanStatus</th>\n",
       "      <th>PaymentMode</th>\n",
       "      <th>BranchID</th>\n",
       "      <th>Area</th>\n",
       "      <th>Tenure</th>\n",
       "      <th>AssetCost</th>\n",
       "      <th>AmountFinance</th>\n",
       "      <th>DisbursalAmount</th>\n",
       "      <th>EMI</th>\n",
       "      <th>DisbursalDate</th>\n",
       "      <th>MaturityDAte</th>\n",
       "      <th>AuthDate</th>\n",
       "      <th>AssetID</th>\n",
       "      <th>ManufacturerID</th>\n",
       "      <th>SupplierID</th>\n",
       "      <th>LTV</th>\n",
       "      <th>SEX</th>\n",
       "      <th>AGE</th>\n",
       "      <th>MonthlyIncome</th>\n",
       "      <th>City</th>\n",
       "      <th>State</th>\n",
       "      <th>ZiPCODE</th>\n",
       "      <th>Top-up Month</th>\n",
       "      <th>ID1</th>\n",
       "      <th>SELF-INDICATOR</th>\n",
       "      <th>MATCH-TYPE</th>\n",
       "      <th>ACCT-TYPE</th>\n",
       "      <th>CONTRIBUTOR-TYPE</th>\n",
       "      <th>DATE-REPORTED</th>\n",
       "      <th>OWNERSHIP-IND</th>\n",
       "      <th>ACCOUNT-STATUS</th>\n",
       "      <th>DISBURSED-DT</th>\n",
       "      <th>CLOSE-DT</th>\n",
       "      <th>LAST-PAYMENT-DATE</th>\n",
       "      <th>CREDIT-LIMIT/SANC AMT</th>\n",
       "      <th>DISBURSED-AMT/HIGH CREDIT</th>\n",
       "      <th>INSTALLMENT-AMT</th>\n",
       "      <th>CURRENT-BAL</th>\n",
       "      <th>INSTALLMENT-FREQUENCY</th>\n",
       "      <th>OVERDUE-AMT</th>\n",
       "      <th>WRITE-OFF-AMT</th>\n",
       "      <th>ASSET_CLASS</th>\n",
       "      <th>REPORTED DATE - HIST</th>\n",
       "      <th>DPD - HIST</th>\n",
       "      <th>CUR BAL - HIST</th>\n",
       "      <th>AMT OVERDUE - HIST</th>\n",
       "      <th>AMT PAID - HIST</th>\n",
       "      <th>TENURE</th>\n",
       "      <th>data</th>\n",
       "    </tr>\n",
       "  </thead>\n",
       "  <tbody>\n",
       "    <tr>\n",
       "      <td>0</td>\n",
       "      <td>1</td>\n",
       "      <td>Monthly</td>\n",
       "      <td>Arrear</td>\n",
       "      <td>Closed</td>\n",
       "      <td>PDC_E</td>\n",
       "      <td>1</td>\n",
       "      <td>NaN</td>\n",
       "      <td>48</td>\n",
       "      <td>450000</td>\n",
       "      <td>275000.0</td>\n",
       "      <td>275000.0</td>\n",
       "      <td>24000.0</td>\n",
       "      <td>2012-02-10</td>\n",
       "      <td>2016-01-15</td>\n",
       "      <td>2012-02-10</td>\n",
       "      <td>4022465</td>\n",
       "      <td>1568.0</td>\n",
       "      <td>21946</td>\n",
       "      <td>61.11</td>\n",
       "      <td>M</td>\n",
       "      <td>49.0</td>\n",
       "      <td>35833.33</td>\n",
       "      <td>RAISEN</td>\n",
       "      <td>MADHYA PRADESH</td>\n",
       "      <td>464993.0</td>\n",
       "      <td>&gt; 48 Months</td>\n",
       "      <td>1</td>\n",
       "      <td>False</td>\n",
       "      <td>PRIMARY</td>\n",
       "      <td>Overdraft</td>\n",
       "      <td>NAB</td>\n",
       "      <td>2018-04-30</td>\n",
       "      <td>Individual</td>\n",
       "      <td>Delinquent</td>\n",
       "      <td>2015-10-05</td>\n",
       "      <td>NaN</td>\n",
       "      <td>2018-02-27</td>\n",
       "      <td>NaN</td>\n",
       "      <td>37,352</td>\n",
       "      <td>NaN</td>\n",
       "      <td>37,873</td>\n",
       "      <td>NaN</td>\n",
       "      <td>37,873</td>\n",
       "      <td>0.0</td>\n",
       "      <td>Standard</td>\n",
       "      <td>20180430,20180331,</td>\n",
       "      <td>030000</td>\n",
       "      <td>37873,12820,</td>\n",
       "      <td>37873,,</td>\n",
       "      <td>,,</td>\n",
       "      <td>NaN</td>\n",
       "      <td>train</td>\n",
       "    </tr>\n",
       "    <tr>\n",
       "      <td>1</td>\n",
       "      <td>2</td>\n",
       "      <td>Monthly</td>\n",
       "      <td>Advance</td>\n",
       "      <td>Closed</td>\n",
       "      <td>PDC</td>\n",
       "      <td>333</td>\n",
       "      <td>BHOPAL</td>\n",
       "      <td>47</td>\n",
       "      <td>485000</td>\n",
       "      <td>350000.0</td>\n",
       "      <td>350000.0</td>\n",
       "      <td>10500.0</td>\n",
       "      <td>2012-03-31</td>\n",
       "      <td>2016-02-15</td>\n",
       "      <td>2012-03-31</td>\n",
       "      <td>4681175</td>\n",
       "      <td>1062.0</td>\n",
       "      <td>34802</td>\n",
       "      <td>70.00</td>\n",
       "      <td>M</td>\n",
       "      <td>23.0</td>\n",
       "      <td>666.67</td>\n",
       "      <td>SEHORE</td>\n",
       "      <td>MADHYA PRADESH</td>\n",
       "      <td>466001.0</td>\n",
       "      <td>No Top-up Service</td>\n",
       "      <td>1</td>\n",
       "      <td>False</td>\n",
       "      <td>PRIMARY</td>\n",
       "      <td>Auto Loan (Personal)</td>\n",
       "      <td>NAB</td>\n",
       "      <td>2019-12-31</td>\n",
       "      <td>Individual</td>\n",
       "      <td>Active</td>\n",
       "      <td>2018-03-19</td>\n",
       "      <td>NaN</td>\n",
       "      <td>2019-12-19</td>\n",
       "      <td>NaN</td>\n",
       "      <td>44,000</td>\n",
       "      <td>1,405/Monthly</td>\n",
       "      <td>20,797</td>\n",
       "      <td>F03</td>\n",
       "      <td>NaN</td>\n",
       "      <td>0.0</td>\n",
       "      <td>Standard</td>\n",
       "      <td>20191231,20191130,20191031,20190930,20190831,2...</td>\n",
       "      <td>0000000000000000000000000000000000000000000000...</td>\n",
       "      <td>20797,21988,23174,24341,25504,26648,27780,2891...</td>\n",
       "      <td>,,,,,,,,,,,,,,,,,,,,1452,,</td>\n",
       "      <td>,,,,,,,,,,,,,,,,,,,,,,</td>\n",
       "      <td>36.0</td>\n",
       "      <td>train</td>\n",
       "    </tr>\n",
       "    <tr>\n",
       "      <td>2</td>\n",
       "      <td>3</td>\n",
       "      <td>Quatrly</td>\n",
       "      <td>Arrear</td>\n",
       "      <td>Active</td>\n",
       "      <td>Direct Debit</td>\n",
       "      <td>1</td>\n",
       "      <td>NaN</td>\n",
       "      <td>68</td>\n",
       "      <td>690000</td>\n",
       "      <td>519728.0</td>\n",
       "      <td>519728.0</td>\n",
       "      <td>38300.0</td>\n",
       "      <td>2017-06-17</td>\n",
       "      <td>2023-02-10</td>\n",
       "      <td>2017-06-17</td>\n",
       "      <td>25328146</td>\n",
       "      <td>1060.0</td>\n",
       "      <td>127335</td>\n",
       "      <td>69.77</td>\n",
       "      <td>M</td>\n",
       "      <td>39.0</td>\n",
       "      <td>45257.00</td>\n",
       "      <td>BHOPAL</td>\n",
       "      <td>MADHYA PRADESH</td>\n",
       "      <td>462030.0</td>\n",
       "      <td>12-18 Months</td>\n",
       "      <td>1</td>\n",
       "      <td>True</td>\n",
       "      <td>PRIMARY</td>\n",
       "      <td>Tractor Loan</td>\n",
       "      <td>NBF</td>\n",
       "      <td>2020-01-31</td>\n",
       "      <td>Individual</td>\n",
       "      <td>Active</td>\n",
       "      <td>2019-08-30</td>\n",
       "      <td>NaN</td>\n",
       "      <td>NaT</td>\n",
       "      <td>NaN</td>\n",
       "      <td>1,45,000</td>\n",
       "      <td>NaN</td>\n",
       "      <td>1,16,087</td>\n",
       "      <td>NaN</td>\n",
       "      <td>0</td>\n",
       "      <td>0.0</td>\n",
       "      <td>NaN</td>\n",
       "      <td>20200131,20191231,20191130,20191031,20190930,2...</td>\n",
       "      <td>000000000000000000</td>\n",
       "      <td>116087,116087,145000,145000,145000,145000,</td>\n",
       "      <td>0,0,0,0,0,0,</td>\n",
       "      <td>,,,,,,</td>\n",
       "      <td>NaN</td>\n",
       "      <td>train</td>\n",
       "    </tr>\n",
       "    <tr>\n",
       "      <td>3</td>\n",
       "      <td>7</td>\n",
       "      <td>Monthly</td>\n",
       "      <td>Advance</td>\n",
       "      <td>Closed</td>\n",
       "      <td>Billed</td>\n",
       "      <td>125</td>\n",
       "      <td>GUNA</td>\n",
       "      <td>48</td>\n",
       "      <td>480000</td>\n",
       "      <td>400000.0</td>\n",
       "      <td>400000.0</td>\n",
       "      <td>11600.0</td>\n",
       "      <td>2013-11-29</td>\n",
       "      <td>2017-11-10</td>\n",
       "      <td>2013-11-29</td>\n",
       "      <td>13021591</td>\n",
       "      <td>1060.0</td>\n",
       "      <td>25094</td>\n",
       "      <td>80.92</td>\n",
       "      <td>M</td>\n",
       "      <td>24.0</td>\n",
       "      <td>20833.33</td>\n",
       "      <td>ASHOK NAGAR</td>\n",
       "      <td>MADHYA PRADESH</td>\n",
       "      <td>473335.0</td>\n",
       "      <td>&gt; 48 Months</td>\n",
       "      <td>1</td>\n",
       "      <td>True</td>\n",
       "      <td>PRIMARY</td>\n",
       "      <td>Auto Loan (Personal)</td>\n",
       "      <td>NBF</td>\n",
       "      <td>2017-09-30</td>\n",
       "      <td>Individual</td>\n",
       "      <td>Closed</td>\n",
       "      <td>2013-09-27</td>\n",
       "      <td>2017-09-21 00:00:00</td>\n",
       "      <td>NaT</td>\n",
       "      <td>NaN</td>\n",
       "      <td>3,00,000</td>\n",
       "      <td>NaN</td>\n",
       "      <td>0</td>\n",
       "      <td>NaN</td>\n",
       "      <td>0</td>\n",
       "      <td>0.0</td>\n",
       "      <td>NaN</td>\n",
       "      <td>20170930,20170801,20170731,20170630,20170531,2...</td>\n",
       "      <td>000DDD0270260270260270240270270000320000000000...</td>\n",
       "      <td>0,,15925,23754,31494,39147,46713,54194,61590,6...</td>\n",
       "      <td>0,,1014,1014,1014,1014,1014,1014,1014,983,0,92...</td>\n",
       "      <td>,,,,,,,,,,,,,,,,,,,,,,,,,,,,,,,,,,,,,</td>\n",
       "      <td>NaN</td>\n",
       "      <td>train</td>\n",
       "    </tr>\n",
       "    <tr>\n",
       "      <td>4</td>\n",
       "      <td>8</td>\n",
       "      <td>Monthly</td>\n",
       "      <td>Arrear</td>\n",
       "      <td>Closed</td>\n",
       "      <td>Billed</td>\n",
       "      <td>152</td>\n",
       "      <td>BILASPUR</td>\n",
       "      <td>44</td>\n",
       "      <td>619265</td>\n",
       "      <td>440000.0</td>\n",
       "      <td>440000.0</td>\n",
       "      <td>15000.0</td>\n",
       "      <td>2011-12-08</td>\n",
       "      <td>2015-07-05</td>\n",
       "      <td>2011-12-08</td>\n",
       "      <td>3291320</td>\n",
       "      <td>1046.0</td>\n",
       "      <td>21853</td>\n",
       "      <td>71.05</td>\n",
       "      <td>M</td>\n",
       "      <td>56.0</td>\n",
       "      <td>27313.67</td>\n",
       "      <td>BILASPUR</td>\n",
       "      <td>CHATTISGARH</td>\n",
       "      <td>495442.0</td>\n",
       "      <td>36-48 Months</td>\n",
       "      <td>1</td>\n",
       "      <td>True</td>\n",
       "      <td>PRIMARY</td>\n",
       "      <td>Tractor Loan</td>\n",
       "      <td>NBF</td>\n",
       "      <td>2016-02-29</td>\n",
       "      <td>Individual</td>\n",
       "      <td>Closed</td>\n",
       "      <td>2012-02-10</td>\n",
       "      <td>2016-02-01 00:00:00</td>\n",
       "      <td>NaT</td>\n",
       "      <td>NaN</td>\n",
       "      <td>2,75,000</td>\n",
       "      <td>NaN</td>\n",
       "      <td>0</td>\n",
       "      <td>NaN</td>\n",
       "      <td>0</td>\n",
       "      <td>0.0</td>\n",
       "      <td>NaN</td>\n",
       "      <td>20160229,20160131,20151231,20151130,20151031,2...</td>\n",
       "      <td>0000000000000000000000000000000000000000000000...</td>\n",
       "      <td>0,0,23658,23321,22989,46321,45662,45012,68030,...</td>\n",
       "      <td>0,0,0,0,0,0,0,0,0,0,0,0,0,0,0,0,0,0,0,0,0,0,0,...</td>\n",
       "      <td>,,,,,,,,,,,,,,,,,,,,,,,,,,,,,,,,,,,,,</td>\n",
       "      <td>NaN</td>\n",
       "      <td>train</td>\n",
       "    </tr>\n",
       "  </tbody>\n",
       "</table>\n",
       "</div>"
      ],
      "text/plain": [
       "   ID Frequency InstlmentMode LoanStatus   PaymentMode  BranchID      Area  \\\n",
       "0   1   Monthly        Arrear     Closed         PDC_E         1       NaN   \n",
       "1   2   Monthly       Advance     Closed           PDC       333    BHOPAL   \n",
       "2   3   Quatrly        Arrear     Active  Direct Debit         1       NaN   \n",
       "3   7   Monthly       Advance     Closed        Billed       125      GUNA   \n",
       "4   8   Monthly        Arrear     Closed        Billed       152  BILASPUR   \n",
       "\n",
       "   Tenure  AssetCost  AmountFinance  DisbursalAmount      EMI DisbursalDate  \\\n",
       "0      48     450000       275000.0         275000.0  24000.0    2012-02-10   \n",
       "1      47     485000       350000.0         350000.0  10500.0    2012-03-31   \n",
       "2      68     690000       519728.0         519728.0  38300.0    2017-06-17   \n",
       "3      48     480000       400000.0         400000.0  11600.0    2013-11-29   \n",
       "4      44     619265       440000.0         440000.0  15000.0    2011-12-08   \n",
       "\n",
       "  MaturityDAte   AuthDate   AssetID  ManufacturerID  SupplierID    LTV SEX  \\\n",
       "0   2016-01-15 2012-02-10   4022465          1568.0       21946  61.11   M   \n",
       "1   2016-02-15 2012-03-31   4681175          1062.0       34802  70.00   M   \n",
       "2   2023-02-10 2017-06-17  25328146          1060.0      127335  69.77   M   \n",
       "3   2017-11-10 2013-11-29  13021591          1060.0       25094  80.92   M   \n",
       "4   2015-07-05 2011-12-08   3291320          1046.0       21853  71.05   M   \n",
       "\n",
       "    AGE  MonthlyIncome         City           State   ZiPCODE  \\\n",
       "0  49.0       35833.33       RAISEN  MADHYA PRADESH  464993.0   \n",
       "1  23.0         666.67       SEHORE  MADHYA PRADESH  466001.0   \n",
       "2  39.0       45257.00       BHOPAL  MADHYA PRADESH  462030.0   \n",
       "3  24.0       20833.33  ASHOK NAGAR  MADHYA PRADESH  473335.0   \n",
       "4  56.0       27313.67     BILASPUR     CHATTISGARH  495442.0   \n",
       "\n",
       "        Top-up Month  ID1  SELF-INDICATOR MATCH-TYPE             ACCT-TYPE  \\\n",
       "0        > 48 Months    1           False    PRIMARY             Overdraft   \n",
       "1  No Top-up Service    1           False    PRIMARY  Auto Loan (Personal)   \n",
       "2       12-18 Months    1            True    PRIMARY          Tractor Loan   \n",
       "3        > 48 Months    1            True    PRIMARY  Auto Loan (Personal)   \n",
       "4       36-48 Months    1            True    PRIMARY          Tractor Loan   \n",
       "\n",
       "  CONTRIBUTOR-TYPE DATE-REPORTED OWNERSHIP-IND ACCOUNT-STATUS DISBURSED-DT  \\\n",
       "0              NAB    2018-04-30    Individual     Delinquent   2015-10-05   \n",
       "1              NAB    2019-12-31    Individual         Active   2018-03-19   \n",
       "2              NBF    2020-01-31    Individual         Active   2019-08-30   \n",
       "3              NBF    2017-09-30    Individual         Closed   2013-09-27   \n",
       "4              NBF    2016-02-29    Individual         Closed   2012-02-10   \n",
       "\n",
       "              CLOSE-DT LAST-PAYMENT-DATE CREDIT-LIMIT/SANC AMT  \\\n",
       "0                  NaN        2018-02-27                   NaN   \n",
       "1                  NaN        2019-12-19                   NaN   \n",
       "2                  NaN               NaT                   NaN   \n",
       "3  2017-09-21 00:00:00               NaT                   NaN   \n",
       "4  2016-02-01 00:00:00               NaT                   NaN   \n",
       "\n",
       "  DISBURSED-AMT/HIGH CREDIT INSTALLMENT-AMT CURRENT-BAL INSTALLMENT-FREQUENCY  \\\n",
       "0                    37,352             NaN      37,873                   NaN   \n",
       "1                    44,000   1,405/Monthly      20,797                   F03   \n",
       "2                  1,45,000             NaN    1,16,087                   NaN   \n",
       "3                  3,00,000             NaN           0                   NaN   \n",
       "4                  2,75,000             NaN           0                   NaN   \n",
       "\n",
       "  OVERDUE-AMT  WRITE-OFF-AMT ASSET_CLASS  \\\n",
       "0      37,873            0.0    Standard   \n",
       "1         NaN            0.0    Standard   \n",
       "2           0            0.0         NaN   \n",
       "3           0            0.0         NaN   \n",
       "4           0            0.0         NaN   \n",
       "\n",
       "                                REPORTED DATE - HIST  \\\n",
       "0                                 20180430,20180331,   \n",
       "1  20191231,20191130,20191031,20190930,20190831,2...   \n",
       "2  20200131,20191231,20191130,20191031,20190930,2...   \n",
       "3  20170930,20170801,20170731,20170630,20170531,2...   \n",
       "4  20160229,20160131,20151231,20151130,20151031,2...   \n",
       "\n",
       "                                          DPD - HIST  \\\n",
       "0                                             030000   \n",
       "1  0000000000000000000000000000000000000000000000...   \n",
       "2                                 000000000000000000   \n",
       "3  000DDD0270260270260270240270270000320000000000...   \n",
       "4  0000000000000000000000000000000000000000000000...   \n",
       "\n",
       "                                      CUR BAL - HIST  \\\n",
       "0                                       37873,12820,   \n",
       "1  20797,21988,23174,24341,25504,26648,27780,2891...   \n",
       "2         116087,116087,145000,145000,145000,145000,   \n",
       "3  0,,15925,23754,31494,39147,46713,54194,61590,6...   \n",
       "4  0,0,23658,23321,22989,46321,45662,45012,68030,...   \n",
       "\n",
       "                                  AMT OVERDUE - HIST  \\\n",
       "0                                            37873,,   \n",
       "1                         ,,,,,,,,,,,,,,,,,,,,1452,,   \n",
       "2                                       0,0,0,0,0,0,   \n",
       "3  0,,1014,1014,1014,1014,1014,1014,1014,983,0,92...   \n",
       "4  0,0,0,0,0,0,0,0,0,0,0,0,0,0,0,0,0,0,0,0,0,0,0,...   \n",
       "\n",
       "                         AMT PAID - HIST  TENURE   data  \n",
       "0                                     ,,     NaN  train  \n",
       "1                 ,,,,,,,,,,,,,,,,,,,,,,    36.0  train  \n",
       "2                                 ,,,,,,     NaN  train  \n",
       "3  ,,,,,,,,,,,,,,,,,,,,,,,,,,,,,,,,,,,,,     NaN  train  \n",
       "4  ,,,,,,,,,,,,,,,,,,,,,,,,,,,,,,,,,,,,,     NaN  train  "
      ]
     },
     "execution_count": 19,
     "metadata": {},
     "output_type": "execute_result"
    }
   ],
   "source": [
    "pd.set_option('display.max_columns', 100)\n",
    "l_all.head()\n"
   ]
  },
  {
   "cell_type": "code",
   "execution_count": 20,
   "metadata": {},
   "outputs": [
    {
     "data": {
      "text/plain": [
       "ID                                    int64\n",
       "Frequency                            object\n",
       "InstlmentMode                        object\n",
       "LoanStatus                           object\n",
       "PaymentMode                          object\n",
       "BranchID                              int64\n",
       "Area                                 object\n",
       "Tenure                                int64\n",
       "AssetCost                             int64\n",
       "AmountFinance                       float64\n",
       "DisbursalAmount                     float64\n",
       "EMI                                 float64\n",
       "DisbursalDate                datetime64[ns]\n",
       "MaturityDAte                 datetime64[ns]\n",
       "AuthDate                     datetime64[ns]\n",
       "AssetID                               int64\n",
       "ManufacturerID                      float64\n",
       "SupplierID                            int64\n",
       "LTV                                 float64\n",
       "SEX                                  object\n",
       "AGE                                 float64\n",
       "MonthlyIncome                       float64\n",
       "City                                 object\n",
       "State                                object\n",
       "ZiPCODE                             float64\n",
       "Top-up Month                         object\n",
       "ID1                                   int64\n",
       "SELF-INDICATOR                         bool\n",
       "MATCH-TYPE                           object\n",
       "ACCT-TYPE                            object\n",
       "CONTRIBUTOR-TYPE                     object\n",
       "DATE-REPORTED                datetime64[ns]\n",
       "OWNERSHIP-IND                        object\n",
       "ACCOUNT-STATUS                       object\n",
       "DISBURSED-DT                 datetime64[ns]\n",
       "CLOSE-DT                             object\n",
       "LAST-PAYMENT-DATE            datetime64[ns]\n",
       "CREDIT-LIMIT/SANC AMT                object\n",
       "DISBURSED-AMT/HIGH CREDIT            object\n",
       "INSTALLMENT-AMT                      object\n",
       "CURRENT-BAL                          object\n",
       "INSTALLMENT-FREQUENCY                object\n",
       "OVERDUE-AMT                          object\n",
       "WRITE-OFF-AMT                       float64\n",
       "ASSET_CLASS                          object\n",
       "REPORTED DATE - HIST                 object\n",
       "DPD - HIST                           object\n",
       "CUR BAL - HIST                       object\n",
       "AMT OVERDUE - HIST                   object\n",
       "AMT PAID - HIST                      object\n",
       "TENURE                              float64\n",
       "data                                 object\n",
       "dtype: object"
      ]
     },
     "execution_count": 20,
     "metadata": {},
     "output_type": "execute_result"
    }
   ],
   "source": [
    "pd.set_option('display.max_rows', 100)\n",
    "\n",
    "l_all.dtypes"
   ]
  },
  {
   "cell_type": "code",
   "execution_count": 21,
   "metadata": {},
   "outputs": [
    {
     "data": {
      "text/plain": [
       "(143400, 52)"
      ]
     },
     "execution_count": 21,
     "metadata": {},
     "output_type": "execute_result"
    }
   ],
   "source": [
    "l_all.shape"
   ]
  },
  {
   "cell_type": "code",
   "execution_count": 22,
   "metadata": {},
   "outputs": [
    {
     "data": {
      "text/plain": [
       "ID                   0\n",
       "Frequency            0\n",
       "InstlmentMode        0\n",
       "LoanStatus           0\n",
       "PaymentMode          0\n",
       "BranchID             0\n",
       "Area             12199\n",
       "Tenure               0\n",
       "AssetCost            0\n",
       "AmountFinance        0\n",
       "dtype: int64"
      ]
     },
     "execution_count": 22,
     "metadata": {},
     "output_type": "execute_result"
    }
   ],
   "source": [
    "l_all.isna().sum()[0:10]"
   ]
  },
  {
   "cell_type": "code",
   "execution_count": 23,
   "metadata": {},
   "outputs": [],
   "source": [
    "# l_all['Area'].nunique()\n",
    "l_all.drop(['Area'],axis=1,inplace=True)\n"
   ]
  },
  {
   "cell_type": "code",
   "execution_count": 24,
   "metadata": {},
   "outputs": [
    {
     "data": {
      "text/plain": [
       "DisbursalAmount     0\n",
       "EMI                 0\n",
       "DisbursalDate       0\n",
       "MaturityDAte        1\n",
       "AuthDate            0\n",
       "AssetID             0\n",
       "ManufacturerID      2\n",
       "SupplierID          0\n",
       "LTV                 0\n",
       "SEX                64\n",
       "AGE                66\n",
       "dtype: int64"
      ]
     },
     "execution_count": 24,
     "metadata": {},
     "output_type": "execute_result"
    }
   ],
   "source": [
    "l_all.isna().sum()[9:20]"
   ]
  },
  {
   "cell_type": "code",
   "execution_count": 25,
   "metadata": {},
   "outputs": [],
   "source": [
    "l_all['MaturityDAte'] = l_all['MaturityDAte'].fillna(l_all['MaturityDAte'].mode()[0])\n",
    "l_all['ManufacturerID'] = l_all['ManufacturerID'].fillna(l_all['ManufacturerID'].mean())\n",
    "l_all['SEX'] = l_all['SEX'].fillna(l_all['SEX'].mode()[0])\n",
    "l_all['AGE'] = l_all['AGE'].fillna(l_all['AGE'].mean())\n",
    "l_all['MaturityDAte']=pd.to_numeric(l_all['MaturityDAte'],errors='coerce')\n",
    "l_all['DisbursalDate']=pd.to_numeric(l_all['DisbursalDate'],errors='coerce')\n"
   ]
  },
  {
   "cell_type": "code",
   "execution_count": 26,
   "metadata": {},
   "outputs": [
    {
     "data": {
      "text/plain": [
       "AGE                     0\n",
       "MonthlyIncome         248\n",
       "City                11256\n",
       "State                   0\n",
       "ZiPCODE               373\n",
       "Top-up Month        14745\n",
       "ID1                     0\n",
       "SELF-INDICATOR          0\n",
       "MATCH-TYPE              0\n",
       "ACCT-TYPE               0\n",
       "CONTRIBUTOR-TYPE        0\n",
       "dtype: int64"
      ]
     },
     "execution_count": 26,
     "metadata": {},
     "output_type": "execute_result"
    }
   ],
   "source": [
    "l_all.isna().sum()[19:30]"
   ]
  },
  {
   "cell_type": "code",
   "execution_count": 27,
   "metadata": {},
   "outputs": [],
   "source": [
    "l_all['MonthlyIncome'] = l_all['MonthlyIncome'].fillna(l_all['MonthlyIncome'].mean())\n",
    "l_all.drop(['City'],axis=1,inplace=True)\n",
    "l_all['ZiPCODE'] = l_all['ZiPCODE'].fillna(l_all['ZiPCODE'].mean())\n",
    "l_all['DATE-REPORTED'] = l_all['DATE-REPORTED'].fillna(l_all['DATE-REPORTED'].mode()[0])\n",
    "l_all['DATE-REPORTED']=pd.to_numeric(l_all['DATE-REPORTED'],errors='coerce')"
   ]
  },
  {
   "cell_type": "code",
   "execution_count": 28,
   "metadata": {},
   "outputs": [
    {
     "data": {
      "text/plain": [
       "DATE-REPORTED                     0\n",
       "OWNERSHIP-IND                     0\n",
       "ACCOUNT-STATUS                    0\n",
       "DISBURSED-DT                   5658\n",
       "CLOSE-DT                      57732\n",
       "LAST-PAYMENT-DATE             76822\n",
       "CREDIT-LIMIT/SANC AMT        139673\n",
       "DISBURSED-AMT/HIGH CREDIT        29\n",
       "INSTALLMENT-AMT              105806\n",
       "CURRENT-BAL                      92\n",
       "INSTALLMENT-FREQUENCY        106865\n",
       "dtype: int64"
      ]
     },
     "execution_count": 28,
     "metadata": {},
     "output_type": "execute_result"
    }
   ],
   "source": [
    "l_all.isna().sum()[29:40]"
   ]
  },
  {
   "cell_type": "code",
   "execution_count": 29,
   "metadata": {},
   "outputs": [],
   "source": [
    "l_all['DISBURSED-DT'] = l_all['DISBURSED-DT'].fillna(l_all['DISBURSED-DT'].mode()[0])\n",
    "l_all['DISBURSED-DT']=pd.to_numeric(l_all['DISBURSED-DT'],errors='coerce')\n",
    "l_all.drop(['CLOSE-DT'],axis=1,inplace=True)\n",
    "l_all['LAST-PAYMENT-DATE'] = l_all['LAST-PAYMENT-DATE'].fillna(l_all['LAST-PAYMENT-DATE'].mode()[0])\n",
    "l_all['DISBURSED-DT']=pd.to_numeric(l_all['DISBURSED-DT'],errors='coerce')\n",
    "l_all['CREDIT-LIMIT/SANC AMT']=pd.to_numeric(l_all['CREDIT-LIMIT/SANC AMT'],errors='coerce')\n",
    "l_all['CREDIT-LIMIT/SANC AMT'] = l_all['CREDIT-LIMIT/SANC AMT'].fillna(l_all['CREDIT-LIMIT/SANC AMT'].mean())\n",
    "l_all['DISBURSED-AMT/HIGH CREDIT']=pd.to_numeric(l_all['DISBURSED-AMT/HIGH CREDIT'],errors='coerce')\n",
    "l_all['DISBURSED-AMT/HIGH CREDIT'] = l_all['DISBURSED-AMT/HIGH CREDIT'].fillna(l_all['DISBURSED-AMT/HIGH CREDIT'].mean())\n",
    "l_all['INSTALLMENT-AMT'] = l_all['INSTALLMENT-AMT'].fillna(l_all['INSTALLMENT-AMT'].mode()[0])\n",
    "l_all['CURRENT-BAL']=pd.to_numeric(l_all['CURRENT-BAL'],errors='coerce')\n",
    "l_all['CURRENT-BAL'] = l_all['CURRENT-BAL'].fillna(l_all['CURRENT-BAL'].mean())\n",
    "l_all['INSTALLMENT-FREQUENCY'] = l_all['INSTALLMENT-FREQUENCY'].fillna(l_all['INSTALLMENT-FREQUENCY'].mode()[0])\n"
   ]
  },
  {
   "cell_type": "code",
   "execution_count": 30,
   "metadata": {},
   "outputs": [
    {
     "data": {
      "text/plain": [
       "OVERDUE-AMT             31921\n",
       "WRITE-OFF-AMT            4768\n",
       "ASSET_CLASS             75946\n",
       "REPORTED DATE - HIST     4768\n",
       "DPD - HIST               4768\n",
       "CUR BAL - HIST           4768\n",
       "AMT OVERDUE - HIST       4768\n",
       "AMT PAID - HIST          5012\n",
       "TENURE                  92603\n",
       "data                        0\n",
       "dtype: int64"
      ]
     },
     "execution_count": 30,
     "metadata": {},
     "output_type": "execute_result"
    }
   ],
   "source": [
    "l_all.isna().sum()[39:60]"
   ]
  },
  {
   "cell_type": "code",
   "execution_count": 31,
   "metadata": {},
   "outputs": [],
   "source": [
    "l_all['OVERDUE-AMT']=pd.to_numeric(l_all['OVERDUE-AMT'],errors='coerce')\n",
    "l_all['OVERDUE-AMT'] = l_all['OVERDUE-AMT'].fillna(l_all['OVERDUE-AMT'].mean())\n",
    "l_all['WRITE-OFF-AMT'] = l_all['WRITE-OFF-AMT'].fillna(l_all['WRITE-OFF-AMT'].mean())\n",
    "l_all['ASSET_CLASS'] = l_all['ASSET_CLASS'].fillna(l_all['ASSET_CLASS'].mode()[0])\n",
    "l_all.drop(['REPORTED DATE - HIST'],axis=1,inplace=True)\n",
    "l_all.drop(['DPD - HIST'],axis=1,inplace=True)\n",
    "l_all['CUR BAL - HIST']=pd.to_numeric(l_all['CUR BAL - HIST'],errors='coerce')\n",
    "l_all['CUR BAL - HIST'] = l_all['CUR BAL - HIST'].fillna(l_all['CUR BAL - HIST'].mean())\n",
    "l_all.drop(['CUR BAL - HIST'],axis=1,inplace=True)\n",
    "l_all.drop(['AMT OVERDUE - HIST'],axis=1,inplace=True)\n",
    "l_all.drop(['AMT PAID - HIST'],axis=1,inplace=True)\n",
    "l_all['TENURE'] = l_all['TENURE'].fillna(l_all['TENURE'].mean())\n",
    "l_all['AuthDate']=pd.to_numeric(l_all['AuthDate'],errors='coerce')\n",
    "l_all['LAST-PAYMENT-DATE']=pd.to_numeric(l_all['LAST-PAYMENT-DATE'],errors='coerce')\n"
   ]
  },
  {
   "cell_type": "code",
   "execution_count": 32,
   "metadata": {},
   "outputs": [
    {
     "data": {
      "text/plain": [
       "ID                             int64\n",
       "Frequency                     object\n",
       "InstlmentMode                 object\n",
       "LoanStatus                    object\n",
       "PaymentMode                   object\n",
       "BranchID                       int64\n",
       "Tenure                         int64\n",
       "AssetCost                      int64\n",
       "AmountFinance                float64\n",
       "DisbursalAmount              float64\n",
       "EMI                          float64\n",
       "DisbursalDate                  int64\n",
       "MaturityDAte                   int64\n",
       "AuthDate                       int64\n",
       "AssetID                        int64\n",
       "ManufacturerID               float64\n",
       "SupplierID                     int64\n",
       "LTV                          float64\n",
       "SEX                           object\n",
       "AGE                          float64\n",
       "MonthlyIncome                float64\n",
       "State                         object\n",
       "ZiPCODE                      float64\n",
       "Top-up Month                  object\n",
       "ID1                            int64\n",
       "SELF-INDICATOR                  bool\n",
       "MATCH-TYPE                    object\n",
       "ACCT-TYPE                     object\n",
       "CONTRIBUTOR-TYPE              object\n",
       "DATE-REPORTED                  int64\n",
       "OWNERSHIP-IND                 object\n",
       "ACCOUNT-STATUS                object\n",
       "DISBURSED-DT                   int64\n",
       "LAST-PAYMENT-DATE              int64\n",
       "CREDIT-LIMIT/SANC AMT        float64\n",
       "DISBURSED-AMT/HIGH CREDIT    float64\n",
       "INSTALLMENT-AMT               object\n",
       "CURRENT-BAL                  float64\n",
       "INSTALLMENT-FREQUENCY         object\n",
       "OVERDUE-AMT                  float64\n",
       "WRITE-OFF-AMT                float64\n",
       "ASSET_CLASS                   object\n",
       "TENURE                       float64\n",
       "data                          object\n",
       "dtype: object"
      ]
     },
     "execution_count": 32,
     "metadata": {},
     "output_type": "execute_result"
    }
   ],
   "source": [
    "l_all.dtypes"
   ]
  },
  {
   "cell_type": "code",
   "execution_count": 33,
   "metadata": {},
   "outputs": [
    {
     "data": {
      "text/plain": [
       "ID                               0\n",
       "Frequency                        0\n",
       "InstlmentMode                    0\n",
       "LoanStatus                       0\n",
       "PaymentMode                      0\n",
       "BranchID                         0\n",
       "Tenure                           0\n",
       "AssetCost                        0\n",
       "AmountFinance                    0\n",
       "DisbursalAmount                  0\n",
       "EMI                              0\n",
       "DisbursalDate                    0\n",
       "MaturityDAte                     0\n",
       "AuthDate                         0\n",
       "AssetID                          0\n",
       "ManufacturerID                   0\n",
       "SupplierID                       0\n",
       "LTV                              0\n",
       "SEX                              0\n",
       "AGE                              0\n",
       "MonthlyIncome                    0\n",
       "State                            0\n",
       "ZiPCODE                          0\n",
       "Top-up Month                 14745\n",
       "ID1                              0\n",
       "SELF-INDICATOR                   0\n",
       "MATCH-TYPE                       0\n",
       "ACCT-TYPE                        0\n",
       "CONTRIBUTOR-TYPE                 0\n",
       "DATE-REPORTED                    0\n",
       "OWNERSHIP-IND                    0\n",
       "ACCOUNT-STATUS                   0\n",
       "DISBURSED-DT                     0\n",
       "LAST-PAYMENT-DATE                0\n",
       "CREDIT-LIMIT/SANC AMT            0\n",
       "DISBURSED-AMT/HIGH CREDIT        0\n",
       "INSTALLMENT-AMT                  0\n",
       "CURRENT-BAL                      0\n",
       "INSTALLMENT-FREQUENCY            0\n",
       "OVERDUE-AMT                      0\n",
       "WRITE-OFF-AMT                    0\n",
       "ASSET_CLASS                      0\n",
       "TENURE                           0\n",
       "data                             0\n",
       "dtype: int64"
      ]
     },
     "execution_count": 33,
     "metadata": {},
     "output_type": "execute_result"
    }
   ],
   "source": [
    "l_all.isnull().sum()"
   ]
  },
  {
   "cell_type": "code",
   "execution_count": 34,
   "metadata": {},
   "outputs": [],
   "source": [
    "cat_cols=l_all.select_dtypes(['object']).columns"
   ]
  },
  {
   "cell_type": "code",
   "execution_count": 35,
   "metadata": {},
   "outputs": [
    {
     "data": {
      "text/plain": [
       "Index(['Frequency', 'InstlmentMode', 'LoanStatus', 'PaymentMode', 'SEX',\n",
       "       'State', 'Top-up Month', 'MATCH-TYPE', 'ACCT-TYPE', 'CONTRIBUTOR-TYPE',\n",
       "       'OWNERSHIP-IND', 'ACCOUNT-STATUS', 'INSTALLMENT-AMT',\n",
       "       'INSTALLMENT-FREQUENCY', 'ASSET_CLASS', 'data'],\n",
       "      dtype='object')"
      ]
     },
     "execution_count": 35,
     "metadata": {},
     "output_type": "execute_result"
    }
   ],
   "source": [
    "cat_cols"
   ]
  },
  {
   "cell_type": "code",
   "execution_count": 36,
   "metadata": {},
   "outputs": [],
   "source": [
    "cat_cols=['Frequency', 'InstlmentMode', 'LoanStatus', 'PaymentMode', 'SEX',\n",
    "       'State', 'MATCH-TYPE', 'ACCT-TYPE', 'CONTRIBUTOR-TYPE',\n",
    "       'OWNERSHIP-IND', 'ACCOUNT-STATUS', 'INSTALLMENT-AMT',\n",
    "       'INSTALLMENT-FREQUENCY', 'ASSET_CLASS']"
   ]
  },
  {
   "cell_type": "code",
   "execution_count": 37,
   "metadata": {},
   "outputs": [
    {
     "name": "stdout",
     "output_type": "stream",
     "text": [
      "Frequency\n",
      "InstlmentMode\n",
      "LoanStatus\n",
      "PaymentMode\n",
      "SEX\n",
      "State\n",
      "MATCH-TYPE\n",
      "ACCT-TYPE\n",
      "CONTRIBUTOR-TYPE\n",
      "OWNERSHIP-IND\n",
      "ACCOUNT-STATUS\n",
      "INSTALLMENT-AMT\n",
      "INSTALLMENT-FREQUENCY\n",
      "ASSET_CLASS\n"
     ]
    }
   ],
   "source": [
    "#ignoring categories with low frequencies however will result in fewer columns without \n",
    "# affecting model performance too much .\n",
    "\n",
    "for col in cat_cols:\n",
    "    freqs=l_all[col].value_counts()\n",
    "    k=freqs.index[freqs>20][:-1]\n",
    "    for cat in k:\n",
    "        name=col+'_'+cat\n",
    "        l_all[name]=(l_all[col]==cat).astype(int)\n",
    "    del l_all[col]\n",
    "    print(col)\n",
    "    \n",
    "    "
   ]
  },
  {
   "cell_type": "code",
   "execution_count": 38,
   "metadata": {},
   "outputs": [
    {
     "data": {
      "text/plain": [
       "(143400, 231)"
      ]
     },
     "execution_count": 38,
     "metadata": {},
     "output_type": "execute_result"
    }
   ],
   "source": [
    "l_all.shape"
   ]
  },
  {
   "cell_type": "code",
   "execution_count": 39,
   "metadata": {},
   "outputs": [
    {
     "data": {
      "text/plain": [
       "array([' > 48 Months', 'No Top-up Service', '12-18 Months',\n",
       "       '36-48 Months', '18-24 Months', '24-30 Months', '30-36 Months',\n",
       "       nan], dtype=object)"
      ]
     },
     "execution_count": 39,
     "metadata": {},
     "output_type": "execute_result"
    }
   ],
   "source": [
    "l_all['Top-up Month'].unique()"
   ]
  },
  {
   "cell_type": "code",
   "execution_count": 40,
   "metadata": {},
   "outputs": [],
   "source": [
    "l_all['Top-up Month'] = np.where(l_all['Top-up Month']==' > 48 Months',0,l_all['Top-up Month'])\n",
    "l_all['Top-up Month'] = np.where(l_all['Top-up Month']=='No Top-up Service',1,l_all['Top-up Month'])\n",
    "l_all['Top-up Month'] = np.where(l_all['Top-up Month']=='12-18 Months',2,l_all['Top-up Month'])\n",
    "l_all['Top-up Month'] = np.where(l_all['Top-up Month']=='36-48 Months',3,l_all['Top-up Month'])\n",
    "l_all['Top-up Month'] = np.where(l_all['Top-up Month']=='18-24 Months',4,l_all['Top-up Month'])\n",
    "l_all['Top-up Month'] = np.where(l_all['Top-up Month']=='24-30 Months',5,l_all['Top-up Month'])\n",
    "l_all['Top-up Month'] = np.where(l_all['Top-up Month']=='30-36 Months',6,l_all['Top-up Month'])"
   ]
  },
  {
   "cell_type": "code",
   "execution_count": 41,
   "metadata": {},
   "outputs": [
    {
     "data": {
      "text/plain": [
       "dtype('float64')"
      ]
     },
     "execution_count": 41,
     "metadata": {},
     "output_type": "execute_result"
    }
   ],
   "source": [
    "l_all['Top-up Month']=pd.to_numeric(l_all['Top-up Month'],errors='coerce')\n",
    "l_all['Top-up Month'].dtypes"
   ]
  },
  {
   "cell_type": "code",
   "execution_count": 42,
   "metadata": {},
   "outputs": [],
   "source": [
    "ld_train=l_all[l_all['data']=='train']\n",
    "del ld_train['data']\n",
    "ld_test=l_all[l_all['data']=='test']\n",
    "ld_test.drop(['Top-up Month','data'],axis=1,inplace=True)"
   ]
  },
  {
   "cell_type": "code",
   "execution_count": 43,
   "metadata": {},
   "outputs": [
    {
     "data": {
      "text/plain": [
       "((128655, 230), (14745, 229))"
      ]
     },
     "execution_count": 43,
     "metadata": {},
     "output_type": "execute_result"
    }
   ],
   "source": [
    "ld_train.shape, ld_test.shape"
   ]
  },
  {
   "cell_type": "code",
   "execution_count": 44,
   "metadata": {},
   "outputs": [],
   "source": [
    "from sklearn.model_selection import train_test_split"
   ]
  },
  {
   "cell_type": "code",
   "execution_count": 45,
   "metadata": {},
   "outputs": [],
   "source": [
    "ld_train1,ld_train2=train_test_split(ld_train,test_size=0.2,random_state=2)"
   ]
  },
  {
   "cell_type": "code",
   "execution_count": 46,
   "metadata": {},
   "outputs": [],
   "source": [
    "x_train1=ld_train1.drop('Top-up Month',axis=1)\n",
    "y_train1=ld_train1['Top-up Month']"
   ]
  },
  {
   "cell_type": "markdown",
   "metadata": {},
   "source": [
    "# XGboost Classifier"
   ]
  },
  {
   "cell_type": "code",
   "execution_count": 47,
   "metadata": {},
   "outputs": [],
   "source": [
    "from xgboost import XGBClassifier, plot_importance\n"
   ]
  },
  {
   "cell_type": "code",
   "execution_count": 49,
   "metadata": {},
   "outputs": [],
   "source": [
    "clf  = XGBClassifier(max_depth = 10,random_state = 10, n_estimators=220, eval_metric = 'auc', min_child_weight = 3,\n",
    "                    colsample_bytree = 0.75, subsample= 0.9)\n",
    "\n",
    "\n"
   ]
  },
  {
   "cell_type": "code",
   "execution_count": 50,
   "metadata": {},
   "outputs": [],
   "source": [
    "# clf.fit(x_train1, y_train1)\n",
    "# x_train2=ld_train2.drop('Top-up Month',axis=1)\n",
    "# predicted_XG=clf.predict(x_train2)\n",
    "# predicted_XG\n",
    "# accuracy = clf.score(x_train1,y_train1)\n",
    "# print(accuracy*100,'%')\n"
   ]
  },
  {
   "cell_type": "code",
   "execution_count": 51,
   "metadata": {},
   "outputs": [],
   "source": [
    "x_train=ld_train.drop('Top-up Month',axis=1)\n",
    "y_train=ld_train['Top-up Month']"
   ]
  },
  {
   "cell_type": "code",
   "execution_count": 52,
   "metadata": {},
   "outputs": [
    {
     "data": {
      "text/plain": [
       "((128655, 229), (128655,), (14745, 229))"
      ]
     },
     "execution_count": 52,
     "metadata": {},
     "output_type": "execute_result"
    }
   ],
   "source": [
    "x_train.shape, y_train.shape, ld_test.shape\n",
    "\n"
   ]
  },
  {
   "cell_type": "code",
   "execution_count": 53,
   "metadata": {},
   "outputs": [
    {
     "data": {
      "text/plain": [
       "XGBClassifier(base_score=0.5, booster=None, colsample_bylevel=1,\n",
       "              colsample_bynode=1, colsample_bytree=0.75, eval_metric='auc',\n",
       "              gamma=0, gpu_id=-1, importance_type='gain',\n",
       "              interaction_constraints=None, learning_rate=0.300000012,\n",
       "              max_delta_step=0, max_depth=10, min_child_weight=3, missing=nan,\n",
       "              monotone_constraints=None, n_estimators=220, n_jobs=0,\n",
       "              num_parallel_tree=1, objective='multi:softprob', random_state=10,\n",
       "              reg_alpha=0, reg_lambda=1, scale_pos_weight=None, subsample=0.9,\n",
       "              tree_method=None, validate_parameters=False, verbosity=None)"
      ]
     },
     "execution_count": 53,
     "metadata": {},
     "output_type": "execute_result"
    }
   ],
   "source": [
    "clf.fit(x_train,y_train)"
   ]
  },
  {
   "cell_type": "code",
   "execution_count": 54,
   "metadata": {},
   "outputs": [],
   "source": [
    "test_pred_XG = clf.predict(ld_test) "
   ]
  },
  {
   "cell_type": "code",
   "execution_count": 55,
   "metadata": {},
   "outputs": [
    {
     "data": {
      "text/plain": [
       "(14745,)"
      ]
     },
     "execution_count": 55,
     "metadata": {},
     "output_type": "execute_result"
    }
   ],
   "source": [
    "test_pred_XG.shape"
   ]
  },
  {
   "cell_type": "code",
   "execution_count": 56,
   "metadata": {},
   "outputs": [
    {
     "data": {
      "text/html": [
       "<div>\n",
       "<style scoped>\n",
       "    .dataframe tbody tr th:only-of-type {\n",
       "        vertical-align: middle;\n",
       "    }\n",
       "\n",
       "    .dataframe tbody tr th {\n",
       "        vertical-align: top;\n",
       "    }\n",
       "\n",
       "    .dataframe thead th {\n",
       "        text-align: right;\n",
       "    }\n",
       "</style>\n",
       "<table border=\"1\" class=\"dataframe\">\n",
       "  <thead>\n",
       "    <tr style=\"text-align: right;\">\n",
       "      <th></th>\n",
       "      <th>ID</th>\n",
       "      <th>Top-up Month</th>\n",
       "    </tr>\n",
       "  </thead>\n",
       "  <tbody>\n",
       "    <tr>\n",
       "      <td>0</td>\n",
       "      <td>4</td>\n",
       "      <td>36-48 Months</td>\n",
       "    </tr>\n",
       "    <tr>\n",
       "      <td>1</td>\n",
       "      <td>5</td>\n",
       "      <td>18-24 Months</td>\n",
       "    </tr>\n",
       "    <tr>\n",
       "      <td>2</td>\n",
       "      <td>6</td>\n",
       "      <td>30-36 Months</td>\n",
       "    </tr>\n",
       "    <tr>\n",
       "      <td>3</td>\n",
       "      <td>25</td>\n",
       "      <td>30-36 Months</td>\n",
       "    </tr>\n",
       "    <tr>\n",
       "      <td>4</td>\n",
       "      <td>119</td>\n",
       "      <td>30-36 Months</td>\n",
       "    </tr>\n",
       "  </tbody>\n",
       "</table>\n",
       "</div>"
      ],
      "text/plain": [
       "    ID  Top-up Month\n",
       "0    4  36-48 Months\n",
       "1    5  18-24 Months\n",
       "2    6  30-36 Months\n",
       "3   25  30-36 Months\n",
       "4  119  30-36 Months"
      ]
     },
     "execution_count": 56,
     "metadata": {},
     "output_type": "execute_result"
    }
   ],
   "source": [
    "sample_sumbission.head()"
   ]
  },
  {
   "cell_type": "code",
   "execution_count": 57,
   "metadata": {},
   "outputs": [
    {
     "data": {
      "text/plain": [
       "array(['36-48 Months', '18-24 Months', '30-36 Months', '24-30 Months',\n",
       "       ' > 48 Months', 'No Top-up Service', '12-18 Months'], dtype=object)"
      ]
     },
     "execution_count": 57,
     "metadata": {},
     "output_type": "execute_result"
    }
   ],
   "source": [
    "sample_sumbission['Top-up Month'].unique()"
   ]
  },
  {
   "cell_type": "code",
   "execution_count": 58,
   "metadata": {},
   "outputs": [],
   "source": [
    "submission_XGB5 = pd.DataFrame({\n",
    "    'ID':sample_sumbission['ID'],\n",
    "    'Top-up Month':test_pred_XG\n",
    "})"
   ]
  },
  {
   "cell_type": "code",
   "execution_count": 59,
   "metadata": {},
   "outputs": [
    {
     "data": {
      "text/plain": [
       "array([1., 0., 3., 6., 5., 4.])"
      ]
     },
     "execution_count": 59,
     "metadata": {},
     "output_type": "execute_result"
    }
   ],
   "source": [
    "submission_XGB5['Top-up Month'].unique()"
   ]
  },
  {
   "cell_type": "code",
   "execution_count": 60,
   "metadata": {},
   "outputs": [
    {
     "data": {
      "text/html": [
       "<div>\n",
       "<style scoped>\n",
       "    .dataframe tbody tr th:only-of-type {\n",
       "        vertical-align: middle;\n",
       "    }\n",
       "\n",
       "    .dataframe tbody tr th {\n",
       "        vertical-align: top;\n",
       "    }\n",
       "\n",
       "    .dataframe thead th {\n",
       "        text-align: right;\n",
       "    }\n",
       "</style>\n",
       "<table border=\"1\" class=\"dataframe\">\n",
       "  <thead>\n",
       "    <tr style=\"text-align: right;\">\n",
       "      <th></th>\n",
       "      <th>ID</th>\n",
       "      <th>Top-up Month</th>\n",
       "    </tr>\n",
       "  </thead>\n",
       "  <tbody>\n",
       "    <tr>\n",
       "      <td>0</td>\n",
       "      <td>4</td>\n",
       "      <td>1.0</td>\n",
       "    </tr>\n",
       "    <tr>\n",
       "      <td>1</td>\n",
       "      <td>5</td>\n",
       "      <td>1.0</td>\n",
       "    </tr>\n",
       "    <tr>\n",
       "      <td>2</td>\n",
       "      <td>6</td>\n",
       "      <td>1.0</td>\n",
       "    </tr>\n",
       "    <tr>\n",
       "      <td>3</td>\n",
       "      <td>25</td>\n",
       "      <td>1.0</td>\n",
       "    </tr>\n",
       "    <tr>\n",
       "      <td>4</td>\n",
       "      <td>119</td>\n",
       "      <td>1.0</td>\n",
       "    </tr>\n",
       "  </tbody>\n",
       "</table>\n",
       "</div>"
      ],
      "text/plain": [
       "    ID  Top-up Month\n",
       "0    4           1.0\n",
       "1    5           1.0\n",
       "2    6           1.0\n",
       "3   25           1.0\n",
       "4  119           1.0"
      ]
     },
     "execution_count": 60,
     "metadata": {},
     "output_type": "execute_result"
    }
   ],
   "source": [
    "submission_XGB5.head()"
   ]
  },
  {
   "cell_type": "code",
   "execution_count": 61,
   "metadata": {},
   "outputs": [
    {
     "data": {
      "text/plain": [
       "array([1., 0., 3., 6., 5., 4.])"
      ]
     },
     "execution_count": 61,
     "metadata": {},
     "output_type": "execute_result"
    }
   ],
   "source": [
    "submission_XGB5['Top-up Month'].unique()"
   ]
  },
  {
   "cell_type": "code",
   "execution_count": 62,
   "metadata": {},
   "outputs": [],
   "source": [
    "submission_XGB5['Top-up Month'] = np.where(submission_XGB5['Top-up Month']==0.0,' > 48 Months',submission_XGB5['Top-up Month'])\n",
    "submission_XGB5['Top-up Month'] = np.where(submission_XGB5['Top-up Month']=='1.0','No Top-up Service',submission_XGB5['Top-up Month'])\n",
    "submission_XGB5['Top-up Month'] = np.where(submission_XGB5['Top-up Month']=='2.0','12-18 Months',submission_XGB5['Top-up Month'])\n",
    "submission_XGB5['Top-up Month'] = np.where(submission_XGB5['Top-up Month']=='3.0','36-48 Months',submission_XGB5['Top-up Month'])\n",
    "submission_XGB5['Top-up Month'] = np.where(submission_XGB5['Top-up Month']=='4.0','18-24 Months',submission_XGB5['Top-up Month'])\n",
    "submission_XGB5['Top-up Month'] = np.where(submission_XGB5['Top-up Month']=='5.0','24-30 Months',submission_XGB5['Top-up Month'])\n",
    "submission_XGB5['Top-up Month'] = np.where(submission_XGB5['Top-up Month']=='6.0','30-36 Months',submission_XGB5['Top-up Month'])\n"
   ]
  },
  {
   "cell_type": "code",
   "execution_count": 63,
   "metadata": {},
   "outputs": [
    {
     "data": {
      "text/html": [
       "<div>\n",
       "<style scoped>\n",
       "    .dataframe tbody tr th:only-of-type {\n",
       "        vertical-align: middle;\n",
       "    }\n",
       "\n",
       "    .dataframe tbody tr th {\n",
       "        vertical-align: top;\n",
       "    }\n",
       "\n",
       "    .dataframe thead th {\n",
       "        text-align: right;\n",
       "    }\n",
       "</style>\n",
       "<table border=\"1\" class=\"dataframe\">\n",
       "  <thead>\n",
       "    <tr style=\"text-align: right;\">\n",
       "      <th></th>\n",
       "      <th>ID</th>\n",
       "      <th>Top-up Month</th>\n",
       "    </tr>\n",
       "  </thead>\n",
       "  <tbody>\n",
       "    <tr>\n",
       "      <td>0</td>\n",
       "      <td>4</td>\n",
       "      <td>No Top-up Service</td>\n",
       "    </tr>\n",
       "    <tr>\n",
       "      <td>1</td>\n",
       "      <td>5</td>\n",
       "      <td>No Top-up Service</td>\n",
       "    </tr>\n",
       "    <tr>\n",
       "      <td>2</td>\n",
       "      <td>6</td>\n",
       "      <td>No Top-up Service</td>\n",
       "    </tr>\n",
       "    <tr>\n",
       "      <td>3</td>\n",
       "      <td>25</td>\n",
       "      <td>No Top-up Service</td>\n",
       "    </tr>\n",
       "    <tr>\n",
       "      <td>4</td>\n",
       "      <td>119</td>\n",
       "      <td>No Top-up Service</td>\n",
       "    </tr>\n",
       "  </tbody>\n",
       "</table>\n",
       "</div>"
      ],
      "text/plain": [
       "    ID       Top-up Month\n",
       "0    4  No Top-up Service\n",
       "1    5  No Top-up Service\n",
       "2    6  No Top-up Service\n",
       "3   25  No Top-up Service\n",
       "4  119  No Top-up Service"
      ]
     },
     "execution_count": 63,
     "metadata": {},
     "output_type": "execute_result"
    }
   ],
   "source": [
    "submission_XGB5.head()"
   ]
  },
  {
   "cell_type": "code",
   "execution_count": 64,
   "metadata": {},
   "outputs": [],
   "source": [
    "submission_XGB5.to_csv('XGB_Final38.csv',index=False)\n"
   ]
  },
  {
   "cell_type": "markdown",
   "metadata": {},
   "source": [
    "### "
   ]
  },
  {
   "cell_type": "code",
   "execution_count": 65,
   "metadata": {},
   "outputs": [
    {
     "data": {
      "text/plain": [
       "XGBClassifier(base_score=0.5, booster=None, colsample_bylevel=1,\n",
       "              colsample_bynode=1, colsample_bytree=0.75, eval_metric='auc',\n",
       "              gamma=0, gpu_id=-1, importance_type='gain',\n",
       "              interaction_constraints=None, learning_rate=0.300000012,\n",
       "              max_delta_step=0, max_depth=12, min_child_weight=3, missing=nan,\n",
       "              monotone_constraints=None, n_estimators=100, n_jobs=0,\n",
       "              num_parallel_tree=1, objective='multi:softprob', random_state=7,\n",
       "              reg_alpha=0, reg_lambda=1, scale_pos_weight=None, subsample=0.8,\n",
       "              tree_method=None, validate_parameters=False, verbosity=None)"
      ]
     },
     "execution_count": 65,
     "metadata": {},
     "output_type": "execute_result"
    }
   ],
   "source": [
    "clf = XGBClassifier(max_depth = 12,random_state=7, n_estimators=100, eval_metric = 'auc', min_child_weight = 3,\n",
    "                    colsample_bytree = 0.75, subsample= 0.8)\n",
    "clf.fit(x_train, y_train)"
   ]
  },
  {
   "cell_type": "code",
   "execution_count": 66,
   "metadata": {},
   "outputs": [],
   "source": [
    "test_pred_XG39=clf.predict(ld_test)"
   ]
  },
  {
   "cell_type": "code",
   "execution_count": 67,
   "metadata": {},
   "outputs": [],
   "source": [
    "test_pred_XG39=clf.predict(ld_test)"
   ]
  },
  {
   "cell_type": "code",
   "execution_count": 68,
   "metadata": {},
   "outputs": [
    {
     "name": "stdout",
     "output_type": "stream",
     "text": [
      "97.17072791574365 %\n"
     ]
    }
   ],
   "source": [
    "accuracy = clf.score(x_train,y_train)\n",
    "print(accuracy*100,'%')\n"
   ]
  },
  {
   "cell_type": "code",
   "execution_count": 69,
   "metadata": {},
   "outputs": [],
   "source": [
    "submission_XGB6 = pd.DataFrame({\n",
    "    'ID':sample_sumbission['ID'],\n",
    "    'Top-up Month':test_pred_XG39\n",
    "})"
   ]
  },
  {
   "cell_type": "code",
   "execution_count": 70,
   "metadata": {},
   "outputs": [],
   "source": [
    "submission_XGB6['Top-up Month'] = np.where(submission_XGB6['Top-up Month']==0.0,' > 48 Months',submission_XGB6['Top-up Month'])\n",
    "submission_XGB6['Top-up Month'] = np.where(submission_XGB6['Top-up Month']=='1.0','No Top-up Service',submission_XGB6['Top-up Month'])\n",
    "submission_XGB6['Top-up Month'] = np.where(submission_XGB6['Top-up Month']=='2.0','12-18 Months',submission_XGB6['Top-up Month'])\n",
    "submission_XGB6['Top-up Month'] = np.where(submission_XGB6['Top-up Month']=='3.0','36-48 Months',submission_XGB6['Top-up Month'])\n",
    "submission_XGB6['Top-up Month'] = np.where(submission_XGB6['Top-up Month']=='4.0','18-24 Months',submission_XGB6['Top-up Month'])\n",
    "submission_XGB6['Top-up Month'] = np.where(submission_XGB6['Top-up Month']=='5.0','24-30 Months',submission_XGB6['Top-up Month'])\n",
    "submission_XGB6['Top-up Month'] = np.where(submission_XGB6['Top-up Month']=='6.0','30-36 Months',submission_XGB6['Top-up Month'])\n"
   ]
  },
  {
   "cell_type": "code",
   "execution_count": 71,
   "metadata": {},
   "outputs": [
    {
     "data": {
      "text/html": [
       "<div>\n",
       "<style scoped>\n",
       "    .dataframe tbody tr th:only-of-type {\n",
       "        vertical-align: middle;\n",
       "    }\n",
       "\n",
       "    .dataframe tbody tr th {\n",
       "        vertical-align: top;\n",
       "    }\n",
       "\n",
       "    .dataframe thead th {\n",
       "        text-align: right;\n",
       "    }\n",
       "</style>\n",
       "<table border=\"1\" class=\"dataframe\">\n",
       "  <thead>\n",
       "    <tr style=\"text-align: right;\">\n",
       "      <th></th>\n",
       "      <th>ID</th>\n",
       "      <th>Top-up Month</th>\n",
       "    </tr>\n",
       "  </thead>\n",
       "  <tbody>\n",
       "    <tr>\n",
       "      <td>0</td>\n",
       "      <td>4</td>\n",
       "      <td>No Top-up Service</td>\n",
       "    </tr>\n",
       "    <tr>\n",
       "      <td>1</td>\n",
       "      <td>5</td>\n",
       "      <td>No Top-up Service</td>\n",
       "    </tr>\n",
       "    <tr>\n",
       "      <td>2</td>\n",
       "      <td>6</td>\n",
       "      <td>No Top-up Service</td>\n",
       "    </tr>\n",
       "    <tr>\n",
       "      <td>3</td>\n",
       "      <td>25</td>\n",
       "      <td>No Top-up Service</td>\n",
       "    </tr>\n",
       "    <tr>\n",
       "      <td>4</td>\n",
       "      <td>119</td>\n",
       "      <td>No Top-up Service</td>\n",
       "    </tr>\n",
       "  </tbody>\n",
       "</table>\n",
       "</div>"
      ],
      "text/plain": [
       "    ID       Top-up Month\n",
       "0    4  No Top-up Service\n",
       "1    5  No Top-up Service\n",
       "2    6  No Top-up Service\n",
       "3   25  No Top-up Service\n",
       "4  119  No Top-up Service"
      ]
     },
     "execution_count": 71,
     "metadata": {},
     "output_type": "execute_result"
    }
   ],
   "source": [
    "submission_XGB6.head()"
   ]
  },
  {
   "cell_type": "code",
   "execution_count": 72,
   "metadata": {},
   "outputs": [],
   "source": [
    "submission_XGB6.to_csv('XGB_Final39.csv',index=False)\n"
   ]
  },
  {
   "cell_type": "code",
   "execution_count": null,
   "metadata": {},
   "outputs": [],
   "source": []
  },
  {
   "cell_type": "markdown",
   "metadata": {},
   "source": [
    "# ANN"
   ]
  },
  {
   "cell_type": "code",
   "execution_count": 73,
   "metadata": {},
   "outputs": [
    {
     "data": {
      "text/plain": [
       "(128655,)"
      ]
     },
     "execution_count": 73,
     "metadata": {},
     "output_type": "execute_result"
    }
   ],
   "source": [
    "y_train.shape"
   ]
  },
  {
   "cell_type": "code",
   "execution_count": 74,
   "metadata": {},
   "outputs": [],
   "source": [
    "sc = StandardScaler()\n"
   ]
  },
  {
   "cell_type": "code",
   "execution_count": 75,
   "metadata": {},
   "outputs": [],
   "source": [
    "X_train = sc.fit_transform(x_train)\n",
    "X_test = sc.transform(ld_test)\n"
   ]
  },
  {
   "cell_type": "code",
   "execution_count": 76,
   "metadata": {},
   "outputs": [],
   "source": [
    "from sklearn.neural_network import MLPClassifier\n"
   ]
  },
  {
   "cell_type": "code",
   "execution_count": 77,
   "metadata": {},
   "outputs": [],
   "source": [
    "clfann = MLPClassifier(hidden_layer_sizes=100, max_iter=5000,\n",
    "                     solver='sgd', verbose=20,  random_state=21,tol=0.001)\n"
   ]
  },
  {
   "cell_type": "code",
   "execution_count": 78,
   "metadata": {},
   "outputs": [
    {
     "name": "stdout",
     "output_type": "stream",
     "text": [
      "Iteration 1, loss = 0.87983061\n",
      "Iteration 2, loss = 0.73138979\n",
      "Iteration 3, loss = 0.70130042\n",
      "Iteration 4, loss = 0.68512254\n",
      "Iteration 5, loss = 0.67443988\n",
      "Iteration 6, loss = 0.66664754\n",
      "Iteration 7, loss = 0.66084702\n",
      "Iteration 8, loss = 0.65611236\n",
      "Iteration 9, loss = 0.65219853\n",
      "Iteration 10, loss = 0.64882188\n",
      "Iteration 11, loss = 0.64581371\n",
      "Iteration 12, loss = 0.64323713\n",
      "Iteration 13, loss = 0.64090039\n",
      "Iteration 14, loss = 0.63876683\n",
      "Iteration 15, loss = 0.63683092\n",
      "Iteration 16, loss = 0.63513358\n",
      "Iteration 17, loss = 0.63354862\n",
      "Iteration 18, loss = 0.63205644\n",
      "Iteration 19, loss = 0.63060743\n",
      "Iteration 20, loss = 0.62933418\n",
      "Iteration 21, loss = 0.62807703\n",
      "Iteration 22, loss = 0.62689399\n",
      "Iteration 23, loss = 0.62580258\n",
      "Iteration 24, loss = 0.62473594\n",
      "Iteration 25, loss = 0.62371175\n",
      "Iteration 26, loss = 0.62266208\n",
      "Iteration 27, loss = 0.62183788\n",
      "Iteration 28, loss = 0.62089266\n",
      "Iteration 29, loss = 0.61999644\n",
      "Iteration 30, loss = 0.61917232\n",
      "Iteration 31, loss = 0.61834207\n",
      "Iteration 32, loss = 0.61758522\n",
      "Iteration 33, loss = 0.61688550\n",
      "Iteration 34, loss = 0.61605478\n",
      "Iteration 35, loss = 0.61532656\n",
      "Iteration 36, loss = 0.61464220\n",
      "Iteration 37, loss = 0.61402653\n",
      "Training loss did not improve more than tol=0.001000 for 10 consecutive epochs. Stopping.\n"
     ]
    },
    {
     "data": {
      "text/plain": [
       "MLPClassifier(activation='relu', alpha=0.0001, batch_size='auto', beta_1=0.9,\n",
       "              beta_2=0.999, early_stopping=False, epsilon=1e-08,\n",
       "              hidden_layer_sizes=100, learning_rate='constant',\n",
       "              learning_rate_init=0.001, max_fun=15000, max_iter=5000,\n",
       "              momentum=0.9, n_iter_no_change=10, nesterovs_momentum=True,\n",
       "              power_t=0.5, random_state=21, shuffle=True, solver='sgd',\n",
       "              tol=0.001, validation_fraction=0.1, verbose=20, warm_start=False)"
      ]
     },
     "execution_count": 78,
     "metadata": {},
     "output_type": "execute_result"
    }
   ],
   "source": [
    "clfann.fit(X_train, y_train)\n"
   ]
  },
  {
   "cell_type": "code",
   "execution_count": 79,
   "metadata": {},
   "outputs": [],
   "source": [
    "test_pred_ANN = clfann.predict(ld_test)\n"
   ]
  },
  {
   "cell_type": "code",
   "execution_count": 80,
   "metadata": {},
   "outputs": [],
   "source": [
    "submission_clfann = pd.DataFrame({\n",
    "    'ID':sample_sumbission['ID'],\n",
    "    'Top-up Month':test_pred_ANN\n",
    "})"
   ]
  },
  {
   "cell_type": "code",
   "execution_count": 81,
   "metadata": {},
   "outputs": [],
   "source": [
    "submission_clfann['Top-up Month'] = np.where(submission_clfann['Top-up Month']==0.0,' > 48 Months',submission_clfann['Top-up Month'])\n",
    "submission_clfann['Top-up Month'] = np.where(submission_clfann['Top-up Month']=='1.0','No Top-up Service',submission_clfann['Top-up Month'])\n",
    "submission_clfann['Top-up Month'] = np.where(submission_clfann['Top-up Month']=='2.0','12-18 Months',submission_clfann['Top-up Month'])\n",
    "submission_clfann['Top-up Month'] = np.where(submission_clfann['Top-up Month']=='3.0','36-48 Months',submission_clfann['Top-up Month'])\n",
    "submission_clfann['Top-up Month'] = np.where(submission_clfann['Top-up Month']=='4.0','18-24 Months',submission_clfann['Top-up Month'])\n",
    "submission_clfann['Top-up Month'] = np.where(submission_clfann['Top-up Month']=='5.0','24-30 Months',submission_clfann['Top-up Month'])\n",
    "submission_clfann['Top-up Month'] = np.where(submission_clfann['Top-up Month']=='6.0','30-36 Months',submission_clfann['Top-up Month'])\n"
   ]
  },
  {
   "cell_type": "code",
   "execution_count": 82,
   "metadata": {},
   "outputs": [
    {
     "data": {
      "text/html": [
       "<div>\n",
       "<style scoped>\n",
       "    .dataframe tbody tr th:only-of-type {\n",
       "        vertical-align: middle;\n",
       "    }\n",
       "\n",
       "    .dataframe tbody tr th {\n",
       "        vertical-align: top;\n",
       "    }\n",
       "\n",
       "    .dataframe thead th {\n",
       "        text-align: right;\n",
       "    }\n",
       "</style>\n",
       "<table border=\"1\" class=\"dataframe\">\n",
       "  <thead>\n",
       "    <tr style=\"text-align: right;\">\n",
       "      <th></th>\n",
       "      <th>ID</th>\n",
       "      <th>Top-up Month</th>\n",
       "    </tr>\n",
       "  </thead>\n",
       "  <tbody>\n",
       "    <tr>\n",
       "      <td>0</td>\n",
       "      <td>4</td>\n",
       "      <td>No Top-up Service</td>\n",
       "    </tr>\n",
       "    <tr>\n",
       "      <td>1</td>\n",
       "      <td>5</td>\n",
       "      <td>No Top-up Service</td>\n",
       "    </tr>\n",
       "    <tr>\n",
       "      <td>2</td>\n",
       "      <td>6</td>\n",
       "      <td>No Top-up Service</td>\n",
       "    </tr>\n",
       "    <tr>\n",
       "      <td>3</td>\n",
       "      <td>25</td>\n",
       "      <td>No Top-up Service</td>\n",
       "    </tr>\n",
       "    <tr>\n",
       "      <td>4</td>\n",
       "      <td>119</td>\n",
       "      <td>No Top-up Service</td>\n",
       "    </tr>\n",
       "  </tbody>\n",
       "</table>\n",
       "</div>"
      ],
      "text/plain": [
       "    ID       Top-up Month\n",
       "0    4  No Top-up Service\n",
       "1    5  No Top-up Service\n",
       "2    6  No Top-up Service\n",
       "3   25  No Top-up Service\n",
       "4  119  No Top-up Service"
      ]
     },
     "execution_count": 82,
     "metadata": {},
     "output_type": "execute_result"
    }
   ],
   "source": [
    "submission_clfann.head()"
   ]
  },
  {
   "cell_type": "code",
   "execution_count": 83,
   "metadata": {},
   "outputs": [],
   "source": [
    "submission_clfann.to_csv('ANN_Final40.csv',index=False)\n"
   ]
  },
  {
   "cell_type": "code",
   "execution_count": 84,
   "metadata": {},
   "outputs": [],
   "source": [
    "from sklearn.metrics import confusion_matrix,classification_report\n"
   ]
  },
  {
   "cell_type": "code",
   "execution_count": 85,
   "metadata": {},
   "outputs": [
    {
     "data": {
      "text/plain": [
       "0.829684038708173"
      ]
     },
     "execution_count": 85,
     "metadata": {},
     "output_type": "execute_result"
    }
   ],
   "source": [
    "clfann.score(X_train,y_train)\n"
   ]
  },
  {
   "cell_type": "markdown",
   "metadata": {},
   "source": [
    "# SVM"
   ]
  },
  {
   "cell_type": "code",
   "execution_count": 98,
   "metadata": {},
   "outputs": [],
   "source": [
    "from sklearn.svm import SVC\n",
    "SVC = SVC(kernel = 'poly').fit(x_train, y_train)\n",
    "\n"
   ]
  },
  {
   "cell_type": "code",
   "execution_count": 99,
   "metadata": {},
   "outputs": [
    {
     "name": "stdout",
     "output_type": "stream",
     "text": [
      "82.9171038824764 %\n"
     ]
    }
   ],
   "source": [
    "accuracy = SVC.score(x_train,y_train)\n",
    "print(accuracy*100,'%')"
   ]
  },
  {
   "cell_type": "code",
   "execution_count": 100,
   "metadata": {},
   "outputs": [],
   "source": [
    "test_pred_SVC = SVC.predict(ld_test)"
   ]
  },
  {
   "cell_type": "code",
   "execution_count": 101,
   "metadata": {},
   "outputs": [],
   "source": [
    "submission_SVM = pd.DataFrame({\n",
    "    'ID':sample_sumbission['ID'],\n",
    "    'Top-up Month':test_pred_SVC\n",
    "})"
   ]
  },
  {
   "cell_type": "code",
   "execution_count": 102,
   "metadata": {},
   "outputs": [],
   "source": [
    "submission_SVM['Top-up Month'] = np.where(submission_SVM['Top-up Month']==0.0,' > 48 Months',submission_SVM['Top-up Month'])\n",
    "submission_SVM['Top-up Month'] = np.where(submission_SVM['Top-up Month']=='1.0','No Top-up Service',submission_SVM['Top-up Month'])\n",
    "submission_SVM['Top-up Month'] = np.where(submission_SVM['Top-up Month']=='2.0','12-18 Months',submission_SVM['Top-up Month'])\n",
    "submission_SVM['Top-up Month'] = np.where(submission_SVM['Top-up Month']=='3.0','36-48 Months',submission_SVM['Top-up Month'])\n",
    "submission_SVM['Top-up Month'] = np.where(submission_SVM['Top-up Month']=='4.0','18-24 Months',submission_SVM['Top-up Month'])\n",
    "submission_SVM['Top-up Month'] = np.where(submission_SVM['Top-up Month']=='5.0','24-30 Months',submission_SVM['Top-up Month'])\n",
    "submission_SVM['Top-up Month'] = np.where(submission_SVM['Top-up Month']=='6.0','30-36 Months',submission_SVM['Top-up Month'])\n"
   ]
  },
  {
   "cell_type": "code",
   "execution_count": 104,
   "metadata": {},
   "outputs": [],
   "source": [
    "\n",
    "submission_SVM.to_csv('SVC_Final41.csv',index=False)\n"
   ]
  },
  {
   "cell_type": "markdown",
   "metadata": {},
   "source": [
    "# KNN"
   ]
  },
  {
   "cell_type": "code",
   "execution_count": 105,
   "metadata": {},
   "outputs": [],
   "source": [
    "from sklearn.neighbors import KNeighborsClassifier\n"
   ]
  },
  {
   "cell_type": "code",
   "execution_count": 106,
   "metadata": {},
   "outputs": [
    {
     "data": {
      "text/plain": [
       "KNeighborsClassifier(algorithm='auto', leaf_size=30, metric='minkowski',\n",
       "                     metric_params=None, n_jobs=None, n_neighbors=10, p=2,\n",
       "                     weights='uniform')"
      ]
     },
     "execution_count": 106,
     "metadata": {},
     "output_type": "execute_result"
    }
   ],
   "source": [
    "KNN = KNeighborsClassifier(n_neighbors=10)\n",
    "KNN.fit(x_train, y_train)\n",
    "\n"
   ]
  },
  {
   "cell_type": "code",
   "execution_count": 107,
   "metadata": {},
   "outputs": [
    {
     "name": "stdout",
     "output_type": "stream",
     "text": [
      "82.97073568846916 %\n"
     ]
    }
   ],
   "source": [
    "accuracy = KNN.score(x_train,y_train)\n",
    "print(accuracy*100,'%')"
   ]
  },
  {
   "cell_type": "code",
   "execution_count": 108,
   "metadata": {},
   "outputs": [],
   "source": [
    "test_pred_KNN = KNN.predict(ld_test)"
   ]
  },
  {
   "cell_type": "code",
   "execution_count": 109,
   "metadata": {},
   "outputs": [],
   "source": [
    "submission_KNN = pd.DataFrame({\n",
    "    'ID':sample_sumbission['ID'],\n",
    "    'Top-up Month':test_pred_KNN\n",
    "})"
   ]
  },
  {
   "cell_type": "code",
   "execution_count": 110,
   "metadata": {},
   "outputs": [],
   "source": [
    "submission_KNN['Top-up Month'] = np.where(submission_KNN['Top-up Month']==0.0,' > 48 Months',submission_KNN['Top-up Month'])\n",
    "submission_KNN['Top-up Month'] = np.where(submission_KNN['Top-up Month']=='1.0','No Top-up Service',submission_SVM['Top-up Month'])\n",
    "submission_KNN['Top-up Month'] = np.where(submission_KNN['Top-up Month']=='2.0','12-18 Months',submission_KNN['Top-up Month'])\n",
    "submission_KNN['Top-up Month'] = np.where(submission_KNN['Top-up Month']=='3.0','36-48 Months',submission_KNN['Top-up Month'])\n",
    "submission_KNN['Top-up Month'] = np.where(submission_KNN['Top-up Month']=='4.0','18-24 Months',submission_KNN['Top-up Month'])\n",
    "submission_KNN['Top-up Month'] = np.where(submission_KNN['Top-up Month']=='5.0','24-30 Months',submission_KNN['Top-up Month'])\n",
    "submission_KNN['Top-up Month'] = np.where(submission_KNN['Top-up Month']=='6.0','30-36 Months',submission_KNN['Top-up Month'])\n"
   ]
  },
  {
   "cell_type": "code",
   "execution_count": 111,
   "metadata": {},
   "outputs": [],
   "source": [
    "submission_KNN.to_csv('KNN_Final42.csv',index=False)\n"
   ]
  },
  {
   "cell_type": "markdown",
   "metadata": {},
   "source": [
    "# Random Search CV"
   ]
  },
  {
   "cell_type": "code",
   "execution_count": 112,
   "metadata": {},
   "outputs": [],
   "source": [
    "import pandas as pd\n",
    "import numpy as np\n",
    "from sklearn.model_selection import RandomizedSearchCV\n",
    "from sklearn.ensemble import GradientBoostingClassifier\n",
    "from xgboost.sklearn import XGBClassifier"
   ]
  },
  {
   "cell_type": "code",
   "execution_count": 113,
   "metadata": {},
   "outputs": [],
   "source": [
    "xgb_params = {  \n",
    "                \"learning_rate\":[0.01,0.05,0.1,0.3,0.5],\n",
    "                \"gamma\":[i/10.0 for i in range(0,5)],\n",
    "                \"max_depth\": [2,3,4,5,6,7,8],\n",
    "                \"min_child_weight\":[1,2,5,10],\n",
    "                \"max_delta_step\":[0,1,2,5,10],\n",
    "                \"subsample\":[i/10.0 for i in range(5,10)],\n",
    "                \"colsample_bytree\":[i/10.0 for i in range(5,10)],\n",
    "                \"colsample_bylevel\":[i/10.0 for i in range(5,10)],\n",
    "                \"reg_lambda\":[1e-5, 1e-2, 0.1, 1, 100], \n",
    "                \"reg_alpha\":[1e-5, 1e-2, 0.1, 1, 100],\n",
    "                \"scale_pos_weight\":[1,2,3,4,5,6,7,8,9],\n",
    "                \"n_estimators\":[100,500,700,1000]\n",
    "             }"
   ]
  },
  {
   "cell_type": "code",
   "execution_count": 115,
   "metadata": {},
   "outputs": [],
   "source": [
    "xgb=XGBClassifier()"
   ]
  },
  {
   "cell_type": "code",
   "execution_count": 117,
   "metadata": {},
   "outputs": [],
   "source": [
    "n_iter=10\n",
    "\n",
    "random_search=RandomizedSearchCV(xgb,n_jobs=-1,cv=5,n_iter=n_iter,scoring='roc_auc',\n",
    "                                 param_distributions=xgb_params,verbose=20)"
   ]
  },
  {
   "cell_type": "code",
   "execution_count": null,
   "metadata": {},
   "outputs": [
    {
     "name": "stdout",
     "output_type": "stream",
     "text": [
      "Fitting 5 folds for each of 10 candidates, totalling 50 fits\n"
     ]
    },
    {
     "name": "stderr",
     "output_type": "stream",
     "text": [
      "[Parallel(n_jobs=-1)]: Using backend LokyBackend with 8 concurrent workers.\n"
     ]
    }
   ],
   "source": [
    "random_search.fit(x_train,y_train)"
   ]
  },
  {
   "cell_type": "code",
   "execution_count": null,
   "metadata": {},
   "outputs": [],
   "source": []
  }
 ],
 "metadata": {
  "kernelspec": {
   "display_name": "Python 3",
   "language": "python",
   "name": "python3"
  },
  "language_info": {
   "codemirror_mode": {
    "name": "ipython",
    "version": 3
   },
   "file_extension": ".py",
   "mimetype": "text/x-python",
   "name": "python",
   "nbconvert_exporter": "python",
   "pygments_lexer": "ipython3",
   "version": "3.7.4"
  }
 },
 "nbformat": 4,
 "nbformat_minor": 2
}
